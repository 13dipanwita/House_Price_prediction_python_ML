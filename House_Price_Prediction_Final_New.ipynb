{
 "cells": [
  {
   "cell_type": "code",
   "execution_count": 1,
   "metadata": {
    "colab": {
     "base_uri": "https://localhost:8080/"
    },
    "id": "vQa8HjI6Q0PB",
    "outputId": "8349c4ae-d525-4497-ebb6-d72e6c59a031"
   },
   "outputs": [],
   "source": [
    "# !sudo apt update\n",
    "# !apt-get install openjdk-8-jdk-headless -qq > /dev/null\n",
    "# !wget -q https://archive.apache.org/dist/spark/spark-3.2.1/spark-3.2.1-bin-hadoop3.2.tgz\n",
    "# !tar xf spark-3.2.1-bin-hadoop3.2.tgz\n",
    "# !pip install -q findspark\n",
    "# !pip install pyspark"
   ]
  },
  {
   "cell_type": "code",
   "execution_count": 2,
   "metadata": {
    "id": "0rj5EXpTRMZc"
   },
   "outputs": [],
   "source": [
    "# import os\n",
    "# os.environ[\"JAVA_HOME\"] = \"/usr/lib/jvm/java-8-openjdk-amd64\"\n",
    "# os.environ[\"SPARK_HOME\"] = \"/content/spark-3.2.1-bin-hadoop3.2\"\n"
   ]
  },
  {
   "cell_type": "code",
   "execution_count": 1,
   "metadata": {
    "id": "VUIsHC4pSQQ3"
   },
   "outputs": [],
   "source": [
    "# import findspark\n",
    "# findspark.init()\n",
    "# findspark.find()\n",
    "import pyspark\n",
    "from pyspark.sql import DataFrame, SparkSession\n",
    "from typing import List\n",
    "import pyspark.sql.types as T\n",
    "import pyspark.sql.functions as F\n"
   ]
  },
  {
   "cell_type": "code",
   "execution_count": 2,
   "metadata": {
    "colab": {
     "base_uri": "https://localhost:8080/",
     "height": 219
    },
    "id": "nSIs3_5qTfjc",
    "outputId": "2827f081-cf9b-467d-81c1-a2f256857ed3"
   },
   "outputs": [
    {
     "data": {
      "text/html": [
       "\n",
       "            <div>\n",
       "                <p><b>SparkSession - in-memory</b></p>\n",
       "                \n",
       "        <div>\n",
       "            <p><b>SparkContext</b></p>\n",
       "\n",
       "            <p><a href=\"http://6dba3a8c1e6e:4040\">Spark UI</a></p>\n",
       "\n",
       "            <dl>\n",
       "              <dt>Version</dt>\n",
       "                <dd><code>v3.3.0</code></dd>\n",
       "              <dt>Master</dt>\n",
       "                <dd><code>local[*]</code></dd>\n",
       "              <dt>AppName</dt>\n",
       "                <dd><code>House Price Prediction</code></dd>\n",
       "            </dl>\n",
       "        </div>\n",
       "        \n",
       "            </div>\n",
       "        "
      ],
      "text/plain": [
       "<pyspark.sql.session.SparkSession at 0x7f6209f4a020>"
      ]
     },
     "execution_count": 2,
     "metadata": {},
     "output_type": "execute_result"
    }
   ],
   "source": [
    "spark = SparkSession \\\n",
    "       .builder \\\n",
    "       .appName(\"House Price Prediction\") \\\n",
    "       .getOrCreate()\n",
    "\n",
    "spark"
   ]
  },
  {
   "cell_type": "markdown",
   "metadata": {
    "id": "f2rCi4jDShl9"
   },
   "source": [
    "Read Data\n"
   ]
  },
  {
   "cell_type": "code",
   "execution_count": 3,
   "metadata": {
    "colab": {
     "base_uri": "https://localhost:8080/"
    },
    "id": "wDMZ1k38Sj9N",
    "outputId": "c617657a-e6d8-49ca-b396-add2c1962b88"
   },
   "outputs": [],
   "source": [
    "# from google.colab import drive\n",
    "# drive.mount('/content/drive')"
   ]
  },
  {
   "cell_type": "code",
   "execution_count": 4,
   "metadata": {
    "id": "YoNglubMT9mE"
   },
   "outputs": [],
   "source": [
    "file_location1 = \"train.csv\"\n",
    "file_location2 = \"test.csv\"\n",
    "file_type = \"csv\"\n",
    "\n",
    "# CSV options\n",
    "infer_schema = True\n",
    "first_row_is_header = True\n",
    "delimiter = \",\"\n",
    "\n",
    "train_df = spark.read.format(file_type) \\\n",
    "  .option(\"inferSchema\", infer_schema) \\\n",
    "  .option(\"header\", first_row_is_header) \\\n",
    "  .option(\"sep\", delimiter) \\\n",
    "  .load(file_location1)\n",
    "\n",
    "test_df = spark.read.format(file_type) \\\n",
    "  .option(\"inferSchema\", infer_schema) \\\n",
    "  .option(\"header\", first_row_is_header) \\\n",
    "  .option(\"sep\", delimiter) \\\n",
    "  .load(file_location2)"
   ]
  },
  {
   "cell_type": "code",
   "execution_count": 5,
   "metadata": {
    "colab": {
     "base_uri": "https://localhost:8080/"
    },
    "id": "oKonJdDUded3",
    "outputId": "9ac9870d-ac1c-45b5-deb4-4fc7c52e4b75"
   },
   "outputs": [
    {
     "data": {
      "text/plain": [
       "pyspark.sql.dataframe.DataFrame"
      ]
     },
     "execution_count": 5,
     "metadata": {},
     "output_type": "execute_result"
    }
   ],
   "source": [
    "type(train_df)"
   ]
  },
  {
   "cell_type": "code",
   "execution_count": 6,
   "metadata": {
    "colab": {
     "base_uri": "https://localhost:8080/"
    },
    "id": "tQMd4rJFDvXW",
    "outputId": "54920475-03db-42d3-8a12-a754d09ff8da"
   },
   "outputs": [
    {
     "name": "stdout",
     "output_type": "stream",
     "text": [
      "root\n",
      " |-- Id: integer (nullable = true)\n",
      " |-- MSSubClass: integer (nullable = true)\n",
      " |-- MSZoning: string (nullable = true)\n",
      " |-- LotFrontage: string (nullable = true)\n",
      " |-- LotArea: integer (nullable = true)\n",
      " |-- Street: string (nullable = true)\n",
      " |-- Alley: string (nullable = true)\n",
      " |-- LotShape: string (nullable = true)\n",
      " |-- LandContour: string (nullable = true)\n",
      " |-- Utilities: string (nullable = true)\n",
      " |-- LotConfig: string (nullable = true)\n",
      " |-- LandSlope: string (nullable = true)\n",
      " |-- Neighborhood: string (nullable = true)\n",
      " |-- Condition1: string (nullable = true)\n",
      " |-- Condition2: string (nullable = true)\n",
      " |-- BldgType: string (nullable = true)\n",
      " |-- HouseStyle: string (nullable = true)\n",
      " |-- OverallQual: integer (nullable = true)\n",
      " |-- OverallCond: integer (nullable = true)\n",
      " |-- YearBuilt: integer (nullable = true)\n",
      " |-- YearRemodAdd: integer (nullable = true)\n",
      " |-- RoofStyle: string (nullable = true)\n",
      " |-- RoofMatl: string (nullable = true)\n",
      " |-- Exterior1st: string (nullable = true)\n",
      " |-- Exterior2nd: string (nullable = true)\n",
      " |-- MasVnrType: string (nullable = true)\n",
      " |-- MasVnrArea: string (nullable = true)\n",
      " |-- ExterQual: string (nullable = true)\n",
      " |-- ExterCond: string (nullable = true)\n",
      " |-- Foundation: string (nullable = true)\n",
      " |-- BsmtQual: string (nullable = true)\n",
      " |-- BsmtCond: string (nullable = true)\n",
      " |-- BsmtExposure: string (nullable = true)\n",
      " |-- BsmtFinType1: string (nullable = true)\n",
      " |-- BsmtFinSF1: integer (nullable = true)\n",
      " |-- BsmtFinType2: string (nullable = true)\n",
      " |-- BsmtFinSF2: integer (nullable = true)\n",
      " |-- BsmtUnfSF: integer (nullable = true)\n",
      " |-- TotalBsmtSF: integer (nullable = true)\n",
      " |-- Heating: string (nullable = true)\n",
      " |-- HeatingQC: string (nullable = true)\n",
      " |-- CentralAir: string (nullable = true)\n",
      " |-- Electrical: string (nullable = true)\n",
      " |-- 1stFlrSF: integer (nullable = true)\n",
      " |-- 2ndFlrSF: integer (nullable = true)\n",
      " |-- LowQualFinSF: integer (nullable = true)\n",
      " |-- GrLivArea: integer (nullable = true)\n",
      " |-- BsmtFullBath: integer (nullable = true)\n",
      " |-- BsmtHalfBath: integer (nullable = true)\n",
      " |-- FullBath: integer (nullable = true)\n",
      " |-- HalfBath: integer (nullable = true)\n",
      " |-- BedroomAbvGr: integer (nullable = true)\n",
      " |-- KitchenAbvGr: integer (nullable = true)\n",
      " |-- KitchenQual: string (nullable = true)\n",
      " |-- TotRmsAbvGrd: integer (nullable = true)\n",
      " |-- Functional: string (nullable = true)\n",
      " |-- Fireplaces: integer (nullable = true)\n",
      " |-- FireplaceQu: string (nullable = true)\n",
      " |-- GarageType: string (nullable = true)\n",
      " |-- GarageYrBlt: string (nullable = true)\n",
      " |-- GarageFinish: string (nullable = true)\n",
      " |-- GarageCars: integer (nullable = true)\n",
      " |-- GarageArea: integer (nullable = true)\n",
      " |-- GarageQual: string (nullable = true)\n",
      " |-- GarageCond: string (nullable = true)\n",
      " |-- PavedDrive: string (nullable = true)\n",
      " |-- WoodDeckSF: integer (nullable = true)\n",
      " |-- OpenPorchSF: integer (nullable = true)\n",
      " |-- EnclosedPorch: integer (nullable = true)\n",
      " |-- 3SsnPorch: integer (nullable = true)\n",
      " |-- ScreenPorch: integer (nullable = true)\n",
      " |-- PoolArea: integer (nullable = true)\n",
      " |-- PoolQC: string (nullable = true)\n",
      " |-- Fence: string (nullable = true)\n",
      " |-- MiscFeature: string (nullable = true)\n",
      " |-- MiscVal: integer (nullable = true)\n",
      " |-- MoSold: integer (nullable = true)\n",
      " |-- YrSold: integer (nullable = true)\n",
      " |-- SaleType: string (nullable = true)\n",
      " |-- SaleCondition: string (nullable = true)\n",
      " |-- SalePrice: integer (nullable = true)\n",
      "\n"
     ]
    }
   ],
   "source": [
    "train_df.printSchema()"
   ]
  },
  {
   "cell_type": "code",
   "execution_count": 7,
   "metadata": {
    "colab": {
     "base_uri": "https://localhost:8080/"
    },
    "id": "4OG3aqrVDvj9",
    "outputId": "055f360c-1b67-4263-c58b-9d91c7239051"
   },
   "outputs": [
    {
     "name": "stdout",
     "output_type": "stream",
     "text": [
      "root\n",
      " |-- Id: integer (nullable = true)\n",
      " |-- MSSubClass: integer (nullable = true)\n",
      " |-- MSZoning: string (nullable = true)\n",
      " |-- LotFrontage: string (nullable = true)\n",
      " |-- LotArea: integer (nullable = true)\n",
      " |-- Street: string (nullable = true)\n",
      " |-- Alley: string (nullable = true)\n",
      " |-- LotShape: string (nullable = true)\n",
      " |-- LandContour: string (nullable = true)\n",
      " |-- Utilities: string (nullable = true)\n",
      " |-- LotConfig: string (nullable = true)\n",
      " |-- LandSlope: string (nullable = true)\n",
      " |-- Neighborhood: string (nullable = true)\n",
      " |-- Condition1: string (nullable = true)\n",
      " |-- Condition2: string (nullable = true)\n",
      " |-- BldgType: string (nullable = true)\n",
      " |-- HouseStyle: string (nullable = true)\n",
      " |-- OverallQual: integer (nullable = true)\n",
      " |-- OverallCond: integer (nullable = true)\n",
      " |-- YearBuilt: integer (nullable = true)\n",
      " |-- YearRemodAdd: integer (nullable = true)\n",
      " |-- RoofStyle: string (nullable = true)\n",
      " |-- RoofMatl: string (nullable = true)\n",
      " |-- Exterior1st: string (nullable = true)\n",
      " |-- Exterior2nd: string (nullable = true)\n",
      " |-- MasVnrType: string (nullable = true)\n",
      " |-- MasVnrArea: string (nullable = true)\n",
      " |-- ExterQual: string (nullable = true)\n",
      " |-- ExterCond: string (nullable = true)\n",
      " |-- Foundation: string (nullable = true)\n",
      " |-- BsmtQual: string (nullable = true)\n",
      " |-- BsmtCond: string (nullable = true)\n",
      " |-- BsmtExposure: string (nullable = true)\n",
      " |-- BsmtFinType1: string (nullable = true)\n",
      " |-- BsmtFinSF1: string (nullable = true)\n",
      " |-- BsmtFinType2: string (nullable = true)\n",
      " |-- BsmtFinSF2: string (nullable = true)\n",
      " |-- BsmtUnfSF: string (nullable = true)\n",
      " |-- TotalBsmtSF: string (nullable = true)\n",
      " |-- Heating: string (nullable = true)\n",
      " |-- HeatingQC: string (nullable = true)\n",
      " |-- CentralAir: string (nullable = true)\n",
      " |-- Electrical: string (nullable = true)\n",
      " |-- 1stFlrSF: integer (nullable = true)\n",
      " |-- 2ndFlrSF: integer (nullable = true)\n",
      " |-- LowQualFinSF: integer (nullable = true)\n",
      " |-- GrLivArea: integer (nullable = true)\n",
      " |-- BsmtFullBath: string (nullable = true)\n",
      " |-- BsmtHalfBath: string (nullable = true)\n",
      " |-- FullBath: integer (nullable = true)\n",
      " |-- HalfBath: integer (nullable = true)\n",
      " |-- BedroomAbvGr: integer (nullable = true)\n",
      " |-- KitchenAbvGr: integer (nullable = true)\n",
      " |-- KitchenQual: string (nullable = true)\n",
      " |-- TotRmsAbvGrd: integer (nullable = true)\n",
      " |-- Functional: string (nullable = true)\n",
      " |-- Fireplaces: integer (nullable = true)\n",
      " |-- FireplaceQu: string (nullable = true)\n",
      " |-- GarageType: string (nullable = true)\n",
      " |-- GarageYrBlt: string (nullable = true)\n",
      " |-- GarageFinish: string (nullable = true)\n",
      " |-- GarageCars: string (nullable = true)\n",
      " |-- GarageArea: string (nullable = true)\n",
      " |-- GarageQual: string (nullable = true)\n",
      " |-- GarageCond: string (nullable = true)\n",
      " |-- PavedDrive: string (nullable = true)\n",
      " |-- WoodDeckSF: integer (nullable = true)\n",
      " |-- OpenPorchSF: integer (nullable = true)\n",
      " |-- EnclosedPorch: integer (nullable = true)\n",
      " |-- 3SsnPorch: integer (nullable = true)\n",
      " |-- ScreenPorch: integer (nullable = true)\n",
      " |-- PoolArea: integer (nullable = true)\n",
      " |-- PoolQC: string (nullable = true)\n",
      " |-- Fence: string (nullable = true)\n",
      " |-- MiscFeature: string (nullable = true)\n",
      " |-- MiscVal: integer (nullable = true)\n",
      " |-- MoSold: integer (nullable = true)\n",
      " |-- YrSold: integer (nullable = true)\n",
      " |-- SaleType: string (nullable = true)\n",
      " |-- SaleCondition: string (nullable = true)\n",
      "\n"
     ]
    }
   ],
   "source": [
    "test_df.printSchema()"
   ]
  },
  {
   "cell_type": "code",
   "execution_count": 8,
   "metadata": {
    "colab": {
     "base_uri": "https://localhost:8080/"
    },
    "id": "J7hNlmNcWBIP",
    "outputId": "86894cd8-e4bb-4311-9ff6-c5c8d68b9d5f"
   },
   "outputs": [
    {
     "name": "stdout",
     "output_type": "stream",
     "text": [
      "+---+----------+--------+-----------+-------+------+-----+--------+-----------+---------+---------+---------+------------+----------+----------+--------+----------+-----------+-----------+---------+------------+---------+--------+-----------+-----------+----------+----------+---------+---------+----------+--------+--------+------------+------------+----------+------------+----------+---------+-----------+-------+---------+----------+----------+--------+--------+------------+---------+------------+------------+--------+--------+------------+------------+-----------+------------+----------+----------+-----------+----------+-----------+------------+----------+----------+----------+----------+----------+----------+-----------+-------------+---------+-----------+--------+------+-----+-----------+-------+------+------+--------+-------------+---------+\n",
      "|Id |MSSubClass|MSZoning|LotFrontage|LotArea|Street|Alley|LotShape|LandContour|Utilities|LotConfig|LandSlope|Neighborhood|Condition1|Condition2|BldgType|HouseStyle|OverallQual|OverallCond|YearBuilt|YearRemodAdd|RoofStyle|RoofMatl|Exterior1st|Exterior2nd|MasVnrType|MasVnrArea|ExterQual|ExterCond|Foundation|BsmtQual|BsmtCond|BsmtExposure|BsmtFinType1|BsmtFinSF1|BsmtFinType2|BsmtFinSF2|BsmtUnfSF|TotalBsmtSF|Heating|HeatingQC|CentralAir|Electrical|1stFlrSF|2ndFlrSF|LowQualFinSF|GrLivArea|BsmtFullBath|BsmtHalfBath|FullBath|HalfBath|BedroomAbvGr|KitchenAbvGr|KitchenQual|TotRmsAbvGrd|Functional|Fireplaces|FireplaceQu|GarageType|GarageYrBlt|GarageFinish|GarageCars|GarageArea|GarageQual|GarageCond|PavedDrive|WoodDeckSF|OpenPorchSF|EnclosedPorch|3SsnPorch|ScreenPorch|PoolArea|PoolQC|Fence|MiscFeature|MiscVal|MoSold|YrSold|SaleType|SaleCondition|SalePrice|\n",
      "+---+----------+--------+-----------+-------+------+-----+--------+-----------+---------+---------+---------+------------+----------+----------+--------+----------+-----------+-----------+---------+------------+---------+--------+-----------+-----------+----------+----------+---------+---------+----------+--------+--------+------------+------------+----------+------------+----------+---------+-----------+-------+---------+----------+----------+--------+--------+------------+---------+------------+------------+--------+--------+------------+------------+-----------+------------+----------+----------+-----------+----------+-----------+------------+----------+----------+----------+----------+----------+----------+-----------+-------------+---------+-----------+--------+------+-----+-----------+-------+------+------+--------+-------------+---------+\n",
      "|1  |60        |RL      |65         |8450   |Pave  |NA   |Reg     |Lvl        |AllPub   |Inside   |Gtl      |CollgCr     |Norm      |Norm      |1Fam    |2Story    |7          |5          |2003     |2003        |Gable    |CompShg |VinylSd    |VinylSd    |BrkFace   |196       |Gd       |TA       |PConc     |Gd      |TA      |No          |GLQ         |706       |Unf         |0         |150      |856        |GasA   |Ex       |Y         |SBrkr     |856     |854     |0           |1710     |1           |0           |2       |1       |3           |1           |Gd         |8           |Typ       |0         |NA         |Attchd    |2003       |RFn         |2         |548       |TA        |TA        |Y         |0         |61         |0            |0        |0          |0       |NA    |NA   |NA         |0      |2     |2008  |WD      |Normal       |208500   |\n",
      "|2  |20        |RL      |80         |9600   |Pave  |NA   |Reg     |Lvl        |AllPub   |FR2      |Gtl      |Veenker     |Feedr     |Norm      |1Fam    |1Story    |6          |8          |1976     |1976        |Gable    |CompShg |MetalSd    |MetalSd    |None      |0         |TA       |TA       |CBlock    |Gd      |TA      |Gd          |ALQ         |978       |Unf         |0         |284      |1262       |GasA   |Ex       |Y         |SBrkr     |1262    |0       |0           |1262     |0           |1           |2       |0       |3           |1           |TA         |6           |Typ       |1         |TA         |Attchd    |1976       |RFn         |2         |460       |TA        |TA        |Y         |298       |0          |0            |0        |0          |0       |NA    |NA   |NA         |0      |5     |2007  |WD      |Normal       |181500   |\n",
      "|3  |60        |RL      |68         |11250  |Pave  |NA   |IR1     |Lvl        |AllPub   |Inside   |Gtl      |CollgCr     |Norm      |Norm      |1Fam    |2Story    |7          |5          |2001     |2002        |Gable    |CompShg |VinylSd    |VinylSd    |BrkFace   |162       |Gd       |TA       |PConc     |Gd      |TA      |Mn          |GLQ         |486       |Unf         |0         |434      |920        |GasA   |Ex       |Y         |SBrkr     |920     |866     |0           |1786     |1           |0           |2       |1       |3           |1           |Gd         |6           |Typ       |1         |TA         |Attchd    |2001       |RFn         |2         |608       |TA        |TA        |Y         |0         |42         |0            |0        |0          |0       |NA    |NA   |NA         |0      |9     |2008  |WD      |Normal       |223500   |\n",
      "|4  |70        |RL      |60         |9550   |Pave  |NA   |IR1     |Lvl        |AllPub   |Corner   |Gtl      |Crawfor     |Norm      |Norm      |1Fam    |2Story    |7          |5          |1915     |1970        |Gable    |CompShg |Wd Sdng    |Wd Shng    |None      |0         |TA       |TA       |BrkTil    |TA      |Gd      |No          |ALQ         |216       |Unf         |0         |540      |756        |GasA   |Gd       |Y         |SBrkr     |961     |756     |0           |1717     |1           |0           |1       |0       |3           |1           |Gd         |7           |Typ       |1         |Gd         |Detchd    |1998       |Unf         |3         |642       |TA        |TA        |Y         |0         |35         |272          |0        |0          |0       |NA    |NA   |NA         |0      |2     |2006  |WD      |Abnorml      |140000   |\n",
      "|5  |60        |RL      |84         |14260  |Pave  |NA   |IR1     |Lvl        |AllPub   |FR2      |Gtl      |NoRidge     |Norm      |Norm      |1Fam    |2Story    |8          |5          |2000     |2000        |Gable    |CompShg |VinylSd    |VinylSd    |BrkFace   |350       |Gd       |TA       |PConc     |Gd      |TA      |Av          |GLQ         |655       |Unf         |0         |490      |1145       |GasA   |Ex       |Y         |SBrkr     |1145    |1053    |0           |2198     |1           |0           |2       |1       |4           |1           |Gd         |9           |Typ       |1         |TA         |Attchd    |2000       |RFn         |3         |836       |TA        |TA        |Y         |192       |84         |0            |0        |0          |0       |NA    |NA   |NA         |0      |12    |2008  |WD      |Normal       |250000   |\n",
      "+---+----------+--------+-----------+-------+------+-----+--------+-----------+---------+---------+---------+------------+----------+----------+--------+----------+-----------+-----------+---------+------------+---------+--------+-----------+-----------+----------+----------+---------+---------+----------+--------+--------+------------+------------+----------+------------+----------+---------+-----------+-------+---------+----------+----------+--------+--------+------------+---------+------------+------------+--------+--------+------------+------------+-----------+------------+----------+----------+-----------+----------+-----------+------------+----------+----------+----------+----------+----------+----------+-----------+-------------+---------+-----------+--------+------+-----+-----------+-------+------+------+--------+-------------+---------+\n",
      "only showing top 5 rows\n",
      "\n"
     ]
    }
   ],
   "source": [
    "train_df.show(5, False)"
   ]
  },
  {
   "cell_type": "code",
   "execution_count": 9,
   "metadata": {
    "colab": {
     "base_uri": "https://localhost:8080/"
    },
    "id": "kruCIMbDWHsz",
    "outputId": "17a2f807-d1da-419d-e198-42db365b91fc"
   },
   "outputs": [
    {
     "data": {
      "text/plain": [
       "pyspark.sql.dataframe.DataFrame"
      ]
     },
     "execution_count": 9,
     "metadata": {},
     "output_type": "execute_result"
    }
   ],
   "source": [
    "type(train_df)"
   ]
  },
  {
   "cell_type": "code",
   "execution_count": 10,
   "metadata": {
    "colab": {
     "base_uri": "https://localhost:8080/",
     "height": 300
    },
    "id": "uk6DsfAbWaAc",
    "outputId": "09d45d70-a577-40d1-f815-7f1b58ac2877"
   },
   "outputs": [
    {
     "data": {
      "text/html": [
       "<div>\n",
       "<style scoped>\n",
       "    .dataframe tbody tr th:only-of-type {\n",
       "        vertical-align: middle;\n",
       "    }\n",
       "\n",
       "    .dataframe tbody tr th {\n",
       "        vertical-align: top;\n",
       "    }\n",
       "\n",
       "    .dataframe thead th {\n",
       "        text-align: right;\n",
       "    }\n",
       "</style>\n",
       "<table border=\"1\" class=\"dataframe\">\n",
       "  <thead>\n",
       "    <tr style=\"text-align: right;\">\n",
       "      <th></th>\n",
       "      <th>Id</th>\n",
       "      <th>MSSubClass</th>\n",
       "      <th>MSZoning</th>\n",
       "      <th>LotFrontage</th>\n",
       "      <th>LotArea</th>\n",
       "      <th>Street</th>\n",
       "      <th>Alley</th>\n",
       "      <th>LotShape</th>\n",
       "      <th>LandContour</th>\n",
       "      <th>Utilities</th>\n",
       "      <th>...</th>\n",
       "      <th>PoolArea</th>\n",
       "      <th>PoolQC</th>\n",
       "      <th>Fence</th>\n",
       "      <th>MiscFeature</th>\n",
       "      <th>MiscVal</th>\n",
       "      <th>MoSold</th>\n",
       "      <th>YrSold</th>\n",
       "      <th>SaleType</th>\n",
       "      <th>SaleCondition</th>\n",
       "      <th>SalePrice</th>\n",
       "    </tr>\n",
       "  </thead>\n",
       "  <tbody>\n",
       "    <tr>\n",
       "      <th>0</th>\n",
       "      <td>1</td>\n",
       "      <td>60</td>\n",
       "      <td>RL</td>\n",
       "      <td>65</td>\n",
       "      <td>8450</td>\n",
       "      <td>Pave</td>\n",
       "      <td>NA</td>\n",
       "      <td>Reg</td>\n",
       "      <td>Lvl</td>\n",
       "      <td>AllPub</td>\n",
       "      <td>...</td>\n",
       "      <td>0</td>\n",
       "      <td>NA</td>\n",
       "      <td>NA</td>\n",
       "      <td>NA</td>\n",
       "      <td>0</td>\n",
       "      <td>2</td>\n",
       "      <td>2008</td>\n",
       "      <td>WD</td>\n",
       "      <td>Normal</td>\n",
       "      <td>208500</td>\n",
       "    </tr>\n",
       "    <tr>\n",
       "      <th>1</th>\n",
       "      <td>2</td>\n",
       "      <td>20</td>\n",
       "      <td>RL</td>\n",
       "      <td>80</td>\n",
       "      <td>9600</td>\n",
       "      <td>Pave</td>\n",
       "      <td>NA</td>\n",
       "      <td>Reg</td>\n",
       "      <td>Lvl</td>\n",
       "      <td>AllPub</td>\n",
       "      <td>...</td>\n",
       "      <td>0</td>\n",
       "      <td>NA</td>\n",
       "      <td>NA</td>\n",
       "      <td>NA</td>\n",
       "      <td>0</td>\n",
       "      <td>5</td>\n",
       "      <td>2007</td>\n",
       "      <td>WD</td>\n",
       "      <td>Normal</td>\n",
       "      <td>181500</td>\n",
       "    </tr>\n",
       "    <tr>\n",
       "      <th>2</th>\n",
       "      <td>3</td>\n",
       "      <td>60</td>\n",
       "      <td>RL</td>\n",
       "      <td>68</td>\n",
       "      <td>11250</td>\n",
       "      <td>Pave</td>\n",
       "      <td>NA</td>\n",
       "      <td>IR1</td>\n",
       "      <td>Lvl</td>\n",
       "      <td>AllPub</td>\n",
       "      <td>...</td>\n",
       "      <td>0</td>\n",
       "      <td>NA</td>\n",
       "      <td>NA</td>\n",
       "      <td>NA</td>\n",
       "      <td>0</td>\n",
       "      <td>9</td>\n",
       "      <td>2008</td>\n",
       "      <td>WD</td>\n",
       "      <td>Normal</td>\n",
       "      <td>223500</td>\n",
       "    </tr>\n",
       "    <tr>\n",
       "      <th>3</th>\n",
       "      <td>4</td>\n",
       "      <td>70</td>\n",
       "      <td>RL</td>\n",
       "      <td>60</td>\n",
       "      <td>9550</td>\n",
       "      <td>Pave</td>\n",
       "      <td>NA</td>\n",
       "      <td>IR1</td>\n",
       "      <td>Lvl</td>\n",
       "      <td>AllPub</td>\n",
       "      <td>...</td>\n",
       "      <td>0</td>\n",
       "      <td>NA</td>\n",
       "      <td>NA</td>\n",
       "      <td>NA</td>\n",
       "      <td>0</td>\n",
       "      <td>2</td>\n",
       "      <td>2006</td>\n",
       "      <td>WD</td>\n",
       "      <td>Abnorml</td>\n",
       "      <td>140000</td>\n",
       "    </tr>\n",
       "    <tr>\n",
       "      <th>4</th>\n",
       "      <td>5</td>\n",
       "      <td>60</td>\n",
       "      <td>RL</td>\n",
       "      <td>84</td>\n",
       "      <td>14260</td>\n",
       "      <td>Pave</td>\n",
       "      <td>NA</td>\n",
       "      <td>IR1</td>\n",
       "      <td>Lvl</td>\n",
       "      <td>AllPub</td>\n",
       "      <td>...</td>\n",
       "      <td>0</td>\n",
       "      <td>NA</td>\n",
       "      <td>NA</td>\n",
       "      <td>NA</td>\n",
       "      <td>0</td>\n",
       "      <td>12</td>\n",
       "      <td>2008</td>\n",
       "      <td>WD</td>\n",
       "      <td>Normal</td>\n",
       "      <td>250000</td>\n",
       "    </tr>\n",
       "  </tbody>\n",
       "</table>\n",
       "<p>5 rows × 81 columns</p>\n",
       "</div>"
      ],
      "text/plain": [
       "   Id  MSSubClass MSZoning LotFrontage  LotArea Street Alley LotShape  \\\n",
       "0   1          60       RL          65     8450   Pave    NA      Reg   \n",
       "1   2          20       RL          80     9600   Pave    NA      Reg   \n",
       "2   3          60       RL          68    11250   Pave    NA      IR1   \n",
       "3   4          70       RL          60     9550   Pave    NA      IR1   \n",
       "4   5          60       RL          84    14260   Pave    NA      IR1   \n",
       "\n",
       "  LandContour Utilities  ... PoolArea PoolQC Fence MiscFeature MiscVal MoSold  \\\n",
       "0         Lvl    AllPub  ...        0     NA    NA          NA       0      2   \n",
       "1         Lvl    AllPub  ...        0     NA    NA          NA       0      5   \n",
       "2         Lvl    AllPub  ...        0     NA    NA          NA       0      9   \n",
       "3         Lvl    AllPub  ...        0     NA    NA          NA       0      2   \n",
       "4         Lvl    AllPub  ...        0     NA    NA          NA       0     12   \n",
       "\n",
       "  YrSold  SaleType  SaleCondition  SalePrice  \n",
       "0   2008        WD         Normal     208500  \n",
       "1   2007        WD         Normal     181500  \n",
       "2   2008        WD         Normal     223500  \n",
       "3   2006        WD        Abnorml     140000  \n",
       "4   2008        WD         Normal     250000  \n",
       "\n",
       "[5 rows x 81 columns]"
      ]
     },
     "execution_count": 10,
     "metadata": {},
     "output_type": "execute_result"
    }
   ],
   "source": [
    "housetrain_df = train_df.toPandas()\n",
    "housetrain_df.head()"
   ]
  },
  {
   "cell_type": "code",
   "execution_count": 11,
   "metadata": {
    "colab": {
     "base_uri": "https://localhost:8080/",
     "height": 300
    },
    "id": "5Cu0eyhSZPMu",
    "outputId": "218e943b-781c-4837-c976-5371909756be"
   },
   "outputs": [
    {
     "data": {
      "text/html": [
       "<div>\n",
       "<style scoped>\n",
       "    .dataframe tbody tr th:only-of-type {\n",
       "        vertical-align: middle;\n",
       "    }\n",
       "\n",
       "    .dataframe tbody tr th {\n",
       "        vertical-align: top;\n",
       "    }\n",
       "\n",
       "    .dataframe thead th {\n",
       "        text-align: right;\n",
       "    }\n",
       "</style>\n",
       "<table border=\"1\" class=\"dataframe\">\n",
       "  <thead>\n",
       "    <tr style=\"text-align: right;\">\n",
       "      <th></th>\n",
       "      <th>summary</th>\n",
       "      <th>Id</th>\n",
       "      <th>MSSubClass</th>\n",
       "      <th>MSZoning</th>\n",
       "      <th>LotFrontage</th>\n",
       "      <th>LotArea</th>\n",
       "      <th>Street</th>\n",
       "      <th>Alley</th>\n",
       "      <th>LotShape</th>\n",
       "      <th>LandContour</th>\n",
       "      <th>...</th>\n",
       "      <th>PoolArea</th>\n",
       "      <th>PoolQC</th>\n",
       "      <th>Fence</th>\n",
       "      <th>MiscFeature</th>\n",
       "      <th>MiscVal</th>\n",
       "      <th>MoSold</th>\n",
       "      <th>YrSold</th>\n",
       "      <th>SaleType</th>\n",
       "      <th>SaleCondition</th>\n",
       "      <th>SalePrice</th>\n",
       "    </tr>\n",
       "  </thead>\n",
       "  <tbody>\n",
       "    <tr>\n",
       "      <th>0</th>\n",
       "      <td>count</td>\n",
       "      <td>1460</td>\n",
       "      <td>1460</td>\n",
       "      <td>1460</td>\n",
       "      <td>1460</td>\n",
       "      <td>1460</td>\n",
       "      <td>1460</td>\n",
       "      <td>1460</td>\n",
       "      <td>1460</td>\n",
       "      <td>1460</td>\n",
       "      <td>...</td>\n",
       "      <td>1460</td>\n",
       "      <td>1460</td>\n",
       "      <td>1460</td>\n",
       "      <td>1460</td>\n",
       "      <td>1460</td>\n",
       "      <td>1460</td>\n",
       "      <td>1460</td>\n",
       "      <td>1460</td>\n",
       "      <td>1460</td>\n",
       "      <td>1460</td>\n",
       "    </tr>\n",
       "    <tr>\n",
       "      <th>1</th>\n",
       "      <td>mean</td>\n",
       "      <td>730.5</td>\n",
       "      <td>56.897260273972606</td>\n",
       "      <td>None</td>\n",
       "      <td>70.04995836802665</td>\n",
       "      <td>10516.828082191782</td>\n",
       "      <td>None</td>\n",
       "      <td>None</td>\n",
       "      <td>None</td>\n",
       "      <td>None</td>\n",
       "      <td>...</td>\n",
       "      <td>2.758904109589041</td>\n",
       "      <td>None</td>\n",
       "      <td>None</td>\n",
       "      <td>None</td>\n",
       "      <td>43.489041095890414</td>\n",
       "      <td>6.321917808219178</td>\n",
       "      <td>2007.8157534246575</td>\n",
       "      <td>None</td>\n",
       "      <td>None</td>\n",
       "      <td>180921.19589041095</td>\n",
       "    </tr>\n",
       "    <tr>\n",
       "      <th>2</th>\n",
       "      <td>stddev</td>\n",
       "      <td>421.6100093688479</td>\n",
       "      <td>42.30057099381045</td>\n",
       "      <td>None</td>\n",
       "      <td>24.28475177448321</td>\n",
       "      <td>9981.26493237915</td>\n",
       "      <td>None</td>\n",
       "      <td>None</td>\n",
       "      <td>None</td>\n",
       "      <td>None</td>\n",
       "      <td>...</td>\n",
       "      <td>40.17730694453021</td>\n",
       "      <td>None</td>\n",
       "      <td>None</td>\n",
       "      <td>None</td>\n",
       "      <td>496.1230244579441</td>\n",
       "      <td>2.7036262083595113</td>\n",
       "      <td>1.3280951205521145</td>\n",
       "      <td>None</td>\n",
       "      <td>None</td>\n",
       "      <td>79442.50288288663</td>\n",
       "    </tr>\n",
       "    <tr>\n",
       "      <th>3</th>\n",
       "      <td>min</td>\n",
       "      <td>1</td>\n",
       "      <td>20</td>\n",
       "      <td>C (all)</td>\n",
       "      <td>100</td>\n",
       "      <td>1300</td>\n",
       "      <td>Grvl</td>\n",
       "      <td>Grvl</td>\n",
       "      <td>IR1</td>\n",
       "      <td>Bnk</td>\n",
       "      <td>...</td>\n",
       "      <td>0</td>\n",
       "      <td>Ex</td>\n",
       "      <td>GdPrv</td>\n",
       "      <td>Gar2</td>\n",
       "      <td>0</td>\n",
       "      <td>1</td>\n",
       "      <td>2006</td>\n",
       "      <td>COD</td>\n",
       "      <td>Abnorml</td>\n",
       "      <td>34900</td>\n",
       "    </tr>\n",
       "    <tr>\n",
       "      <th>4</th>\n",
       "      <td>max</td>\n",
       "      <td>1460</td>\n",
       "      <td>190</td>\n",
       "      <td>RM</td>\n",
       "      <td>NA</td>\n",
       "      <td>215245</td>\n",
       "      <td>Pave</td>\n",
       "      <td>Pave</td>\n",
       "      <td>Reg</td>\n",
       "      <td>Lvl</td>\n",
       "      <td>...</td>\n",
       "      <td>738</td>\n",
       "      <td>NA</td>\n",
       "      <td>NA</td>\n",
       "      <td>TenC</td>\n",
       "      <td>15500</td>\n",
       "      <td>12</td>\n",
       "      <td>2010</td>\n",
       "      <td>WD</td>\n",
       "      <td>Partial</td>\n",
       "      <td>755000</td>\n",
       "    </tr>\n",
       "  </tbody>\n",
       "</table>\n",
       "<p>5 rows × 82 columns</p>\n",
       "</div>"
      ],
      "text/plain": [
       "  summary                 Id          MSSubClass MSZoning        LotFrontage  \\\n",
       "0   count               1460                1460     1460               1460   \n",
       "1    mean              730.5  56.897260273972606     None  70.04995836802665   \n",
       "2  stddev  421.6100093688479   42.30057099381045     None  24.28475177448321   \n",
       "3     min                  1                  20  C (all)                100   \n",
       "4     max               1460                 190       RM                 NA   \n",
       "\n",
       "              LotArea Street Alley LotShape LandContour  ...  \\\n",
       "0                1460   1460  1460     1460        1460  ...   \n",
       "1  10516.828082191782   None  None     None        None  ...   \n",
       "2    9981.26493237915   None  None     None        None  ...   \n",
       "3                1300   Grvl  Grvl      IR1         Bnk  ...   \n",
       "4              215245   Pave  Pave      Reg         Lvl  ...   \n",
       "\n",
       "            PoolArea PoolQC  Fence MiscFeature             MiscVal  \\\n",
       "0               1460   1460   1460        1460                1460   \n",
       "1  2.758904109589041   None   None        None  43.489041095890414   \n",
       "2  40.17730694453021   None   None        None   496.1230244579441   \n",
       "3                  0     Ex  GdPrv        Gar2                   0   \n",
       "4                738     NA     NA        TenC               15500   \n",
       "\n",
       "               MoSold              YrSold SaleType SaleCondition  \\\n",
       "0                1460                1460     1460          1460   \n",
       "1   6.321917808219178  2007.8157534246575     None          None   \n",
       "2  2.7036262083595113  1.3280951205521145     None          None   \n",
       "3                   1                2006      COD       Abnorml   \n",
       "4                  12                2010       WD       Partial   \n",
       "\n",
       "            SalePrice  \n",
       "0                1460  \n",
       "1  180921.19589041095  \n",
       "2   79442.50288288663  \n",
       "3               34900  \n",
       "4              755000  \n",
       "\n",
       "[5 rows x 82 columns]"
      ]
     },
     "execution_count": 11,
     "metadata": {},
     "output_type": "execute_result"
    }
   ],
   "source": [
    "train_df.describe().toPandas()"
   ]
  },
  {
   "cell_type": "markdown",
   "metadata": {
    "id": "YOygn5OYbrN4"
   },
   "source": [
    "Check Missing Values"
   ]
  },
  {
   "cell_type": "code",
   "execution_count": 12,
   "metadata": {
    "colab": {
     "base_uri": "https://localhost:8080/"
    },
    "id": "kc-CIiHeZSXo",
    "outputId": "3383eb2f-efd4-4499-b394-d18438327c38"
   },
   "outputs": [
    {
     "name": "stdout",
     "output_type": "stream",
     "text": [
      "+---+----------+--------+-----------+-------+------+-----+--------+-----------+---------+---------+---------+------------+----------+----------+--------+----------+-----------+-----------+---------+------------+---------+--------+-----------+-----------+----------+----------+---------+---------+----------+--------+--------+------------+------------+----------+------------+----------+---------+-----------+-------+---------+----------+----------+--------+--------+------------+---------+------------+------------+--------+--------+------------+------------+-----------+------------+----------+----------+-----------+----------+-----------+------------+----------+----------+----------+----------+----------+----------+-----------+-------------+---------+-----------+--------+------+-----+-----------+-------+------+------+--------+-------------+---------+\n",
      "| Id|MSSubClass|MSZoning|LotFrontage|LotArea|Street|Alley|LotShape|LandContour|Utilities|LotConfig|LandSlope|Neighborhood|Condition1|Condition2|BldgType|HouseStyle|OverallQual|OverallCond|YearBuilt|YearRemodAdd|RoofStyle|RoofMatl|Exterior1st|Exterior2nd|MasVnrType|MasVnrArea|ExterQual|ExterCond|Foundation|BsmtQual|BsmtCond|BsmtExposure|BsmtFinType1|BsmtFinSF1|BsmtFinType2|BsmtFinSF2|BsmtUnfSF|TotalBsmtSF|Heating|HeatingQC|CentralAir|Electrical|1stFlrSF|2ndFlrSF|LowQualFinSF|GrLivArea|BsmtFullBath|BsmtHalfBath|FullBath|HalfBath|BedroomAbvGr|KitchenAbvGr|KitchenQual|TotRmsAbvGrd|Functional|Fireplaces|FireplaceQu|GarageType|GarageYrBlt|GarageFinish|GarageCars|GarageArea|GarageQual|GarageCond|PavedDrive|WoodDeckSF|OpenPorchSF|EnclosedPorch|3SsnPorch|ScreenPorch|PoolArea|PoolQC|Fence|MiscFeature|MiscVal|MoSold|YrSold|SaleType|SaleCondition|SalePrice|\n",
      "+---+----------+--------+-----------+-------+------+-----+--------+-----------+---------+---------+---------+------------+----------+----------+--------+----------+-----------+-----------+---------+------------+---------+--------+-----------+-----------+----------+----------+---------+---------+----------+--------+--------+------------+------------+----------+------------+----------+---------+-----------+-------+---------+----------+----------+--------+--------+------------+---------+------------+------------+--------+--------+------------+------------+-----------+------------+----------+----------+-----------+----------+-----------+------------+----------+----------+----------+----------+----------+----------+-----------+-------------+---------+-----------+--------+------+-----+-----------+-------+------+------+--------+-------------+---------+\n",
      "|  0|         0|       0|          0|      0|     0|    0|       0|          0|        0|        0|        0|           0|         0|         0|       0|         0|          0|          0|        0|           0|        0|       0|          0|          0|         0|         0|        0|        0|         0|       0|       0|           0|           0|         0|           0|         0|        0|          0|      0|        0|         0|         0|       0|       0|           0|        0|           0|           0|       0|       0|           0|           0|          0|           0|         0|         0|          0|         0|          0|           0|         0|         0|         0|         0|         0|         0|          0|            0|        0|          0|       0|     0|    0|          0|      0|     0|     0|       0|            0|        0|\n",
      "+---+----------+--------+-----------+-------+------+-----+--------+-----------+---------+---------+---------+------------+----------+----------+--------+----------+-----------+-----------+---------+------------+---------+--------+-----------+-----------+----------+----------+---------+---------+----------+--------+--------+------------+------------+----------+------------+----------+---------+-----------+-------+---------+----------+----------+--------+--------+------------+---------+------------+------------+--------+--------+------------+------------+-----------+------------+----------+----------+-----------+----------+-----------+------------+----------+----------+----------+----------+----------+----------+-----------+-------------+---------+-----------+--------+------+-----+-----------+-------+------+------+--------+-------------+---------+\n",
      "\n"
     ]
    }
   ],
   "source": [
    "from pyspark.sql.functions import isnull, when, count, col\n",
    "train_df.select([count(when(isnull(c), c)).alias(c) for c in train_df.columns]).show()"
   ]
  },
  {
   "cell_type": "code",
   "execution_count": 13,
   "metadata": {
    "id": "nl-vy1EXe1nH"
   },
   "outputs": [],
   "source": [
    "from pyspark.sql.functions import col,isnan,when,count\n"
   ]
  },
  {
   "cell_type": "code",
   "execution_count": 14,
   "metadata": {
    "id": "NtNsKi8ibkCi"
   },
   "outputs": [],
   "source": [
    "df2 = train_df.select([count(when((col(c)=='NA') | \\\n",
    "                            (col(c) == '' ) | \\\n",
    "                            col(c).isNull() | \\\n",
    "                            isnan(c), c \n",
    "                           )).alias(c)\n",
    "                    for c in train_df.columns])\n"
   ]
  },
  {
   "cell_type": "code",
   "execution_count": 15,
   "metadata": {
    "colab": {
     "base_uri": "https://localhost:8080/"
    },
    "id": "RAw9rwXwbGs8",
    "outputId": "2036d829-86cc-4486-d145-f09973b6a615"
   },
   "outputs": [
    {
     "name": "stdout",
     "output_type": "stream",
     "text": [
      "+---+----------+--------+-----------+-------+------+-----+--------+-----------+---------+---------+---------+------------+----------+----------+--------+----------+-----------+-----------+---------+------------+---------+--------+-----------+-----------+----------+----------+---------+---------+----------+--------+--------+------------+------------+----------+------------+----------+---------+-----------+-------+---------+----------+----------+--------+--------+------------+---------+------------+------------+--------+--------+------------+------------+-----------+------------+----------+----------+-----------+----------+-----------+------------+----------+----------+----------+----------+----------+----------+-----------+-------------+---------+-----------+--------+------+-----+-----------+-------+------+------+--------+-------------+---------+\n",
      "| Id|MSSubClass|MSZoning|LotFrontage|LotArea|Street|Alley|LotShape|LandContour|Utilities|LotConfig|LandSlope|Neighborhood|Condition1|Condition2|BldgType|HouseStyle|OverallQual|OverallCond|YearBuilt|YearRemodAdd|RoofStyle|RoofMatl|Exterior1st|Exterior2nd|MasVnrType|MasVnrArea|ExterQual|ExterCond|Foundation|BsmtQual|BsmtCond|BsmtExposure|BsmtFinType1|BsmtFinSF1|BsmtFinType2|BsmtFinSF2|BsmtUnfSF|TotalBsmtSF|Heating|HeatingQC|CentralAir|Electrical|1stFlrSF|2ndFlrSF|LowQualFinSF|GrLivArea|BsmtFullBath|BsmtHalfBath|FullBath|HalfBath|BedroomAbvGr|KitchenAbvGr|KitchenQual|TotRmsAbvGrd|Functional|Fireplaces|FireplaceQu|GarageType|GarageYrBlt|GarageFinish|GarageCars|GarageArea|GarageQual|GarageCond|PavedDrive|WoodDeckSF|OpenPorchSF|EnclosedPorch|3SsnPorch|ScreenPorch|PoolArea|PoolQC|Fence|MiscFeature|MiscVal|MoSold|YrSold|SaleType|SaleCondition|SalePrice|\n",
      "+---+----------+--------+-----------+-------+------+-----+--------+-----------+---------+---------+---------+------------+----------+----------+--------+----------+-----------+-----------+---------+------------+---------+--------+-----------+-----------+----------+----------+---------+---------+----------+--------+--------+------------+------------+----------+------------+----------+---------+-----------+-------+---------+----------+----------+--------+--------+------------+---------+------------+------------+--------+--------+------------+------------+-----------+------------+----------+----------+-----------+----------+-----------+------------+----------+----------+----------+----------+----------+----------+-----------+-------------+---------+-----------+--------+------+-----+-----------+-------+------+------+--------+-------------+---------+\n",
      "|  0|         0|       0|        259|      0|     0| 1369|       0|          0|        0|        0|        0|           0|         0|         0|       0|         0|          0|          0|        0|           0|        0|       0|          0|          0|         8|         8|        0|        0|         0|      37|      37|          38|          37|         0|          38|         0|        0|          0|      0|        0|         0|         1|       0|       0|           0|        0|           0|           0|       0|       0|           0|           0|          0|           0|         0|         0|        690|        81|         81|          81|         0|         0|        81|        81|         0|         0|          0|            0|        0|          0|       0|  1453| 1179|       1406|      0|     0|     0|       0|            0|        0|\n",
      "+---+----------+--------+-----------+-------+------+-----+--------+-----------+---------+---------+---------+------------+----------+----------+--------+----------+-----------+-----------+---------+------------+---------+--------+-----------+-----------+----------+----------+---------+---------+----------+--------+--------+------------+------------+----------+------------+----------+---------+-----------+-------+---------+----------+----------+--------+--------+------------+---------+------------+------------+--------+--------+------------+------------+-----------+------------+----------+----------+-----------+----------+-----------+------------+----------+----------+----------+----------+----------+----------+-----------+-------------+---------+-----------+--------+------+-----+-----------+-------+------+------+--------+-------------+---------+\n",
      "\n"
     ]
    }
   ],
   "source": [
    "df2.show()"
   ]
  },
  {
   "cell_type": "code",
   "execution_count": 16,
   "metadata": {
    "id": "zjcrDdkOe-CH"
   },
   "outputs": [],
   "source": [
    "df3 = train_df.drop('Alley','PoolQC','Fence','MiscFeature','FireplaceQu')"
   ]
  },
  {
   "cell_type": "code",
   "execution_count": 17,
   "metadata": {
    "colab": {
     "base_uri": "https://localhost:8080/"
    },
    "id": "BybAg-GrmNFa",
    "outputId": "2a6a4e91-ae27-4782-8029-877172e3efbc"
   },
   "outputs": [
    {
     "name": "stdout",
     "output_type": "stream",
     "text": [
      "+---+----------+--------+-----------+-------+------+--------+-----------+---------+---------+---------+------------+----------+----------+--------+----------+-----------+-----------+---------+------------+---------+--------+-----------+-----------+----------+----------+---------+---------+----------+--------+--------+------------+------------+----------+------------+----------+---------+-----------+-------+---------+----------+----------+--------+--------+------------+---------+------------+------------+--------+--------+------------+------------+-----------+------------+----------+----------+----------+-----------+------------+----------+----------+----------+----------+----------+----------+-----------+-------------+---------+-----------+--------+-------+------+------+--------+-------------+---------+\n",
      "| Id|MSSubClass|MSZoning|LotFrontage|LotArea|Street|LotShape|LandContour|Utilities|LotConfig|LandSlope|Neighborhood|Condition1|Condition2|BldgType|HouseStyle|OverallQual|OverallCond|YearBuilt|YearRemodAdd|RoofStyle|RoofMatl|Exterior1st|Exterior2nd|MasVnrType|MasVnrArea|ExterQual|ExterCond|Foundation|BsmtQual|BsmtCond|BsmtExposure|BsmtFinType1|BsmtFinSF1|BsmtFinType2|BsmtFinSF2|BsmtUnfSF|TotalBsmtSF|Heating|HeatingQC|CentralAir|Electrical|1stFlrSF|2ndFlrSF|LowQualFinSF|GrLivArea|BsmtFullBath|BsmtHalfBath|FullBath|HalfBath|BedroomAbvGr|KitchenAbvGr|KitchenQual|TotRmsAbvGrd|Functional|Fireplaces|GarageType|GarageYrBlt|GarageFinish|GarageCars|GarageArea|GarageQual|GarageCond|PavedDrive|WoodDeckSF|OpenPorchSF|EnclosedPorch|3SsnPorch|ScreenPorch|PoolArea|MiscVal|MoSold|YrSold|SaleType|SaleCondition|SalePrice|\n",
      "+---+----------+--------+-----------+-------+------+--------+-----------+---------+---------+---------+------------+----------+----------+--------+----------+-----------+-----------+---------+------------+---------+--------+-----------+-----------+----------+----------+---------+---------+----------+--------+--------+------------+------------+----------+------------+----------+---------+-----------+-------+---------+----------+----------+--------+--------+------------+---------+------------+------------+--------+--------+------------+------------+-----------+------------+----------+----------+----------+-----------+------------+----------+----------+----------+----------+----------+----------+-----------+-------------+---------+-----------+--------+-------+------+------+--------+-------------+---------+\n",
      "|  1|        60|      RL|         65|   8450|  Pave|     Reg|        Lvl|   AllPub|   Inside|      Gtl|     CollgCr|      Norm|      Norm|    1Fam|    2Story|          7|          5|     2003|        2003|    Gable| CompShg|    VinylSd|    VinylSd|   BrkFace|       196|       Gd|       TA|     PConc|      Gd|      TA|          No|         GLQ|       706|         Unf|         0|      150|        856|   GasA|       Ex|         Y|     SBrkr|     856|     854|           0|     1710|           1|           0|       2|       1|           3|           1|         Gd|           8|       Typ|         0|    Attchd|       2003|         RFn|         2|       548|        TA|        TA|         Y|         0|         61|            0|        0|          0|       0|      0|     2|  2008|      WD|       Normal|   208500|\n",
      "|  2|        20|      RL|         80|   9600|  Pave|     Reg|        Lvl|   AllPub|      FR2|      Gtl|     Veenker|     Feedr|      Norm|    1Fam|    1Story|          6|          8|     1976|        1976|    Gable| CompShg|    MetalSd|    MetalSd|      None|         0|       TA|       TA|    CBlock|      Gd|      TA|          Gd|         ALQ|       978|         Unf|         0|      284|       1262|   GasA|       Ex|         Y|     SBrkr|    1262|       0|           0|     1262|           0|           1|       2|       0|           3|           1|         TA|           6|       Typ|         1|    Attchd|       1976|         RFn|         2|       460|        TA|        TA|         Y|       298|          0|            0|        0|          0|       0|      0|     5|  2007|      WD|       Normal|   181500|\n",
      "|  3|        60|      RL|         68|  11250|  Pave|     IR1|        Lvl|   AllPub|   Inside|      Gtl|     CollgCr|      Norm|      Norm|    1Fam|    2Story|          7|          5|     2001|        2002|    Gable| CompShg|    VinylSd|    VinylSd|   BrkFace|       162|       Gd|       TA|     PConc|      Gd|      TA|          Mn|         GLQ|       486|         Unf|         0|      434|        920|   GasA|       Ex|         Y|     SBrkr|     920|     866|           0|     1786|           1|           0|       2|       1|           3|           1|         Gd|           6|       Typ|         1|    Attchd|       2001|         RFn|         2|       608|        TA|        TA|         Y|         0|         42|            0|        0|          0|       0|      0|     9|  2008|      WD|       Normal|   223500|\n",
      "|  4|        70|      RL|         60|   9550|  Pave|     IR1|        Lvl|   AllPub|   Corner|      Gtl|     Crawfor|      Norm|      Norm|    1Fam|    2Story|          7|          5|     1915|        1970|    Gable| CompShg|    Wd Sdng|    Wd Shng|      None|         0|       TA|       TA|    BrkTil|      TA|      Gd|          No|         ALQ|       216|         Unf|         0|      540|        756|   GasA|       Gd|         Y|     SBrkr|     961|     756|           0|     1717|           1|           0|       1|       0|           3|           1|         Gd|           7|       Typ|         1|    Detchd|       1998|         Unf|         3|       642|        TA|        TA|         Y|         0|         35|          272|        0|          0|       0|      0|     2|  2006|      WD|      Abnorml|   140000|\n",
      "|  5|        60|      RL|         84|  14260|  Pave|     IR1|        Lvl|   AllPub|      FR2|      Gtl|     NoRidge|      Norm|      Norm|    1Fam|    2Story|          8|          5|     2000|        2000|    Gable| CompShg|    VinylSd|    VinylSd|   BrkFace|       350|       Gd|       TA|     PConc|      Gd|      TA|          Av|         GLQ|       655|         Unf|         0|      490|       1145|   GasA|       Ex|         Y|     SBrkr|    1145|    1053|           0|     2198|           1|           0|       2|       1|           4|           1|         Gd|           9|       Typ|         1|    Attchd|       2000|         RFn|         3|       836|        TA|        TA|         Y|       192|         84|            0|        0|          0|       0|      0|    12|  2008|      WD|       Normal|   250000|\n",
      "|  6|        50|      RL|         85|  14115|  Pave|     IR1|        Lvl|   AllPub|   Inside|      Gtl|     Mitchel|      Norm|      Norm|    1Fam|    1.5Fin|          5|          5|     1993|        1995|    Gable| CompShg|    VinylSd|    VinylSd|      None|         0|       TA|       TA|      Wood|      Gd|      TA|          No|         GLQ|       732|         Unf|         0|       64|        796|   GasA|       Ex|         Y|     SBrkr|     796|     566|           0|     1362|           1|           0|       1|       1|           1|           1|         TA|           5|       Typ|         0|    Attchd|       1993|         Unf|         2|       480|        TA|        TA|         Y|        40|         30|            0|      320|          0|       0|    700|    10|  2009|      WD|       Normal|   143000|\n",
      "|  7|        20|      RL|         75|  10084|  Pave|     Reg|        Lvl|   AllPub|   Inside|      Gtl|     Somerst|      Norm|      Norm|    1Fam|    1Story|          8|          5|     2004|        2005|    Gable| CompShg|    VinylSd|    VinylSd|     Stone|       186|       Gd|       TA|     PConc|      Ex|      TA|          Av|         GLQ|      1369|         Unf|         0|      317|       1686|   GasA|       Ex|         Y|     SBrkr|    1694|       0|           0|     1694|           1|           0|       2|       0|           3|           1|         Gd|           7|       Typ|         1|    Attchd|       2004|         RFn|         2|       636|        TA|        TA|         Y|       255|         57|            0|        0|          0|       0|      0|     8|  2007|      WD|       Normal|   307000|\n",
      "|  8|        60|      RL|         NA|  10382|  Pave|     IR1|        Lvl|   AllPub|   Corner|      Gtl|      NWAmes|      PosN|      Norm|    1Fam|    2Story|          7|          6|     1973|        1973|    Gable| CompShg|    HdBoard|    HdBoard|     Stone|       240|       TA|       TA|    CBlock|      Gd|      TA|          Mn|         ALQ|       859|         BLQ|        32|      216|       1107|   GasA|       Ex|         Y|     SBrkr|    1107|     983|           0|     2090|           1|           0|       2|       1|           3|           1|         TA|           7|       Typ|         2|    Attchd|       1973|         RFn|         2|       484|        TA|        TA|         Y|       235|        204|          228|        0|          0|       0|    350|    11|  2009|      WD|       Normal|   200000|\n",
      "|  9|        50|      RM|         51|   6120|  Pave|     Reg|        Lvl|   AllPub|   Inside|      Gtl|     OldTown|    Artery|      Norm|    1Fam|    1.5Fin|          7|          5|     1931|        1950|    Gable| CompShg|    BrkFace|    Wd Shng|      None|         0|       TA|       TA|    BrkTil|      TA|      TA|          No|         Unf|         0|         Unf|         0|      952|        952|   GasA|       Gd|         Y|     FuseF|    1022|     752|           0|     1774|           0|           0|       2|       0|           2|           2|         TA|           8|      Min1|         2|    Detchd|       1931|         Unf|         2|       468|        Fa|        TA|         Y|        90|          0|          205|        0|          0|       0|      0|     4|  2008|      WD|      Abnorml|   129900|\n",
      "| 10|       190|      RL|         50|   7420|  Pave|     Reg|        Lvl|   AllPub|   Corner|      Gtl|     BrkSide|    Artery|    Artery|  2fmCon|    1.5Unf|          5|          6|     1939|        1950|    Gable| CompShg|    MetalSd|    MetalSd|      None|         0|       TA|       TA|    BrkTil|      TA|      TA|          No|         GLQ|       851|         Unf|         0|      140|        991|   GasA|       Ex|         Y|     SBrkr|    1077|       0|           0|     1077|           1|           0|       1|       0|           2|           2|         TA|           5|       Typ|         2|    Attchd|       1939|         RFn|         1|       205|        Gd|        TA|         Y|         0|          4|            0|        0|          0|       0|      0|     1|  2008|      WD|       Normal|   118000|\n",
      "| 11|        20|      RL|         70|  11200|  Pave|     Reg|        Lvl|   AllPub|   Inside|      Gtl|      Sawyer|      Norm|      Norm|    1Fam|    1Story|          5|          5|     1965|        1965|      Hip| CompShg|    HdBoard|    HdBoard|      None|         0|       TA|       TA|    CBlock|      TA|      TA|          No|         Rec|       906|         Unf|         0|      134|       1040|   GasA|       Ex|         Y|     SBrkr|    1040|       0|           0|     1040|           1|           0|       1|       0|           3|           1|         TA|           5|       Typ|         0|    Detchd|       1965|         Unf|         1|       384|        TA|        TA|         Y|         0|          0|            0|        0|          0|       0|      0|     2|  2008|      WD|       Normal|   129500|\n",
      "| 12|        60|      RL|         85|  11924|  Pave|     IR1|        Lvl|   AllPub|   Inside|      Gtl|     NridgHt|      Norm|      Norm|    1Fam|    2Story|          9|          5|     2005|        2006|      Hip| CompShg|    WdShing|    Wd Shng|     Stone|       286|       Ex|       TA|     PConc|      Ex|      TA|          No|         GLQ|       998|         Unf|         0|      177|       1175|   GasA|       Ex|         Y|     SBrkr|    1182|    1142|           0|     2324|           1|           0|       3|       0|           4|           1|         Ex|          11|       Typ|         2|   BuiltIn|       2005|         Fin|         3|       736|        TA|        TA|         Y|       147|         21|            0|        0|          0|       0|      0|     7|  2006|     New|      Partial|   345000|\n",
      "| 13|        20|      RL|         NA|  12968|  Pave|     IR2|        Lvl|   AllPub|   Inside|      Gtl|      Sawyer|      Norm|      Norm|    1Fam|    1Story|          5|          6|     1962|        1962|      Hip| CompShg|    HdBoard|    Plywood|      None|         0|       TA|       TA|    CBlock|      TA|      TA|          No|         ALQ|       737|         Unf|         0|      175|        912|   GasA|       TA|         Y|     SBrkr|     912|       0|           0|      912|           1|           0|       1|       0|           2|           1|         TA|           4|       Typ|         0|    Detchd|       1962|         Unf|         1|       352|        TA|        TA|         Y|       140|          0|            0|        0|        176|       0|      0|     9|  2008|      WD|       Normal|   144000|\n",
      "| 14|        20|      RL|         91|  10652|  Pave|     IR1|        Lvl|   AllPub|   Inside|      Gtl|     CollgCr|      Norm|      Norm|    1Fam|    1Story|          7|          5|     2006|        2007|    Gable| CompShg|    VinylSd|    VinylSd|     Stone|       306|       Gd|       TA|     PConc|      Gd|      TA|          Av|         Unf|         0|         Unf|         0|     1494|       1494|   GasA|       Ex|         Y|     SBrkr|    1494|       0|           0|     1494|           0|           0|       2|       0|           3|           1|         Gd|           7|       Typ|         1|    Attchd|       2006|         RFn|         3|       840|        TA|        TA|         Y|       160|         33|            0|        0|          0|       0|      0|     8|  2007|     New|      Partial|   279500|\n",
      "| 15|        20|      RL|         NA|  10920|  Pave|     IR1|        Lvl|   AllPub|   Corner|      Gtl|       NAmes|      Norm|      Norm|    1Fam|    1Story|          6|          5|     1960|        1960|      Hip| CompShg|    MetalSd|    MetalSd|   BrkFace|       212|       TA|       TA|    CBlock|      TA|      TA|          No|         BLQ|       733|         Unf|         0|      520|       1253|   GasA|       TA|         Y|     SBrkr|    1253|       0|           0|     1253|           1|           0|       1|       1|           2|           1|         TA|           5|       Typ|         1|    Attchd|       1960|         RFn|         1|       352|        TA|        TA|         Y|         0|        213|          176|        0|          0|       0|      0|     5|  2008|      WD|       Normal|   157000|\n",
      "| 16|        45|      RM|         51|   6120|  Pave|     Reg|        Lvl|   AllPub|   Corner|      Gtl|     BrkSide|      Norm|      Norm|    1Fam|    1.5Unf|          7|          8|     1929|        2001|    Gable| CompShg|    Wd Sdng|    Wd Sdng|      None|         0|       TA|       TA|    BrkTil|      TA|      TA|          No|         Unf|         0|         Unf|         0|      832|        832|   GasA|       Ex|         Y|     FuseA|     854|       0|           0|      854|           0|           0|       1|       0|           2|           1|         TA|           5|       Typ|         0|    Detchd|       1991|         Unf|         2|       576|        TA|        TA|         Y|        48|        112|            0|        0|          0|       0|      0|     7|  2007|      WD|       Normal|   132000|\n",
      "| 17|        20|      RL|         NA|  11241|  Pave|     IR1|        Lvl|   AllPub|  CulDSac|      Gtl|       NAmes|      Norm|      Norm|    1Fam|    1Story|          6|          7|     1970|        1970|    Gable| CompShg|    Wd Sdng|    Wd Sdng|   BrkFace|       180|       TA|       TA|    CBlock|      TA|      TA|          No|         ALQ|       578|         Unf|         0|      426|       1004|   GasA|       Ex|         Y|     SBrkr|    1004|       0|           0|     1004|           1|           0|       1|       0|           2|           1|         TA|           5|       Typ|         1|    Attchd|       1970|         Fin|         2|       480|        TA|        TA|         Y|         0|          0|            0|        0|          0|       0|    700|     3|  2010|      WD|       Normal|   149000|\n",
      "| 18|        90|      RL|         72|  10791|  Pave|     Reg|        Lvl|   AllPub|   Inside|      Gtl|      Sawyer|      Norm|      Norm|  Duplex|    1Story|          4|          5|     1967|        1967|    Gable| CompShg|    MetalSd|    MetalSd|      None|         0|       TA|       TA|      Slab|      NA|      NA|          NA|          NA|         0|          NA|         0|        0|          0|   GasA|       TA|         Y|     SBrkr|    1296|       0|           0|     1296|           0|           0|       2|       0|           2|           2|         TA|           6|       Typ|         0|   CarPort|       1967|         Unf|         2|       516|        TA|        TA|         Y|         0|          0|            0|        0|          0|       0|    500|    10|  2006|      WD|       Normal|    90000|\n",
      "| 19|        20|      RL|         66|  13695|  Pave|     Reg|        Lvl|   AllPub|   Inside|      Gtl|     SawyerW|      RRAe|      Norm|    1Fam|    1Story|          5|          5|     2004|        2004|    Gable| CompShg|    VinylSd|    VinylSd|      None|         0|       TA|       TA|     PConc|      TA|      TA|          No|         GLQ|       646|         Unf|         0|      468|       1114|   GasA|       Ex|         Y|     SBrkr|    1114|       0|           0|     1114|           1|           0|       1|       1|           3|           1|         Gd|           6|       Typ|         0|    Detchd|       2004|         Unf|         2|       576|        TA|        TA|         Y|         0|        102|            0|        0|          0|       0|      0|     6|  2008|      WD|       Normal|   159000|\n",
      "| 20|        20|      RL|         70|   7560|  Pave|     Reg|        Lvl|   AllPub|   Inside|      Gtl|       NAmes|      Norm|      Norm|    1Fam|    1Story|          5|          6|     1958|        1965|      Hip| CompShg|    BrkFace|    Plywood|      None|         0|       TA|       TA|    CBlock|      TA|      TA|          No|         LwQ|       504|         Unf|         0|      525|       1029|   GasA|       TA|         Y|     SBrkr|    1339|       0|           0|     1339|           0|           0|       1|       0|           3|           1|         TA|           6|      Min1|         0|    Attchd|       1958|         Unf|         1|       294|        TA|        TA|         Y|         0|          0|            0|        0|          0|       0|      0|     5|  2009|     COD|      Abnorml|   139000|\n",
      "+---+----------+--------+-----------+-------+------+--------+-----------+---------+---------+---------+------------+----------+----------+--------+----------+-----------+-----------+---------+------------+---------+--------+-----------+-----------+----------+----------+---------+---------+----------+--------+--------+------------+------------+----------+------------+----------+---------+-----------+-------+---------+----------+----------+--------+--------+------------+---------+------------+------------+--------+--------+------------+------------+-----------+------------+----------+----------+----------+-----------+------------+----------+----------+----------+----------+----------+----------+-----------+-------------+---------+-----------+--------+-------+------+------+--------+-------------+---------+\n",
      "only showing top 20 rows\n",
      "\n"
     ]
    }
   ],
   "source": [
    "df3.show()"
   ]
  },
  {
   "cell_type": "code",
   "execution_count": 18,
   "metadata": {
    "id": "zaw1bjsHmPZ2"
   },
   "outputs": [],
   "source": [
    "df4 = df3.select([count(when((col(c)=='NA') | \\\n",
    "                            (col(c) == '' ) | \\\n",
    "                            col(c).isNull() | \\\n",
    "                            isnan(c), c \n",
    "                           )).alias(c)\n",
    "                    for c in df3.columns])"
   ]
  },
  {
   "cell_type": "code",
   "execution_count": 19,
   "metadata": {
    "colab": {
     "base_uri": "https://localhost:8080/"
    },
    "id": "Q2UC57Epm4kf",
    "outputId": "8e69214b-f298-4646-a55e-f3c9202d9039"
   },
   "outputs": [
    {
     "name": "stdout",
     "output_type": "stream",
     "text": [
      "+---+----------+--------+-----------+-------+------+--------+-----------+---------+---------+---------+------------+----------+----------+--------+----------+-----------+-----------+---------+------------+---------+--------+-----------+-----------+----------+----------+---------+---------+----------+--------+--------+------------+------------+----------+------------+----------+---------+-----------+-------+---------+----------+----------+--------+--------+------------+---------+------------+------------+--------+--------+------------+------------+-----------+------------+----------+----------+----------+-----------+------------+----------+----------+----------+----------+----------+----------+-----------+-------------+---------+-----------+--------+-------+------+------+--------+-------------+---------+\n",
      "| Id|MSSubClass|MSZoning|LotFrontage|LotArea|Street|LotShape|LandContour|Utilities|LotConfig|LandSlope|Neighborhood|Condition1|Condition2|BldgType|HouseStyle|OverallQual|OverallCond|YearBuilt|YearRemodAdd|RoofStyle|RoofMatl|Exterior1st|Exterior2nd|MasVnrType|MasVnrArea|ExterQual|ExterCond|Foundation|BsmtQual|BsmtCond|BsmtExposure|BsmtFinType1|BsmtFinSF1|BsmtFinType2|BsmtFinSF2|BsmtUnfSF|TotalBsmtSF|Heating|HeatingQC|CentralAir|Electrical|1stFlrSF|2ndFlrSF|LowQualFinSF|GrLivArea|BsmtFullBath|BsmtHalfBath|FullBath|HalfBath|BedroomAbvGr|KitchenAbvGr|KitchenQual|TotRmsAbvGrd|Functional|Fireplaces|GarageType|GarageYrBlt|GarageFinish|GarageCars|GarageArea|GarageQual|GarageCond|PavedDrive|WoodDeckSF|OpenPorchSF|EnclosedPorch|3SsnPorch|ScreenPorch|PoolArea|MiscVal|MoSold|YrSold|SaleType|SaleCondition|SalePrice|\n",
      "+---+----------+--------+-----------+-------+------+--------+-----------+---------+---------+---------+------------+----------+----------+--------+----------+-----------+-----------+---------+------------+---------+--------+-----------+-----------+----------+----------+---------+---------+----------+--------+--------+------------+------------+----------+------------+----------+---------+-----------+-------+---------+----------+----------+--------+--------+------------+---------+------------+------------+--------+--------+------------+------------+-----------+------------+----------+----------+----------+-----------+------------+----------+----------+----------+----------+----------+----------+-----------+-------------+---------+-----------+--------+-------+------+------+--------+-------------+---------+\n",
      "|  0|         0|       0|        259|      0|     0|       0|          0|        0|        0|        0|           0|         0|         0|       0|         0|          0|          0|        0|           0|        0|       0|          0|          0|         8|         8|        0|        0|         0|      37|      37|          38|          37|         0|          38|         0|        0|          0|      0|        0|         0|         1|       0|       0|           0|        0|           0|           0|       0|       0|           0|           0|          0|           0|         0|         0|        81|         81|          81|         0|         0|        81|        81|         0|         0|          0|            0|        0|          0|       0|      0|     0|     0|       0|            0|        0|\n",
      "+---+----------+--------+-----------+-------+------+--------+-----------+---------+---------+---------+------------+----------+----------+--------+----------+-----------+-----------+---------+------------+---------+--------+-----------+-----------+----------+----------+---------+---------+----------+--------+--------+------------+------------+----------+------------+----------+---------+-----------+-------+---------+----------+----------+--------+--------+------------+---------+------------+------------+--------+--------+------------+------------+-----------+------------+----------+----------+----------+-----------+------------+----------+----------+----------+----------+----------+----------+-----------+-------------+---------+-----------+--------+-------+------+------+--------+-------------+---------+\n",
      "\n"
     ]
    }
   ],
   "source": [
    "df4.show()"
   ]
  },
  {
   "cell_type": "code",
   "execution_count": 20,
   "metadata": {
    "colab": {
     "base_uri": "https://localhost:8080/"
    },
    "id": "U7OiBf8Pm6dB",
    "outputId": "03b6269e-caff-4193-f5b8-337ec279dbb2"
   },
   "outputs": [
    {
     "data": {
      "text/plain": [
       "DataFrame[summary: string, Id: string, MSSubClass: string, MSZoning: string, LotFrontage: string, LotArea: string, Street: string, LotShape: string, LandContour: string, Utilities: string, LotConfig: string, LandSlope: string, Neighborhood: string, Condition1: string, Condition2: string, BldgType: string, HouseStyle: string, OverallQual: string, OverallCond: string, YearBuilt: string, YearRemodAdd: string, RoofStyle: string, RoofMatl: string, Exterior1st: string, Exterior2nd: string, MasVnrType: string, MasVnrArea: string, ExterQual: string, ExterCond: string, Foundation: string, BsmtQual: string, BsmtCond: string, BsmtExposure: string, BsmtFinType1: string, BsmtFinSF1: string, BsmtFinType2: string, BsmtFinSF2: string, BsmtUnfSF: string, TotalBsmtSF: string, Heating: string, HeatingQC: string, CentralAir: string, Electrical: string, 1stFlrSF: string, 2ndFlrSF: string, LowQualFinSF: string, GrLivArea: string, BsmtFullBath: string, BsmtHalfBath: string, FullBath: string, HalfBath: string, BedroomAbvGr: string, KitchenAbvGr: string, KitchenQual: string, TotRmsAbvGrd: string, Functional: string, Fireplaces: string, GarageType: string, GarageYrBlt: string, GarageFinish: string, GarageCars: string, GarageArea: string, GarageQual: string, GarageCond: string, PavedDrive: string, WoodDeckSF: string, OpenPorchSF: string, EnclosedPorch: string, 3SsnPorch: string, ScreenPorch: string, PoolArea: string, MiscVal: string, MoSold: string, YrSold: string, SaleType: string, SaleCondition: string, SalePrice: string]"
      ]
     },
     "execution_count": 20,
     "metadata": {},
     "output_type": "execute_result"
    }
   ],
   "source": [
    "df3.describe()"
   ]
  },
  {
   "cell_type": "code",
   "execution_count": 21,
   "metadata": {
    "colab": {
     "base_uri": "https://localhost:8080/"
    },
    "id": "O_v1R4bYnZHS",
    "outputId": "e527dec8-d23f-40ef-e2a1-f103e5b46ae0"
   },
   "outputs": [
    {
     "name": "stdout",
     "output_type": "stream",
     "text": [
      "root\n",
      " |-- Id: integer (nullable = true)\n",
      " |-- MSSubClass: integer (nullable = true)\n",
      " |-- MSZoning: string (nullable = true)\n",
      " |-- LotFrontage: string (nullable = true)\n",
      " |-- LotArea: integer (nullable = true)\n",
      " |-- Street: string (nullable = true)\n",
      " |-- LotShape: string (nullable = true)\n",
      " |-- LandContour: string (nullable = true)\n",
      " |-- Utilities: string (nullable = true)\n",
      " |-- LotConfig: string (nullable = true)\n",
      " |-- LandSlope: string (nullable = true)\n",
      " |-- Neighborhood: string (nullable = true)\n",
      " |-- Condition1: string (nullable = true)\n",
      " |-- Condition2: string (nullable = true)\n",
      " |-- BldgType: string (nullable = true)\n",
      " |-- HouseStyle: string (nullable = true)\n",
      " |-- OverallQual: integer (nullable = true)\n",
      " |-- OverallCond: integer (nullable = true)\n",
      " |-- YearBuilt: integer (nullable = true)\n",
      " |-- YearRemodAdd: integer (nullable = true)\n",
      " |-- RoofStyle: string (nullable = true)\n",
      " |-- RoofMatl: string (nullable = true)\n",
      " |-- Exterior1st: string (nullable = true)\n",
      " |-- Exterior2nd: string (nullable = true)\n",
      " |-- MasVnrType: string (nullable = true)\n",
      " |-- MasVnrArea: string (nullable = true)\n",
      " |-- ExterQual: string (nullable = true)\n",
      " |-- ExterCond: string (nullable = true)\n",
      " |-- Foundation: string (nullable = true)\n",
      " |-- BsmtQual: string (nullable = true)\n",
      " |-- BsmtCond: string (nullable = true)\n",
      " |-- BsmtExposure: string (nullable = true)\n",
      " |-- BsmtFinType1: string (nullable = true)\n",
      " |-- BsmtFinSF1: integer (nullable = true)\n",
      " |-- BsmtFinType2: string (nullable = true)\n",
      " |-- BsmtFinSF2: integer (nullable = true)\n",
      " |-- BsmtUnfSF: integer (nullable = true)\n",
      " |-- TotalBsmtSF: integer (nullable = true)\n",
      " |-- Heating: string (nullable = true)\n",
      " |-- HeatingQC: string (nullable = true)\n",
      " |-- CentralAir: string (nullable = true)\n",
      " |-- Electrical: string (nullable = true)\n",
      " |-- 1stFlrSF: integer (nullable = true)\n",
      " |-- 2ndFlrSF: integer (nullable = true)\n",
      " |-- LowQualFinSF: integer (nullable = true)\n",
      " |-- GrLivArea: integer (nullable = true)\n",
      " |-- BsmtFullBath: integer (nullable = true)\n",
      " |-- BsmtHalfBath: integer (nullable = true)\n",
      " |-- FullBath: integer (nullable = true)\n",
      " |-- HalfBath: integer (nullable = true)\n",
      " |-- BedroomAbvGr: integer (nullable = true)\n",
      " |-- KitchenAbvGr: integer (nullable = true)\n",
      " |-- KitchenQual: string (nullable = true)\n",
      " |-- TotRmsAbvGrd: integer (nullable = true)\n",
      " |-- Functional: string (nullable = true)\n",
      " |-- Fireplaces: integer (nullable = true)\n",
      " |-- GarageType: string (nullable = true)\n",
      " |-- GarageYrBlt: string (nullable = true)\n",
      " |-- GarageFinish: string (nullable = true)\n",
      " |-- GarageCars: integer (nullable = true)\n",
      " |-- GarageArea: integer (nullable = true)\n",
      " |-- GarageQual: string (nullable = true)\n",
      " |-- GarageCond: string (nullable = true)\n",
      " |-- PavedDrive: string (nullable = true)\n",
      " |-- WoodDeckSF: integer (nullable = true)\n",
      " |-- OpenPorchSF: integer (nullable = true)\n",
      " |-- EnclosedPorch: integer (nullable = true)\n",
      " |-- 3SsnPorch: integer (nullable = true)\n",
      " |-- ScreenPorch: integer (nullable = true)\n",
      " |-- PoolArea: integer (nullable = true)\n",
      " |-- MiscVal: integer (nullable = true)\n",
      " |-- MoSold: integer (nullable = true)\n",
      " |-- YrSold: integer (nullable = true)\n",
      " |-- SaleType: string (nullable = true)\n",
      " |-- SaleCondition: string (nullable = true)\n",
      " |-- SalePrice: integer (nullable = true)\n",
      "\n"
     ]
    }
   ],
   "source": [
    "df3.printSchema()\n"
   ]
  },
  {
   "cell_type": "code",
   "execution_count": 22,
   "metadata": {
    "colab": {
     "base_uri": "https://localhost:8080/"
    },
    "id": "nb4A9HOLnmMT",
    "outputId": "2f1310de-f416-43b2-9e8b-b36c616cd025"
   },
   "outputs": [
    {
     "data": {
      "text/plain": [
       "Id               0\n",
       "MSSubClass       0\n",
       "MSZoning         0\n",
       "LotFrontage      0\n",
       "LotArea          0\n",
       "                ..\n",
       "MoSold           0\n",
       "YrSold           0\n",
       "SaleType         0\n",
       "SaleCondition    0\n",
       "SalePrice        0\n",
       "Length: 76, dtype: int64"
      ]
     },
     "execution_count": 22,
     "metadata": {},
     "output_type": "execute_result"
    }
   ],
   "source": [
    "df3.toPandas().isnull().sum()\n"
   ]
  },
  {
   "cell_type": "code",
   "execution_count": 23,
   "metadata": {
    "id": "VYPi_X20qNAM"
   },
   "outputs": [],
   "source": [
    "#from pyspark.sql.functions import when, lit\n",
    "#df5 = df3.withColumn('GarageFinish', when(df3['GarageArea']==0,\n",
    "#lit(0)).otherwise(df3['GarageFinish']))"
   ]
  },
  {
   "cell_type": "code",
   "execution_count": 24,
   "metadata": {
    "id": "WXw_n-5ivdYG"
   },
   "outputs": [],
   "source": [
    "df5 = df3.drop('Id')"
   ]
  },
  {
   "cell_type": "code",
   "execution_count": 25,
   "metadata": {
    "colab": {
     "base_uri": "https://localhost:8080/"
    },
    "id": "BAX7uw9uyyRD",
    "outputId": "6ba642d2-d7a7-487f-ef9c-a5f93da0f156"
   },
   "outputs": [
    {
     "name": "stdout",
     "output_type": "stream",
     "text": [
      "root\n",
      " |-- MSSubClass: integer (nullable = true)\n",
      " |-- MSZoning: string (nullable = true)\n",
      " |-- LotFrontage: string (nullable = true)\n",
      " |-- LotArea: integer (nullable = true)\n",
      " |-- Street: string (nullable = true)\n",
      " |-- LotShape: string (nullable = true)\n",
      " |-- LandContour: string (nullable = true)\n",
      " |-- Utilities: string (nullable = true)\n",
      " |-- LotConfig: string (nullable = true)\n",
      " |-- LandSlope: string (nullable = true)\n",
      " |-- Neighborhood: string (nullable = true)\n",
      " |-- Condition1: string (nullable = true)\n",
      " |-- Condition2: string (nullable = true)\n",
      " |-- BldgType: string (nullable = true)\n",
      " |-- HouseStyle: string (nullable = true)\n",
      " |-- OverallQual: integer (nullable = true)\n",
      " |-- OverallCond: integer (nullable = true)\n",
      " |-- YearBuilt: integer (nullable = true)\n",
      " |-- YearRemodAdd: integer (nullable = true)\n",
      " |-- RoofStyle: string (nullable = true)\n",
      " |-- RoofMatl: string (nullable = true)\n",
      " |-- Exterior1st: string (nullable = true)\n",
      " |-- Exterior2nd: string (nullable = true)\n",
      " |-- MasVnrType: string (nullable = true)\n",
      " |-- MasVnrArea: string (nullable = true)\n",
      " |-- ExterQual: string (nullable = true)\n",
      " |-- ExterCond: string (nullable = true)\n",
      " |-- Foundation: string (nullable = true)\n",
      " |-- BsmtQual: string (nullable = true)\n",
      " |-- BsmtCond: string (nullable = true)\n",
      " |-- BsmtExposure: string (nullable = true)\n",
      " |-- BsmtFinType1: string (nullable = true)\n",
      " |-- BsmtFinSF1: integer (nullable = true)\n",
      " |-- BsmtFinType2: string (nullable = true)\n",
      " |-- BsmtFinSF2: integer (nullable = true)\n",
      " |-- BsmtUnfSF: integer (nullable = true)\n",
      " |-- TotalBsmtSF: integer (nullable = true)\n",
      " |-- Heating: string (nullable = true)\n",
      " |-- HeatingQC: string (nullable = true)\n",
      " |-- CentralAir: string (nullable = true)\n",
      " |-- Electrical: string (nullable = true)\n",
      " |-- 1stFlrSF: integer (nullable = true)\n",
      " |-- 2ndFlrSF: integer (nullable = true)\n",
      " |-- LowQualFinSF: integer (nullable = true)\n",
      " |-- GrLivArea: integer (nullable = true)\n",
      " |-- BsmtFullBath: integer (nullable = true)\n",
      " |-- BsmtHalfBath: integer (nullable = true)\n",
      " |-- FullBath: integer (nullable = true)\n",
      " |-- HalfBath: integer (nullable = true)\n",
      " |-- BedroomAbvGr: integer (nullable = true)\n",
      " |-- KitchenAbvGr: integer (nullable = true)\n",
      " |-- KitchenQual: string (nullable = true)\n",
      " |-- TotRmsAbvGrd: integer (nullable = true)\n",
      " |-- Functional: string (nullable = true)\n",
      " |-- Fireplaces: integer (nullable = true)\n",
      " |-- GarageType: string (nullable = true)\n",
      " |-- GarageYrBlt: string (nullable = true)\n",
      " |-- GarageFinish: string (nullable = true)\n",
      " |-- GarageCars: integer (nullable = true)\n",
      " |-- GarageArea: integer (nullable = true)\n",
      " |-- GarageQual: string (nullable = true)\n",
      " |-- GarageCond: string (nullable = true)\n",
      " |-- PavedDrive: string (nullable = true)\n",
      " |-- WoodDeckSF: integer (nullable = true)\n",
      " |-- OpenPorchSF: integer (nullable = true)\n",
      " |-- EnclosedPorch: integer (nullable = true)\n",
      " |-- 3SsnPorch: integer (nullable = true)\n",
      " |-- ScreenPorch: integer (nullable = true)\n",
      " |-- PoolArea: integer (nullable = true)\n",
      " |-- MiscVal: integer (nullable = true)\n",
      " |-- MoSold: integer (nullable = true)\n",
      " |-- YrSold: integer (nullable = true)\n",
      " |-- SaleType: string (nullable = true)\n",
      " |-- SaleCondition: string (nullable = true)\n",
      " |-- SalePrice: integer (nullable = true)\n",
      "\n"
     ]
    }
   ],
   "source": [
    "df5.printSchema()"
   ]
  },
  {
   "cell_type": "code",
   "execution_count": 26,
   "metadata": {
    "id": "lGNm6KXazKEE"
   },
   "outputs": [],
   "source": [
    "train_string_columns = []\n",
    "\n",
    "for col, dtype in df5.dtypes:\n",
    "    if dtype == 'string':\n",
    "        train_string_columns.append(col)\n"
   ]
  },
  {
   "cell_type": "code",
   "execution_count": 27,
   "metadata": {
    "colab": {
     "base_uri": "https://localhost:8080/"
    },
    "id": "srpnPm8izSw_",
    "outputId": "5f704ed3-03e2-4896-c231-22a29b0568c5"
   },
   "outputs": [
    {
     "data": {
      "text/plain": [
       "['MSZoning',\n",
       " 'LotFrontage',\n",
       " 'Street',\n",
       " 'LotShape',\n",
       " 'LandContour',\n",
       " 'Utilities',\n",
       " 'LotConfig',\n",
       " 'LandSlope',\n",
       " 'Neighborhood',\n",
       " 'Condition1',\n",
       " 'Condition2',\n",
       " 'BldgType',\n",
       " 'HouseStyle',\n",
       " 'RoofStyle',\n",
       " 'RoofMatl',\n",
       " 'Exterior1st',\n",
       " 'Exterior2nd',\n",
       " 'MasVnrType',\n",
       " 'MasVnrArea',\n",
       " 'ExterQual',\n",
       " 'ExterCond',\n",
       " 'Foundation',\n",
       " 'BsmtQual',\n",
       " 'BsmtCond',\n",
       " 'BsmtExposure',\n",
       " 'BsmtFinType1',\n",
       " 'BsmtFinType2',\n",
       " 'Heating',\n",
       " 'HeatingQC',\n",
       " 'CentralAir',\n",
       " 'Electrical',\n",
       " 'KitchenQual',\n",
       " 'Functional',\n",
       " 'GarageType',\n",
       " 'GarageYrBlt',\n",
       " 'GarageFinish',\n",
       " 'GarageQual',\n",
       " 'GarageCond',\n",
       " 'PavedDrive',\n",
       " 'SaleType',\n",
       " 'SaleCondition']"
      ]
     },
     "execution_count": 27,
     "metadata": {},
     "output_type": "execute_result"
    }
   ],
   "source": [
    "train_string_columns"
   ]
  },
  {
   "cell_type": "code",
   "execution_count": 28,
   "metadata": {
    "id": "BotRo9V10GGS"
   },
   "outputs": [],
   "source": [
    "from pyspark.ml import Pipeline\n",
    "from pyspark.ml.feature import StringIndexer\n",
    "\n",
    "indexers = [StringIndexer(inputCol=column, outputCol=column+'_index', handleInvalid='keep').fit(df5) for column in train_string_columns]\n",
    "\n",
    "\n",
    "pipeline = Pipeline(stages=indexers)\n",
    "train_indexed = pipeline.fit(df5).transform(df5)\n"
   ]
  },
  {
   "cell_type": "code",
   "execution_count": 29,
   "metadata": {
    "colab": {
     "base_uri": "https://localhost:8080/"
    },
    "id": "fY8L43Be052T",
    "outputId": "0acd963e-6f3f-406a-e3e2-df0148c3cf6e"
   },
   "outputs": [
    {
     "name": "stdout",
     "output_type": "stream",
     "text": [
      "root\n",
      " |-- MSSubClass: integer (nullable = true)\n",
      " |-- MSZoning: string (nullable = true)\n",
      " |-- LotFrontage: string (nullable = true)\n",
      " |-- LotArea: integer (nullable = true)\n",
      " |-- Street: string (nullable = true)\n",
      " |-- LotShape: string (nullable = true)\n",
      " |-- LandContour: string (nullable = true)\n",
      " |-- Utilities: string (nullable = true)\n",
      " |-- LotConfig: string (nullable = true)\n",
      " |-- LandSlope: string (nullable = true)\n",
      " |-- Neighborhood: string (nullable = true)\n",
      " |-- Condition1: string (nullable = true)\n",
      " |-- Condition2: string (nullable = true)\n",
      " |-- BldgType: string (nullable = true)\n",
      " |-- HouseStyle: string (nullable = true)\n",
      " |-- OverallQual: integer (nullable = true)\n",
      " |-- OverallCond: integer (nullable = true)\n",
      " |-- YearBuilt: integer (nullable = true)\n",
      " |-- YearRemodAdd: integer (nullable = true)\n",
      " |-- RoofStyle: string (nullable = true)\n",
      " |-- RoofMatl: string (nullable = true)\n",
      " |-- Exterior1st: string (nullable = true)\n",
      " |-- Exterior2nd: string (nullable = true)\n",
      " |-- MasVnrType: string (nullable = true)\n",
      " |-- MasVnrArea: string (nullable = true)\n",
      " |-- ExterQual: string (nullable = true)\n",
      " |-- ExterCond: string (nullable = true)\n",
      " |-- Foundation: string (nullable = true)\n",
      " |-- BsmtQual: string (nullable = true)\n",
      " |-- BsmtCond: string (nullable = true)\n",
      " |-- BsmtExposure: string (nullable = true)\n",
      " |-- BsmtFinType1: string (nullable = true)\n",
      " |-- BsmtFinSF1: integer (nullable = true)\n",
      " |-- BsmtFinType2: string (nullable = true)\n",
      " |-- BsmtFinSF2: integer (nullable = true)\n",
      " |-- BsmtUnfSF: integer (nullable = true)\n",
      " |-- TotalBsmtSF: integer (nullable = true)\n",
      " |-- Heating: string (nullable = true)\n",
      " |-- HeatingQC: string (nullable = true)\n",
      " |-- CentralAir: string (nullable = true)\n",
      " |-- Electrical: string (nullable = true)\n",
      " |-- 1stFlrSF: integer (nullable = true)\n",
      " |-- 2ndFlrSF: integer (nullable = true)\n",
      " |-- LowQualFinSF: integer (nullable = true)\n",
      " |-- GrLivArea: integer (nullable = true)\n",
      " |-- BsmtFullBath: integer (nullable = true)\n",
      " |-- BsmtHalfBath: integer (nullable = true)\n",
      " |-- FullBath: integer (nullable = true)\n",
      " |-- HalfBath: integer (nullable = true)\n",
      " |-- BedroomAbvGr: integer (nullable = true)\n",
      " |-- KitchenAbvGr: integer (nullable = true)\n",
      " |-- KitchenQual: string (nullable = true)\n",
      " |-- TotRmsAbvGrd: integer (nullable = true)\n",
      " |-- Functional: string (nullable = true)\n",
      " |-- Fireplaces: integer (nullable = true)\n",
      " |-- GarageType: string (nullable = true)\n",
      " |-- GarageYrBlt: string (nullable = true)\n",
      " |-- GarageFinish: string (nullable = true)\n",
      " |-- GarageCars: integer (nullable = true)\n",
      " |-- GarageArea: integer (nullable = true)\n",
      " |-- GarageQual: string (nullable = true)\n",
      " |-- GarageCond: string (nullable = true)\n",
      " |-- PavedDrive: string (nullable = true)\n",
      " |-- WoodDeckSF: integer (nullable = true)\n",
      " |-- OpenPorchSF: integer (nullable = true)\n",
      " |-- EnclosedPorch: integer (nullable = true)\n",
      " |-- 3SsnPorch: integer (nullable = true)\n",
      " |-- ScreenPorch: integer (nullable = true)\n",
      " |-- PoolArea: integer (nullable = true)\n",
      " |-- MiscVal: integer (nullable = true)\n",
      " |-- MoSold: integer (nullable = true)\n",
      " |-- YrSold: integer (nullable = true)\n",
      " |-- SaleType: string (nullable = true)\n",
      " |-- SaleCondition: string (nullable = true)\n",
      " |-- SalePrice: integer (nullable = true)\n",
      " |-- MSZoning_index: double (nullable = false)\n",
      " |-- LotFrontage_index: double (nullable = false)\n",
      " |-- Street_index: double (nullable = false)\n",
      " |-- LotShape_index: double (nullable = false)\n",
      " |-- LandContour_index: double (nullable = false)\n",
      " |-- Utilities_index: double (nullable = false)\n",
      " |-- LotConfig_index: double (nullable = false)\n",
      " |-- LandSlope_index: double (nullable = false)\n",
      " |-- Neighborhood_index: double (nullable = false)\n",
      " |-- Condition1_index: double (nullable = false)\n",
      " |-- Condition2_index: double (nullable = false)\n",
      " |-- BldgType_index: double (nullable = false)\n",
      " |-- HouseStyle_index: double (nullable = false)\n",
      " |-- RoofStyle_index: double (nullable = false)\n",
      " |-- RoofMatl_index: double (nullable = false)\n",
      " |-- Exterior1st_index: double (nullable = false)\n",
      " |-- Exterior2nd_index: double (nullable = false)\n",
      " |-- MasVnrType_index: double (nullable = false)\n",
      " |-- MasVnrArea_index: double (nullable = false)\n",
      " |-- ExterQual_index: double (nullable = false)\n",
      " |-- ExterCond_index: double (nullable = false)\n",
      " |-- Foundation_index: double (nullable = false)\n",
      " |-- BsmtQual_index: double (nullable = false)\n",
      " |-- BsmtCond_index: double (nullable = false)\n",
      " |-- BsmtExposure_index: double (nullable = false)\n",
      " |-- BsmtFinType1_index: double (nullable = false)\n",
      " |-- BsmtFinType2_index: double (nullable = false)\n",
      " |-- Heating_index: double (nullable = false)\n",
      " |-- HeatingQC_index: double (nullable = false)\n",
      " |-- CentralAir_index: double (nullable = false)\n",
      " |-- Electrical_index: double (nullable = false)\n",
      " |-- KitchenQual_index: double (nullable = false)\n",
      " |-- Functional_index: double (nullable = false)\n",
      " |-- GarageType_index: double (nullable = false)\n",
      " |-- GarageYrBlt_index: double (nullable = false)\n",
      " |-- GarageFinish_index: double (nullable = false)\n",
      " |-- GarageQual_index: double (nullable = false)\n",
      " |-- GarageCond_index: double (nullable = false)\n",
      " |-- PavedDrive_index: double (nullable = false)\n",
      " |-- SaleType_index: double (nullable = false)\n",
      " |-- SaleCondition_index: double (nullable = false)\n",
      "\n"
     ]
    }
   ],
   "source": [
    "train_indexed.printSchema()"
   ]
  },
  {
   "cell_type": "code",
   "execution_count": 30,
   "metadata": {
    "colab": {
     "base_uri": "https://localhost:8080/"
    },
    "id": "mLOS3XIy1rGu",
    "outputId": "333e3e3c-07f2-48d3-f614-6f91751f2d4d"
   },
   "outputs": [
    {
     "name": "stdout",
     "output_type": "stream",
     "text": [
      "+----------+--------+-----------+-------+------+--------+-----------+---------+---------+---------+------------+----------+----------+--------+----------+-----------+-----------+---------+------------+---------+--------+-----------+-----------+----------+----------+---------+---------+----------+--------+--------+------------+------------+----------+------------+----------+---------+-----------+-------+---------+----------+----------+--------+--------+------------+---------+------------+------------+--------+--------+------------+------------+-----------+------------+----------+----------+----------+-----------+------------+----------+----------+----------+----------+----------+----------+-----------+-------------+---------+-----------+--------+-------+------+------+--------+-------------+---------+--------------+-----------------+------------+--------------+-----------------+---------------+---------------+---------------+------------------+----------------+----------------+--------------+----------------+---------------+--------------+-----------------+-----------------+----------------+----------------+---------------+---------------+----------------+--------------+--------------+------------------+------------------+------------------+-------------+---------------+----------------+----------------+-----------------+----------------+----------------+-----------------+------------------+----------------+----------------+----------------+--------------+-------------------+\n",
      "|MSSubClass|MSZoning|LotFrontage|LotArea|Street|LotShape|LandContour|Utilities|LotConfig|LandSlope|Neighborhood|Condition1|Condition2|BldgType|HouseStyle|OverallQual|OverallCond|YearBuilt|YearRemodAdd|RoofStyle|RoofMatl|Exterior1st|Exterior2nd|MasVnrType|MasVnrArea|ExterQual|ExterCond|Foundation|BsmtQual|BsmtCond|BsmtExposure|BsmtFinType1|BsmtFinSF1|BsmtFinType2|BsmtFinSF2|BsmtUnfSF|TotalBsmtSF|Heating|HeatingQC|CentralAir|Electrical|1stFlrSF|2ndFlrSF|LowQualFinSF|GrLivArea|BsmtFullBath|BsmtHalfBath|FullBath|HalfBath|BedroomAbvGr|KitchenAbvGr|KitchenQual|TotRmsAbvGrd|Functional|Fireplaces|GarageType|GarageYrBlt|GarageFinish|GarageCars|GarageArea|GarageQual|GarageCond|PavedDrive|WoodDeckSF|OpenPorchSF|EnclosedPorch|3SsnPorch|ScreenPorch|PoolArea|MiscVal|MoSold|YrSold|SaleType|SaleCondition|SalePrice|MSZoning_index|LotFrontage_index|Street_index|LotShape_index|LandContour_index|Utilities_index|LotConfig_index|LandSlope_index|Neighborhood_index|Condition1_index|Condition2_index|BldgType_index|HouseStyle_index|RoofStyle_index|RoofMatl_index|Exterior1st_index|Exterior2nd_index|MasVnrType_index|MasVnrArea_index|ExterQual_index|ExterCond_index|Foundation_index|BsmtQual_index|BsmtCond_index|BsmtExposure_index|BsmtFinType1_index|BsmtFinType2_index|Heating_index|HeatingQC_index|CentralAir_index|Electrical_index|KitchenQual_index|Functional_index|GarageType_index|GarageYrBlt_index|GarageFinish_index|GarageQual_index|GarageCond_index|PavedDrive_index|SaleType_index|SaleCondition_index|\n",
      "+----------+--------+-----------+-------+------+--------+-----------+---------+---------+---------+------------+----------+----------+--------+----------+-----------+-----------+---------+------------+---------+--------+-----------+-----------+----------+----------+---------+---------+----------+--------+--------+------------+------------+----------+------------+----------+---------+-----------+-------+---------+----------+----------+--------+--------+------------+---------+------------+------------+--------+--------+------------+------------+-----------+------------+----------+----------+----------+-----------+------------+----------+----------+----------+----------+----------+----------+-----------+-------------+---------+-----------+--------+-------+------+------+--------+-------------+---------+--------------+-----------------+------------+--------------+-----------------+---------------+---------------+---------------+------------------+----------------+----------------+--------------+----------------+---------------+--------------+-----------------+-----------------+----------------+----------------+---------------+---------------+----------------+--------------+--------------+------------------+------------------+------------------+-------------+---------------+----------------+----------------+-----------------+----------------+----------------+-----------------+------------------+----------------+----------------+----------------+--------------+-------------------+\n",
      "|        60|      RL|         65|   8450|  Pave|     Reg|        Lvl|   AllPub|   Inside|      Gtl|     CollgCr|      Norm|      Norm|    1Fam|    2Story|          7|          5|     2003|        2003|    Gable| CompShg|    VinylSd|    VinylSd|   BrkFace|       196|       Gd|       TA|     PConc|      Gd|      TA|          No|         GLQ|       706|         Unf|         0|      150|        856|   GasA|       Ex|         Y|     SBrkr|     856|     854|           0|     1710|           1|           0|       2|       1|           3|           1|         Gd|           8|       Typ|         0|    Attchd|       2003|         RFn|         2|       548|        TA|        TA|         Y|         0|         61|            0|        0|          0|       0|      0|     2|  2008|      WD|       Normal|   208500|           0.0|              6.0|         0.0|           0.0|              0.0|            0.0|            0.0|            0.0|               1.0|             0.0|             0.0|           0.0|             1.0|            0.0|           0.0|              0.0|              0.0|             1.0|            21.0|            1.0|            0.0|             0.0|           1.0|           0.0|               0.0|               1.0|               0.0|          0.0|            0.0|             0.0|             0.0|              1.0|             0.0|             0.0|              4.0|               1.0|             0.0|             0.0|             0.0|           0.0|                0.0|\n",
      "|        20|      RL|         80|   9600|  Pave|     Reg|        Lvl|   AllPub|      FR2|      Gtl|     Veenker|     Feedr|      Norm|    1Fam|    1Story|          6|          8|     1976|        1976|    Gable| CompShg|    MetalSd|    MetalSd|      None|         0|       TA|       TA|    CBlock|      Gd|      TA|          Gd|         ALQ|       978|         Unf|         0|      284|       1262|   GasA|       Ex|         Y|     SBrkr|    1262|       0|           0|     1262|           0|           1|       2|       0|           3|           1|         TA|           6|       Typ|         1|    Attchd|       1976|         RFn|         2|       460|        TA|        TA|         Y|       298|          0|            0|        0|          0|       0|      0|     5|  2007|      WD|       Normal|   181500|           0.0|              3.0|         0.0|           0.0|              0.0|            0.0|            3.0|            0.0|              22.0|             1.0|             0.0|           0.0|             0.0|            0.0|           0.0|              2.0|              1.0|             0.0|             0.0|            0.0|            0.0|             1.0|           1.0|           0.0|               2.0|               2.0|               0.0|          0.0|            0.0|             0.0|             0.0|              0.0|             0.0|             0.0|              9.0|               1.0|             0.0|             0.0|             0.0|           0.0|                0.0|\n",
      "|        60|      RL|         68|  11250|  Pave|     IR1|        Lvl|   AllPub|   Inside|      Gtl|     CollgCr|      Norm|      Norm|    1Fam|    2Story|          7|          5|     2001|        2002|    Gable| CompShg|    VinylSd|    VinylSd|   BrkFace|       162|       Gd|       TA|     PConc|      Gd|      TA|          Mn|         GLQ|       486|         Unf|         0|      434|        920|   GasA|       Ex|         Y|     SBrkr|     920|     866|           0|     1786|           1|           0|       2|       1|           3|           1|         Gd|           6|       Typ|         1|    Attchd|       2001|         RFn|         2|       608|        TA|        TA|         Y|         0|         42|            0|        0|          0|       0|      0|     9|  2008|      WD|       Normal|   223500|           0.0|             13.0|         0.0|           1.0|              0.0|            0.0|            0.0|            0.0|               1.0|             0.0|             0.0|           0.0|             1.0|            0.0|           0.0|              0.0|              0.0|             1.0|            81.0|            1.0|            0.0|             0.0|           1.0|           0.0|               3.0|               1.0|               0.0|          0.0|            0.0|             0.0|             0.0|              1.0|             0.0|             0.0|             24.0|               1.0|             0.0|             0.0|             0.0|           0.0|                0.0|\n",
      "|        70|      RL|         60|   9550|  Pave|     IR1|        Lvl|   AllPub|   Corner|      Gtl|     Crawfor|      Norm|      Norm|    1Fam|    2Story|          7|          5|     1915|        1970|    Gable| CompShg|    Wd Sdng|    Wd Shng|      None|         0|       TA|       TA|    BrkTil|      TA|      Gd|          No|         ALQ|       216|         Unf|         0|      540|        756|   GasA|       Gd|         Y|     SBrkr|     961|     756|           0|     1717|           1|           0|       1|       0|           3|           1|         Gd|           7|       Typ|         1|    Detchd|       1998|         Unf|         3|       642|        TA|        TA|         Y|         0|         35|          272|        0|          0|       0|      0|     2|  2006|      WD|      Abnorml|   140000|           0.0|              1.0|         0.0|           1.0|              0.0|            0.0|            1.0|            0.0|              11.0|             0.0|             0.0|           0.0|             1.0|            0.0|           0.0|              3.0|              6.0|             0.0|             0.0|            0.0|            0.0|             2.0|           0.0|           1.0|               0.0|               2.0|               0.0|          0.0|            2.0|             0.0|             0.0|              1.0|             0.0|             1.0|              7.0|               0.0|             0.0|             0.0|             0.0|           0.0|                2.0|\n",
      "|        60|      RL|         84|  14260|  Pave|     IR1|        Lvl|   AllPub|      FR2|      Gtl|     NoRidge|      Norm|      Norm|    1Fam|    2Story|          8|          5|     2000|        2000|    Gable| CompShg|    VinylSd|    VinylSd|   BrkFace|       350|       Gd|       TA|     PConc|      Gd|      TA|          Av|         GLQ|       655|         Unf|         0|      490|       1145|   GasA|       Ex|         Y|     SBrkr|    1145|    1053|           0|     2198|           1|           0|       2|       1|           4|           1|         Gd|           9|       Typ|         1|    Attchd|       2000|         RFn|         3|       836|        TA|        TA|         Y|       192|         84|            0|        0|          0|       0|      0|    12|  2008|      WD|       Normal|   250000|           0.0|             42.0|         0.0|           1.0|              0.0|            0.0|            3.0|            0.0|              13.0|             0.0|             0.0|           0.0|             1.0|            0.0|           0.0|              0.0|              0.0|             1.0|            54.0|            1.0|            0.0|             0.0|           1.0|           0.0|               1.0|               1.0|               0.0|          0.0|            0.0|             0.0|             0.0|              1.0|             0.0|             0.0|             11.0|               1.0|             0.0|             0.0|             0.0|           0.0|                0.0|\n",
      "|        50|      RL|         85|  14115|  Pave|     IR1|        Lvl|   AllPub|   Inside|      Gtl|     Mitchel|      Norm|      Norm|    1Fam|    1.5Fin|          5|          5|     1993|        1995|    Gable| CompShg|    VinylSd|    VinylSd|      None|         0|       TA|       TA|      Wood|      Gd|      TA|          No|         GLQ|       732|         Unf|         0|       64|        796|   GasA|       Ex|         Y|     SBrkr|     796|     566|           0|     1362|           1|           0|       1|       1|           1|           1|         TA|           5|       Typ|         0|    Attchd|       1993|         Unf|         2|       480|        TA|        TA|         Y|        40|         30|            0|      320|          0|       0|    700|    10|  2009|      WD|       Normal|   143000|           0.0|              7.0|         0.0|           1.0|              0.0|            0.0|            0.0|            0.0|              12.0|             0.0|             0.0|           0.0|             2.0|            0.0|           0.0|              0.0|              0.0|             0.0|             0.0|            0.0|            0.0|             5.0|           1.0|           0.0|               0.0|               1.0|               0.0|          0.0|            0.0|             0.0|             0.0|              0.0|             0.0|             0.0|             15.0|               0.0|             0.0|             0.0|             0.0|           0.0|                0.0|\n",
      "|        20|      RL|         75|  10084|  Pave|     Reg|        Lvl|   AllPub|   Inside|      Gtl|     Somerst|      Norm|      Norm|    1Fam|    1Story|          8|          5|     2004|        2005|    Gable| CompShg|    VinylSd|    VinylSd|     Stone|       186|       Gd|       TA|     PConc|      Ex|      TA|          Av|         GLQ|      1369|         Unf|         0|      317|       1686|   GasA|       Ex|         Y|     SBrkr|    1694|       0|           0|     1694|           1|           0|       2|       0|           3|           1|         Gd|           7|       Typ|         1|    Attchd|       2004|         RFn|         2|       636|        TA|        TA|         Y|       255|         57|            0|        0|          0|       0|      0|     8|  2007|      WD|       Normal|   307000|           0.0|              5.0|         0.0|           0.0|              0.0|            0.0|            0.0|            0.0|               4.0|             0.0|             0.0|           0.0|             0.0|            0.0|           0.0|              0.0|              0.0|             2.0|            47.0|            1.0|            0.0|             0.0|           2.0|           0.0|               1.0|               1.0|               0.0|          0.0|            0.0|             0.0|             0.0|              1.0|             0.0|             0.0|              3.0|               1.0|             0.0|             0.0|             0.0|           0.0|                0.0|\n",
      "|        60|      RL|         NA|  10382|  Pave|     IR1|        Lvl|   AllPub|   Corner|      Gtl|      NWAmes|      PosN|      Norm|    1Fam|    2Story|          7|          6|     1973|        1973|    Gable| CompShg|    HdBoard|    HdBoard|     Stone|       240|       TA|       TA|    CBlock|      Gd|      TA|          Mn|         ALQ|       859|         BLQ|        32|      216|       1107|   GasA|       Ex|         Y|     SBrkr|    1107|     983|           0|     2090|           1|           0|       2|       1|           3|           1|         TA|           7|       Typ|         2|    Attchd|       1973|         RFn|         2|       484|        TA|        TA|         Y|       235|        204|          228|        0|          0|       0|    350|    11|  2009|      WD|       Normal|   200000|           0.0|              0.0|         0.0|           1.0|              0.0|            0.0|            1.0|            0.0|               8.0|             4.0|             0.0|           0.0|             1.0|            0.0|           0.0|              1.0|              2.0|             2.0|            50.0|            0.0|            0.0|             1.0|           1.0|           0.0|               3.0|               2.0|               4.0|          0.0|            0.0|             0.0|             0.0|              0.0|             0.0|             0.0|             44.0|               1.0|             0.0|             0.0|             0.0|           0.0|                0.0|\n",
      "|        50|      RM|         51|   6120|  Pave|     Reg|        Lvl|   AllPub|   Inside|      Gtl|     OldTown|    Artery|      Norm|    1Fam|    1.5Fin|          7|          5|     1931|        1950|    Gable| CompShg|    BrkFace|    Wd Shng|      None|         0|       TA|       TA|    BrkTil|      TA|      TA|          No|         Unf|         0|         Unf|         0|      952|        952|   GasA|       Gd|         Y|     FuseF|    1022|     752|           0|     1774|           0|           0|       2|       0|           2|           2|         TA|           8|      Min1|         2|    Detchd|       1931|         Unf|         2|       468|        Fa|        TA|         Y|        90|          0|          205|        0|          0|       0|      0|     4|  2008|      WD|      Abnorml|   129900|           1.0|             20.0|         0.0|           0.0|              0.0|            0.0|            0.0|            0.0|               2.0|             2.0|             0.0|           0.0|             2.0|            0.0|           0.0|              6.0|              6.0|             0.0|             0.0|            0.0|            0.0|             2.0|           0.0|           0.0|               0.0|               0.0|               0.0|          0.0|            2.0|             0.0|             2.0|              0.0|             2.0|             1.0|             72.0|               0.0|             2.0|             0.0|             0.0|           0.0|                2.0|\n",
      "|       190|      RL|         50|   7420|  Pave|     Reg|        Lvl|   AllPub|   Corner|      Gtl|     BrkSide|    Artery|    Artery|  2fmCon|    1.5Unf|          5|          6|     1939|        1950|    Gable| CompShg|    MetalSd|    MetalSd|      None|         0|       TA|       TA|    BrkTil|      TA|      TA|          No|         GLQ|       851|         Unf|         0|      140|        991|   GasA|       Ex|         Y|     SBrkr|    1077|       0|           0|     1077|           1|           0|       1|       0|           2|           2|         TA|           5|       Typ|         2|    Attchd|       1939|         RFn|         1|       205|        Gd|        TA|         Y|         0|          4|            0|        0|          0|       0|      0|     1|  2008|      WD|       Normal|   118000|           0.0|              4.0|         0.0|           0.0|              0.0|            0.0|            1.0|            0.0|              10.0|             2.0|             2.0|           4.0|             5.0|            0.0|           0.0|              2.0|              1.0|             0.0|             0.0|            0.0|            0.0|             2.0|           0.0|           0.0|               0.0|               1.0|               0.0|          0.0|            0.0|             0.0|             0.0|              0.0|             0.0|             0.0|             58.0|               1.0|             3.0|             0.0|             0.0|           0.0|                0.0|\n",
      "|        20|      RL|         70|  11200|  Pave|     Reg|        Lvl|   AllPub|   Inside|      Gtl|      Sawyer|      Norm|      Norm|    1Fam|    1Story|          5|          5|     1965|        1965|      Hip| CompShg|    HdBoard|    HdBoard|      None|         0|       TA|       TA|    CBlock|      TA|      TA|          No|         Rec|       906|         Unf|         0|      134|       1040|   GasA|       Ex|         Y|     SBrkr|    1040|       0|           0|     1040|           1|           0|       1|       0|           3|           1|         TA|           5|       Typ|         0|    Detchd|       1965|         Unf|         1|       384|        TA|        TA|         Y|         0|          0|            0|        0|          0|       0|      0|     2|  2008|      WD|       Normal|   129500|           0.0|              2.0|         0.0|           0.0|              0.0|            0.0|            0.0|            0.0|               7.0|             0.0|             0.0|           0.0|             0.0|            1.0|           0.0|              1.0|              2.0|             0.0|             0.0|            0.0|            0.0|             1.0|           0.0|           0.0|               0.0|               4.0|               0.0|          0.0|            0.0|             0.0|             0.0|              0.0|             0.0|             1.0|             18.0|               0.0|             0.0|             0.0|             0.0|           0.0|                0.0|\n",
      "|        60|      RL|         85|  11924|  Pave|     IR1|        Lvl|   AllPub|   Inside|      Gtl|     NridgHt|      Norm|      Norm|    1Fam|    2Story|          9|          5|     2005|        2006|      Hip| CompShg|    WdShing|    Wd Shng|     Stone|       286|       Ex|       TA|     PConc|      Ex|      TA|          No|         GLQ|       998|         Unf|         0|      177|       1175|   GasA|       Ex|         Y|     SBrkr|    1182|    1142|           0|     2324|           1|           0|       3|       0|           4|           1|         Ex|          11|       Typ|         2|   BuiltIn|       2005|         Fin|         3|       736|        TA|        TA|         Y|       147|         21|            0|        0|          0|       0|      0|     7|  2006|     New|      Partial|   345000|           0.0|              7.0|         0.0|           1.0|              0.0|            0.0|            0.0|            0.0|               6.0|             0.0|             0.0|           0.0|             1.0|            1.0|           0.0|              7.0|              6.0|             2.0|           204.0|            2.0|            0.0|             0.0|           2.0|           0.0|               0.0|               1.0|               0.0|          0.0|            0.0|             0.0|             0.0|              2.0|             0.0|             2.0|              1.0|               2.0|             0.0|             0.0|             0.0|           1.0|                1.0|\n",
      "|        20|      RL|         NA|  12968|  Pave|     IR2|        Lvl|   AllPub|   Inside|      Gtl|      Sawyer|      Norm|      Norm|    1Fam|    1Story|          5|          6|     1962|        1962|      Hip| CompShg|    HdBoard|    Plywood|      None|         0|       TA|       TA|    CBlock|      TA|      TA|          No|         ALQ|       737|         Unf|         0|      175|        912|   GasA|       TA|         Y|     SBrkr|     912|       0|           0|      912|           1|           0|       1|       0|           2|           1|         TA|           4|       Typ|         0|    Detchd|       1962|         Unf|         1|       352|        TA|        TA|         Y|       140|          0|            0|        0|        176|       0|      0|     9|  2008|      WD|       Normal|   144000|           0.0|              0.0|         0.0|           2.0|              0.0|            0.0|            0.0|            0.0|               7.0|             0.0|             0.0|           0.0|             0.0|            1.0|           0.0|              1.0|              4.0|             0.0|             0.0|            0.0|            0.0|             1.0|           0.0|           0.0|               0.0|               2.0|               0.0|          0.0|            1.0|             0.0|             0.0|              0.0|             0.0|             1.0|             17.0|               0.0|             0.0|             0.0|             0.0|           0.0|                0.0|\n",
      "|        20|      RL|         91|  10652|  Pave|     IR1|        Lvl|   AllPub|   Inside|      Gtl|     CollgCr|      Norm|      Norm|    1Fam|    1Story|          7|          5|     2006|        2007|    Gable| CompShg|    VinylSd|    VinylSd|     Stone|       306|       Gd|       TA|     PConc|      Gd|      TA|          Av|         Unf|         0|         Unf|         0|     1494|       1494|   GasA|       Ex|         Y|     SBrkr|    1494|       0|           0|     1494|           0|           0|       2|       0|           3|           1|         Gd|           7|       Typ|         1|    Attchd|       2006|         RFn|         3|       840|        TA|        TA|         Y|       160|         33|            0|        0|          0|       0|      0|     8|  2007|     New|      Partial|   279500|           0.0|             60.0|         0.0|           1.0|              0.0|            0.0|            0.0|            0.0|               1.0|             0.0|             0.0|           0.0|             0.0|            0.0|           0.0|              0.0|              0.0|             2.0|           113.0|            1.0|            0.0|             0.0|           1.0|           0.0|               1.0|               0.0|               0.0|          0.0|            0.0|             0.0|             0.0|              1.0|             0.0|             0.0|              2.0|               1.0|             0.0|             0.0|             0.0|           1.0|                1.0|\n",
      "|        20|      RL|         NA|  10920|  Pave|     IR1|        Lvl|   AllPub|   Corner|      Gtl|       NAmes|      Norm|      Norm|    1Fam|    1Story|          6|          5|     1960|        1960|      Hip| CompShg|    MetalSd|    MetalSd|   BrkFace|       212|       TA|       TA|    CBlock|      TA|      TA|          No|         BLQ|       733|         Unf|         0|      520|       1253|   GasA|       TA|         Y|     SBrkr|    1253|       0|           0|     1253|           1|           0|       1|       1|           2|           1|         TA|           5|       Typ|         1|    Attchd|       1960|         RFn|         1|       352|        TA|        TA|         Y|         0|        213|          176|        0|          0|       0|      0|     5|  2008|      WD|       Normal|   157000|           0.0|              0.0|         0.0|           1.0|              0.0|            0.0|            1.0|            0.0|               0.0|             0.0|             0.0|           0.0|             0.0|            1.0|           0.0|              2.0|              1.0|             1.0|            93.0|            0.0|            0.0|             1.0|           0.0|           0.0|               0.0|               3.0|               0.0|          0.0|            1.0|             0.0|             0.0|              0.0|             0.0|             0.0|             26.0|               1.0|             0.0|             0.0|             0.0|           0.0|                0.0|\n",
      "|        45|      RM|         51|   6120|  Pave|     Reg|        Lvl|   AllPub|   Corner|      Gtl|     BrkSide|      Norm|      Norm|    1Fam|    1.5Unf|          7|          8|     1929|        2001|    Gable| CompShg|    Wd Sdng|    Wd Sdng|      None|         0|       TA|       TA|    BrkTil|      TA|      TA|          No|         Unf|         0|         Unf|         0|      832|        832|   GasA|       Ex|         Y|     FuseA|     854|       0|           0|      854|           0|           0|       1|       0|           2|           1|         TA|           5|       Typ|         0|    Detchd|       1991|         Unf|         2|       576|        TA|        TA|         Y|        48|        112|            0|        0|          0|       0|      0|     7|  2007|      WD|       Normal|   132000|           1.0|             20.0|         0.0|           0.0|              0.0|            0.0|            1.0|            0.0|              10.0|             0.0|             0.0|           0.0|             5.0|            0.0|           0.0|              3.0|              3.0|             0.0|             0.0|            0.0|            0.0|             2.0|           0.0|           0.0|               0.0|               0.0|               0.0|          0.0|            0.0|             0.0|             1.0|              0.0|             0.0|             1.0|             60.0|               0.0|             0.0|             0.0|             0.0|           0.0|                0.0|\n",
      "|        20|      RL|         NA|  11241|  Pave|     IR1|        Lvl|   AllPub|  CulDSac|      Gtl|       NAmes|      Norm|      Norm|    1Fam|    1Story|          6|          7|     1970|        1970|    Gable| CompShg|    Wd Sdng|    Wd Sdng|   BrkFace|       180|       TA|       TA|    CBlock|      TA|      TA|          No|         ALQ|       578|         Unf|         0|      426|       1004|   GasA|       Ex|         Y|     SBrkr|    1004|       0|           0|     1004|           1|           0|       1|       0|           2|           1|         TA|           5|       Typ|         1|    Attchd|       1970|         Fin|         2|       480|        TA|        TA|         Y|         0|          0|            0|        0|          0|       0|    700|     3|  2010|      WD|       Normal|   149000|           0.0|              0.0|         0.0|           1.0|              0.0|            0.0|            2.0|            0.0|               0.0|             0.0|             0.0|           0.0|             0.0|            0.0|           0.0|              3.0|              3.0|             1.0|             2.0|            0.0|            0.0|             1.0|           0.0|           0.0|               0.0|               2.0|               0.0|          0.0|            0.0|             0.0|             0.0|              0.0|             0.0|             0.0|             22.0|               2.0|             0.0|             0.0|             0.0|           0.0|                0.0|\n",
      "|        90|      RL|         72|  10791|  Pave|     Reg|        Lvl|   AllPub|   Inside|      Gtl|      Sawyer|      Norm|      Norm|  Duplex|    1Story|          4|          5|     1967|        1967|    Gable| CompShg|    MetalSd|    MetalSd|      None|         0|       TA|       TA|      Slab|      NA|      NA|          NA|          NA|         0|          NA|         0|        0|          0|   GasA|       TA|         Y|     SBrkr|    1296|       0|           0|     1296|           0|           0|       2|       0|           2|           2|         TA|           6|       Typ|         0|   CarPort|       1967|         Unf|         2|       516|        TA|        TA|         Y|         0|          0|            0|        0|          0|       0|    500|    10|  2006|      WD|       Normal|    90000|           0.0|             17.0|         0.0|           0.0|              0.0|            0.0|            0.0|            0.0|               7.0|             0.0|             0.0|           2.0|             0.0|            0.0|           0.0|              2.0|              1.0|             0.0|             0.0|            0.0|            0.0|             3.0|           3.0|           3.0|               4.0|               6.0|               3.0|          0.0|            1.0|             0.0|             0.0|              0.0|             0.0|             5.0|             37.0|               0.0|             0.0|             0.0|             0.0|           0.0|                0.0|\n",
      "|        20|      RL|         66|  13695|  Pave|     Reg|        Lvl|   AllPub|   Inside|      Gtl|     SawyerW|      RRAe|      Norm|    1Fam|    1Story|          5|          5|     2004|        2004|    Gable| CompShg|    VinylSd|    VinylSd|      None|         0|       TA|       TA|     PConc|      TA|      TA|          No|         GLQ|       646|         Unf|         0|      468|       1114|   GasA|       Ex|         Y|     SBrkr|    1114|       0|           0|     1114|           1|           0|       1|       1|           3|           1|         Gd|           6|       Typ|         0|    Detchd|       2004|         Unf|         2|       576|        TA|        TA|         Y|         0|        102|            0|        0|          0|       0|      0|     6|  2008|      WD|       Normal|   159000|           0.0|             21.0|         0.0|           0.0|              0.0|            0.0|            0.0|            0.0|               9.0|             5.0|             0.0|           0.0|             0.0|            0.0|           0.0|              0.0|              0.0|             0.0|             0.0|            0.0|            0.0|             0.0|           0.0|           0.0|               0.0|               1.0|               0.0|          0.0|            0.0|             0.0|             0.0|              1.0|             0.0|             1.0|              3.0|               0.0|             0.0|             0.0|             0.0|           0.0|                0.0|\n",
      "|        20|      RL|         70|   7560|  Pave|     Reg|        Lvl|   AllPub|   Inside|      Gtl|       NAmes|      Norm|      Norm|    1Fam|    1Story|          5|          6|     1958|        1965|      Hip| CompShg|    BrkFace|    Plywood|      None|         0|       TA|       TA|    CBlock|      TA|      TA|          No|         LwQ|       504|         Unf|         0|      525|       1029|   GasA|       TA|         Y|     SBrkr|    1339|       0|           0|     1339|           0|           0|       1|       0|           3|           1|         TA|           6|      Min1|         0|    Attchd|       1958|         Unf|         1|       294|        TA|        TA|         Y|         0|          0|            0|        0|          0|       0|      0|     5|  2009|     COD|      Abnorml|   139000|           0.0|              2.0|         0.0|           0.0|              0.0|            0.0|            0.0|            0.0|               0.0|             0.0|             0.0|           0.0|             0.0|            1.0|           0.0|              6.0|              4.0|             0.0|             0.0|            0.0|            0.0|             1.0|           0.0|           0.0|               0.0|               5.0|               0.0|          0.0|            1.0|             0.0|             0.0|              0.0|             2.0|             0.0|             16.0|               0.0|             0.0|             0.0|             0.0|           2.0|                2.0|\n",
      "+----------+--------+-----------+-------+------+--------+-----------+---------+---------+---------+------------+----------+----------+--------+----------+-----------+-----------+---------+------------+---------+--------+-----------+-----------+----------+----------+---------+---------+----------+--------+--------+------------+------------+----------+------------+----------+---------+-----------+-------+---------+----------+----------+--------+--------+------------+---------+------------+------------+--------+--------+------------+------------+-----------+------------+----------+----------+----------+-----------+------------+----------+----------+----------+----------+----------+----------+-----------+-------------+---------+-----------+--------+-------+------+------+--------+-------------+---------+--------------+-----------------+------------+--------------+-----------------+---------------+---------------+---------------+------------------+----------------+----------------+--------------+----------------+---------------+--------------+-----------------+-----------------+----------------+----------------+---------------+---------------+----------------+--------------+--------------+------------------+------------------+------------------+-------------+---------------+----------------+----------------+-----------------+----------------+----------------+-----------------+------------------+----------------+----------------+----------------+--------------+-------------------+\n",
      "only showing top 20 rows\n",
      "\n"
     ]
    }
   ],
   "source": [
    "train_indexed.show()"
   ]
  },
  {
   "cell_type": "code",
   "execution_count": 31,
   "metadata": {
    "id": "ql3UeJiZ08hi"
   },
   "outputs": [],
   "source": [
    "df6= train_indexed.drop(*train_string_columns)"
   ]
  },
  {
   "cell_type": "code",
   "execution_count": 32,
   "metadata": {
    "colab": {
     "base_uri": "https://localhost:8080/"
    },
    "id": "6FXOfo7a3Bm3",
    "outputId": "8d91a1c4-38e7-4128-e60e-3ff356800418"
   },
   "outputs": [
    {
     "name": "stdout",
     "output_type": "stream",
     "text": [
      "root\n",
      " |-- MSSubClass: integer (nullable = true)\n",
      " |-- LotArea: integer (nullable = true)\n",
      " |-- OverallQual: integer (nullable = true)\n",
      " |-- OverallCond: integer (nullable = true)\n",
      " |-- YearBuilt: integer (nullable = true)\n",
      " |-- YearRemodAdd: integer (nullable = true)\n",
      " |-- BsmtFinSF1: integer (nullable = true)\n",
      " |-- BsmtFinSF2: integer (nullable = true)\n",
      " |-- BsmtUnfSF: integer (nullable = true)\n",
      " |-- TotalBsmtSF: integer (nullable = true)\n",
      " |-- 1stFlrSF: integer (nullable = true)\n",
      " |-- 2ndFlrSF: integer (nullable = true)\n",
      " |-- LowQualFinSF: integer (nullable = true)\n",
      " |-- GrLivArea: integer (nullable = true)\n",
      " |-- BsmtFullBath: integer (nullable = true)\n",
      " |-- BsmtHalfBath: integer (nullable = true)\n",
      " |-- FullBath: integer (nullable = true)\n",
      " |-- HalfBath: integer (nullable = true)\n",
      " |-- BedroomAbvGr: integer (nullable = true)\n",
      " |-- KitchenAbvGr: integer (nullable = true)\n",
      " |-- TotRmsAbvGrd: integer (nullable = true)\n",
      " |-- Fireplaces: integer (nullable = true)\n",
      " |-- GarageCars: integer (nullable = true)\n",
      " |-- GarageArea: integer (nullable = true)\n",
      " |-- WoodDeckSF: integer (nullable = true)\n",
      " |-- OpenPorchSF: integer (nullable = true)\n",
      " |-- EnclosedPorch: integer (nullable = true)\n",
      " |-- 3SsnPorch: integer (nullable = true)\n",
      " |-- ScreenPorch: integer (nullable = true)\n",
      " |-- PoolArea: integer (nullable = true)\n",
      " |-- MiscVal: integer (nullable = true)\n",
      " |-- MoSold: integer (nullable = true)\n",
      " |-- YrSold: integer (nullable = true)\n",
      " |-- SalePrice: integer (nullable = true)\n",
      " |-- MSZoning_index: double (nullable = false)\n",
      " |-- LotFrontage_index: double (nullable = false)\n",
      " |-- Street_index: double (nullable = false)\n",
      " |-- LotShape_index: double (nullable = false)\n",
      " |-- LandContour_index: double (nullable = false)\n",
      " |-- Utilities_index: double (nullable = false)\n",
      " |-- LotConfig_index: double (nullable = false)\n",
      " |-- LandSlope_index: double (nullable = false)\n",
      " |-- Neighborhood_index: double (nullable = false)\n",
      " |-- Condition1_index: double (nullable = false)\n",
      " |-- Condition2_index: double (nullable = false)\n",
      " |-- BldgType_index: double (nullable = false)\n",
      " |-- HouseStyle_index: double (nullable = false)\n",
      " |-- RoofStyle_index: double (nullable = false)\n",
      " |-- RoofMatl_index: double (nullable = false)\n",
      " |-- Exterior1st_index: double (nullable = false)\n",
      " |-- Exterior2nd_index: double (nullable = false)\n",
      " |-- MasVnrType_index: double (nullable = false)\n",
      " |-- MasVnrArea_index: double (nullable = false)\n",
      " |-- ExterQual_index: double (nullable = false)\n",
      " |-- ExterCond_index: double (nullable = false)\n",
      " |-- Foundation_index: double (nullable = false)\n",
      " |-- BsmtQual_index: double (nullable = false)\n",
      " |-- BsmtCond_index: double (nullable = false)\n",
      " |-- BsmtExposure_index: double (nullable = false)\n",
      " |-- BsmtFinType1_index: double (nullable = false)\n",
      " |-- BsmtFinType2_index: double (nullable = false)\n",
      " |-- Heating_index: double (nullable = false)\n",
      " |-- HeatingQC_index: double (nullable = false)\n",
      " |-- CentralAir_index: double (nullable = false)\n",
      " |-- Electrical_index: double (nullable = false)\n",
      " |-- KitchenQual_index: double (nullable = false)\n",
      " |-- Functional_index: double (nullable = false)\n",
      " |-- GarageType_index: double (nullable = false)\n",
      " |-- GarageYrBlt_index: double (nullable = false)\n",
      " |-- GarageFinish_index: double (nullable = false)\n",
      " |-- GarageQual_index: double (nullable = false)\n",
      " |-- GarageCond_index: double (nullable = false)\n",
      " |-- PavedDrive_index: double (nullable = false)\n",
      " |-- SaleType_index: double (nullable = false)\n",
      " |-- SaleCondition_index: double (nullable = false)\n",
      "\n"
     ]
    }
   ],
   "source": [
    "df6.printSchema()"
   ]
  },
  {
   "cell_type": "code",
   "execution_count": 33,
   "metadata": {
    "colab": {
     "base_uri": "https://localhost:8080/",
     "height": 300
    },
    "id": "R0_C3h-d3PEo",
    "outputId": "dfd5349c-622a-4451-e5b7-f5eb7beb36c0"
   },
   "outputs": [
    {
     "data": {
      "text/html": [
       "<div>\n",
       "<style scoped>\n",
       "    .dataframe tbody tr th:only-of-type {\n",
       "        vertical-align: middle;\n",
       "    }\n",
       "\n",
       "    .dataframe tbody tr th {\n",
       "        vertical-align: top;\n",
       "    }\n",
       "\n",
       "    .dataframe thead th {\n",
       "        text-align: right;\n",
       "    }\n",
       "</style>\n",
       "<table border=\"1\" class=\"dataframe\">\n",
       "  <thead>\n",
       "    <tr style=\"text-align: right;\">\n",
       "      <th></th>\n",
       "      <th>summary</th>\n",
       "      <th>MSSubClass</th>\n",
       "      <th>LotArea</th>\n",
       "      <th>OverallQual</th>\n",
       "      <th>OverallCond</th>\n",
       "      <th>YearBuilt</th>\n",
       "      <th>YearRemodAdd</th>\n",
       "      <th>BsmtFinSF1</th>\n",
       "      <th>BsmtFinSF2</th>\n",
       "      <th>BsmtUnfSF</th>\n",
       "      <th>...</th>\n",
       "      <th>KitchenQual_index</th>\n",
       "      <th>Functional_index</th>\n",
       "      <th>GarageType_index</th>\n",
       "      <th>GarageYrBlt_index</th>\n",
       "      <th>GarageFinish_index</th>\n",
       "      <th>GarageQual_index</th>\n",
       "      <th>GarageCond_index</th>\n",
       "      <th>PavedDrive_index</th>\n",
       "      <th>SaleType_index</th>\n",
       "      <th>SaleCondition_index</th>\n",
       "    </tr>\n",
       "  </thead>\n",
       "  <tbody>\n",
       "    <tr>\n",
       "      <th>0</th>\n",
       "      <td>count</td>\n",
       "      <td>1460</td>\n",
       "      <td>1460</td>\n",
       "      <td>1460</td>\n",
       "      <td>1460</td>\n",
       "      <td>1460</td>\n",
       "      <td>1460</td>\n",
       "      <td>1460</td>\n",
       "      <td>1460</td>\n",
       "      <td>1460</td>\n",
       "      <td>...</td>\n",
       "      <td>1460</td>\n",
       "      <td>1460</td>\n",
       "      <td>1460</td>\n",
       "      <td>1460</td>\n",
       "      <td>1460</td>\n",
       "      <td>1460</td>\n",
       "      <td>1460</td>\n",
       "      <td>1460</td>\n",
       "      <td>1460</td>\n",
       "      <td>1460</td>\n",
       "    </tr>\n",
       "    <tr>\n",
       "      <th>1</th>\n",
       "      <td>mean</td>\n",
       "      <td>56.897260273972606</td>\n",
       "      <td>10516.828082191782</td>\n",
       "      <td>6.0993150684931505</td>\n",
       "      <td>5.575342465753424</td>\n",
       "      <td>1971.267808219178</td>\n",
       "      <td>1984.8657534246574</td>\n",
       "      <td>443.6397260273973</td>\n",
       "      <td>46.54931506849315</td>\n",
       "      <td>567.2404109589041</td>\n",
       "      <td>...</td>\n",
       "      <td>0.6184931506849315</td>\n",
       "      <td>0.15616438356164383</td>\n",
       "      <td>0.6595890410958904</td>\n",
       "      <td>25.596575342465755</td>\n",
       "      <td>0.9376712328767123</td>\n",
       "      <td>0.1684931506849315</td>\n",
       "      <td>0.14794520547945206</td>\n",
       "      <td>0.10273972602739725</td>\n",
       "      <td>0.23356164383561645</td>\n",
       "      <td>0.3116438356164384</td>\n",
       "    </tr>\n",
       "    <tr>\n",
       "      <th>2</th>\n",
       "      <td>stddev</td>\n",
       "      <td>42.30057099381045</td>\n",
       "      <td>9981.26493237915</td>\n",
       "      <td>1.3829965467415926</td>\n",
       "      <td>1.1127993367127318</td>\n",
       "      <td>30.202904042525294</td>\n",
       "      <td>20.64540680770938</td>\n",
       "      <td>456.0980908409278</td>\n",
       "      <td>161.3192728065416</td>\n",
       "      <td>441.8669552924343</td>\n",
       "      <td>...</td>\n",
       "      <td>0.7304691071299438</td>\n",
       "      <td>0.6635494109714145</td>\n",
       "      <td>1.0399213582806461</td>\n",
       "      <td>22.617136758938415</td>\n",
       "      <td>0.93493908426687</td>\n",
       "      <td>0.5739075714519857</td>\n",
       "      <td>0.5441720862963024</td>\n",
       "      <td>0.3652006509951003</td>\n",
       "      <td>0.793805472262832</td>\n",
       "      <td>0.7673968418056222</td>\n",
       "    </tr>\n",
       "    <tr>\n",
       "      <th>3</th>\n",
       "      <td>min</td>\n",
       "      <td>20</td>\n",
       "      <td>1300</td>\n",
       "      <td>1</td>\n",
       "      <td>1</td>\n",
       "      <td>1872</td>\n",
       "      <td>1950</td>\n",
       "      <td>0</td>\n",
       "      <td>0</td>\n",
       "      <td>0</td>\n",
       "      <td>...</td>\n",
       "      <td>0.0</td>\n",
       "      <td>0.0</td>\n",
       "      <td>0.0</td>\n",
       "      <td>0.0</td>\n",
       "      <td>0.0</td>\n",
       "      <td>0.0</td>\n",
       "      <td>0.0</td>\n",
       "      <td>0.0</td>\n",
       "      <td>0.0</td>\n",
       "      <td>0.0</td>\n",
       "    </tr>\n",
       "    <tr>\n",
       "      <th>4</th>\n",
       "      <td>max</td>\n",
       "      <td>190</td>\n",
       "      <td>215245</td>\n",
       "      <td>10</td>\n",
       "      <td>9</td>\n",
       "      <td>2010</td>\n",
       "      <td>2010</td>\n",
       "      <td>5644</td>\n",
       "      <td>1474</td>\n",
       "      <td>2336</td>\n",
       "      <td>...</td>\n",
       "      <td>3.0</td>\n",
       "      <td>6.0</td>\n",
       "      <td>6.0</td>\n",
       "      <td>97.0</td>\n",
       "      <td>3.0</td>\n",
       "      <td>5.0</td>\n",
       "      <td>5.0</td>\n",
       "      <td>2.0</td>\n",
       "      <td>8.0</td>\n",
       "      <td>5.0</td>\n",
       "    </tr>\n",
       "  </tbody>\n",
       "</table>\n",
       "<p>5 rows × 76 columns</p>\n",
       "</div>"
      ],
      "text/plain": [
       "  summary          MSSubClass             LotArea         OverallQual  \\\n",
       "0   count                1460                1460                1460   \n",
       "1    mean  56.897260273972606  10516.828082191782  6.0993150684931505   \n",
       "2  stddev   42.30057099381045    9981.26493237915  1.3829965467415926   \n",
       "3     min                  20                1300                   1   \n",
       "4     max                 190              215245                  10   \n",
       "\n",
       "          OverallCond           YearBuilt        YearRemodAdd  \\\n",
       "0                1460                1460                1460   \n",
       "1   5.575342465753424   1971.267808219178  1984.8657534246574   \n",
       "2  1.1127993367127318  30.202904042525294   20.64540680770938   \n",
       "3                   1                1872                1950   \n",
       "4                   9                2010                2010   \n",
       "\n",
       "          BsmtFinSF1         BsmtFinSF2          BsmtUnfSF  ...  \\\n",
       "0               1460               1460               1460  ...   \n",
       "1  443.6397260273973  46.54931506849315  567.2404109589041  ...   \n",
       "2  456.0980908409278  161.3192728065416  441.8669552924343  ...   \n",
       "3                  0                  0                  0  ...   \n",
       "4               5644               1474               2336  ...   \n",
       "\n",
       "    KitchenQual_index     Functional_index    GarageType_index  \\\n",
       "0                1460                 1460                1460   \n",
       "1  0.6184931506849315  0.15616438356164383  0.6595890410958904   \n",
       "2  0.7304691071299438   0.6635494109714145  1.0399213582806461   \n",
       "3                 0.0                  0.0                 0.0   \n",
       "4                 3.0                  6.0                 6.0   \n",
       "\n",
       "    GarageYrBlt_index  GarageFinish_index    GarageQual_index  \\\n",
       "0                1460                1460                1460   \n",
       "1  25.596575342465755  0.9376712328767123  0.1684931506849315   \n",
       "2  22.617136758938415    0.93493908426687  0.5739075714519857   \n",
       "3                 0.0                 0.0                 0.0   \n",
       "4                97.0                 3.0                 5.0   \n",
       "\n",
       "      GarageCond_index     PavedDrive_index       SaleType_index  \\\n",
       "0                 1460                 1460                 1460   \n",
       "1  0.14794520547945206  0.10273972602739725  0.23356164383561645   \n",
       "2   0.5441720862963024   0.3652006509951003    0.793805472262832   \n",
       "3                  0.0                  0.0                  0.0   \n",
       "4                  5.0                  2.0                  8.0   \n",
       "\n",
       "  SaleCondition_index  \n",
       "0                1460  \n",
       "1  0.3116438356164384  \n",
       "2  0.7673968418056222  \n",
       "3                 0.0  \n",
       "4                 5.0  \n",
       "\n",
       "[5 rows x 76 columns]"
      ]
     },
     "execution_count": 33,
     "metadata": {},
     "output_type": "execute_result"
    }
   ],
   "source": [
    "df6.describe().toPandas()"
   ]
  },
  {
   "cell_type": "code",
   "execution_count": 34,
   "metadata": {
    "id": "NpovMe0zk4Uc"
   },
   "outputs": [],
   "source": [
    "# print(\"Dropping outliers resulted in %d instances in the new dataset\" % len(df6))\n",
    "# pd_train = df6.drop(pd_train[(pd_train['GrLivArea']>4500) \n",
    "#                                 & (pd_train['SalePrice']<300000)].index)\n",
    "# print(\"Dropping outliers resulted in %d instances in the new dataset\" % len(pd_train))\n",
    "# pd_train = pd_train.drop(pd_train[(pd_train['GrLivArea']>5500) \n",
    "#  #                               | (pd_train['SalePrice']>500000)].index)\n",
    "# #print(\"Dropping outliers resulted in %d instances in the new dataset\" % len(pd_train))\n",
    "# #pd_train = pd_train.drop(pd_train[pd_train['GarageArea']>1100].index)\n",
    "# #print(\"Dropping outliers resulted in %d instances in the new dataset\" % len(pd_train))"
   ]
  },
  {
   "cell_type": "code",
   "execution_count": 35,
   "metadata": {
    "colab": {
     "base_uri": "https://localhost:8080/"
    },
    "id": "xCuUqUbOqnLi",
    "outputId": "b85fcdc8-eccd-4fbb-d391-8deaf24120f7"
   },
   "outputs": [
    {
     "data": {
      "text/plain": [
       "['MSSubClass',\n",
       " 'LotArea',\n",
       " 'OverallQual',\n",
       " 'OverallCond',\n",
       " 'YearBuilt',\n",
       " 'YearRemodAdd',\n",
       " 'BsmtFinSF1',\n",
       " 'BsmtFinSF2',\n",
       " 'BsmtUnfSF',\n",
       " 'TotalBsmtSF',\n",
       " '1stFlrSF',\n",
       " '2ndFlrSF',\n",
       " 'LowQualFinSF',\n",
       " 'GrLivArea',\n",
       " 'BsmtFullBath',\n",
       " 'BsmtHalfBath',\n",
       " 'FullBath',\n",
       " 'HalfBath',\n",
       " 'BedroomAbvGr',\n",
       " 'KitchenAbvGr',\n",
       " 'TotRmsAbvGrd',\n",
       " 'Fireplaces',\n",
       " 'GarageCars',\n",
       " 'GarageArea',\n",
       " 'WoodDeckSF',\n",
       " 'OpenPorchSF',\n",
       " 'EnclosedPorch',\n",
       " '3SsnPorch',\n",
       " 'ScreenPorch',\n",
       " 'PoolArea',\n",
       " 'MiscVal',\n",
       " 'MoSold',\n",
       " 'YrSold',\n",
       " 'SalePrice',\n",
       " 'MSZoning_index',\n",
       " 'LotFrontage_index',\n",
       " 'Street_index',\n",
       " 'LotShape_index',\n",
       " 'LandContour_index',\n",
       " 'Utilities_index',\n",
       " 'LotConfig_index',\n",
       " 'LandSlope_index',\n",
       " 'Neighborhood_index',\n",
       " 'Condition1_index',\n",
       " 'Condition2_index',\n",
       " 'BldgType_index',\n",
       " 'HouseStyle_index',\n",
       " 'RoofStyle_index',\n",
       " 'RoofMatl_index',\n",
       " 'Exterior1st_index',\n",
       " 'Exterior2nd_index',\n",
       " 'MasVnrType_index',\n",
       " 'MasVnrArea_index',\n",
       " 'ExterQual_index',\n",
       " 'ExterCond_index',\n",
       " 'Foundation_index',\n",
       " 'BsmtQual_index',\n",
       " 'BsmtCond_index',\n",
       " 'BsmtExposure_index',\n",
       " 'BsmtFinType1_index',\n",
       " 'BsmtFinType2_index',\n",
       " 'Heating_index',\n",
       " 'HeatingQC_index',\n",
       " 'CentralAir_index',\n",
       " 'Electrical_index',\n",
       " 'KitchenQual_index',\n",
       " 'Functional_index',\n",
       " 'GarageType_index',\n",
       " 'GarageYrBlt_index',\n",
       " 'GarageFinish_index',\n",
       " 'GarageQual_index',\n",
       " 'GarageCond_index',\n",
       " 'PavedDrive_index',\n",
       " 'SaleType_index',\n",
       " 'SaleCondition_index']"
      ]
     },
     "execution_count": 35,
     "metadata": {},
     "output_type": "execute_result"
    }
   ],
   "source": [
    "df6.columns"
   ]
  },
  {
   "cell_type": "code",
   "execution_count": 36,
   "metadata": {
    "colab": {
     "base_uri": "https://localhost:8080/"
    },
    "id": "e8xWhfu-soD6",
    "outputId": "146fefac-8bc9-47e8-d0ca-27f337f2fec4"
   },
   "outputs": [
    {
     "name": "stdout",
     "output_type": "stream",
     "text": [
      "+-----------------+------------+--------------+-----------------+----------------+-------------+-------------+--------------+\n",
      "|LotFrontage_index|Street_index|LotShape_index|LandContour_index|LotFrontageVec  |StreetVec    |LotShapeVec  |LandContourVec|\n",
      "+-----------------+------------+--------------+-----------------+----------------+-------------+-------------+--------------+\n",
      "|6.0              |0.0         |0.0           |0.0              |(111,[6],[1.0]) |(2,[0],[1.0])|(4,[0],[1.0])|(4,[0],[1.0]) |\n",
      "|3.0              |0.0         |0.0           |0.0              |(111,[3],[1.0]) |(2,[0],[1.0])|(4,[0],[1.0])|(4,[0],[1.0]) |\n",
      "|13.0             |0.0         |1.0           |0.0              |(111,[13],[1.0])|(2,[0],[1.0])|(4,[1],[1.0])|(4,[0],[1.0]) |\n",
      "|1.0              |0.0         |1.0           |0.0              |(111,[1],[1.0]) |(2,[0],[1.0])|(4,[1],[1.0])|(4,[0],[1.0]) |\n",
      "|42.0             |0.0         |1.0           |0.0              |(111,[42],[1.0])|(2,[0],[1.0])|(4,[1],[1.0])|(4,[0],[1.0]) |\n",
      "+-----------------+------------+--------------+-----------------+----------------+-------------+-------------+--------------+\n",
      "only showing top 5 rows\n",
      "\n"
     ]
    }
   ],
   "source": [
    "from pyspark.ml.feature import OneHotEncoder\n",
    "encoder = OneHotEncoder(inputCols= ['MSZoning_index',\n",
    " 'LotFrontage_index',\n",
    " 'Street_index',\n",
    " 'LotShape_index',\n",
    " 'LandContour_index',\n",
    " 'Utilities_index',\n",
    " 'LotConfig_index',\n",
    " 'LandSlope_index',\n",
    " 'Neighborhood_index',\n",
    " 'Condition1_index',\n",
    " 'Condition2_index',\n",
    " 'BldgType_index',\n",
    " 'HouseStyle_index',\n",
    " 'RoofStyle_index',\n",
    " 'RoofMatl_index',\n",
    " 'Exterior1st_index',\n",
    " 'Exterior2nd_index',\n",
    " 'MasVnrType_index',\n",
    " 'MasVnrArea_index',\n",
    " 'ExterQual_index',\n",
    " 'ExterCond_index',\n",
    " 'Foundation_index',\n",
    " 'BsmtQual_index',\n",
    " 'BsmtCond_index'], \n",
    "                         outputCols=[\n",
    " 'MSZoningVec',\n",
    " 'LotFrontageVec',\n",
    " 'StreetVec',\n",
    " 'LotShapeVec',\n",
    " 'LandContourVec',\n",
    " 'UtilitiesVec',\n",
    " 'LotConfigVec',\n",
    " 'LandSlopeVec',\n",
    " 'NeighborhoodVec',\n",
    " 'Condition1Vec',\n",
    " 'Condition2Vec',\n",
    " 'BldgTypeVec',\n",
    " 'HouseStyleVec',\n",
    " 'RoofStyleVec',\n",
    " 'RoofMatlVec',\n",
    " 'Exterior1stVec',\n",
    " 'Exterior2ndVec',\n",
    " 'MasVnrTypeVec',\n",
    " 'MasVnrAreaVec',\n",
    " 'ExterQualVec',\n",
    " 'ExterCondVec',\n",
    " 'FoundationVec',\n",
    " 'BsmtQualVec',\n",
    " 'BsmtCondVec'])\n",
    "encodedDF = encoder.fit(df6).transform(df6)\n",
    "encodedDF.select( 'LotFrontage_index',\n",
    " 'Street_index',\n",
    " 'LotShape_index',\n",
    " 'LandContour_index', \n",
    " 'LotFrontageVec',\n",
    " 'StreetVec',\n",
    " 'LotShapeVec',\n",
    " 'LandContourVec').show(5, False)"
   ]
  },
  {
   "cell_type": "code",
   "execution_count": 37,
   "metadata": {
    "colab": {
     "base_uri": "https://localhost:8080/"
    },
    "id": "2lEpbFfSwL7L",
    "outputId": "d79a9ef8-05d3-4504-ab02-e5032f78ac7c"
   },
   "outputs": [
    {
     "data": {
      "text/plain": [
       "['MSSubClass',\n",
       " 'LotArea',\n",
       " 'OverallQual',\n",
       " 'OverallCond',\n",
       " 'YearBuilt',\n",
       " 'YearRemodAdd',\n",
       " 'BsmtFinSF1',\n",
       " 'BsmtFinSF2',\n",
       " 'BsmtUnfSF',\n",
       " 'TotalBsmtSF',\n",
       " '1stFlrSF',\n",
       " '2ndFlrSF',\n",
       " 'LowQualFinSF',\n",
       " 'GrLivArea',\n",
       " 'BsmtFullBath',\n",
       " 'BsmtHalfBath',\n",
       " 'FullBath',\n",
       " 'HalfBath',\n",
       " 'BedroomAbvGr',\n",
       " 'KitchenAbvGr',\n",
       " 'TotRmsAbvGrd',\n",
       " 'Fireplaces',\n",
       " 'GarageCars',\n",
       " 'GarageArea',\n",
       " 'WoodDeckSF',\n",
       " 'OpenPorchSF',\n",
       " 'EnclosedPorch',\n",
       " '3SsnPorch',\n",
       " 'ScreenPorch',\n",
       " 'PoolArea',\n",
       " 'MiscVal',\n",
       " 'MoSold',\n",
       " 'YrSold',\n",
       " 'SalePrice',\n",
       " 'MSZoning_index',\n",
       " 'LotFrontage_index',\n",
       " 'Street_index',\n",
       " 'LotShape_index',\n",
       " 'LandContour_index',\n",
       " 'Utilities_index',\n",
       " 'LotConfig_index',\n",
       " 'LandSlope_index',\n",
       " 'Neighborhood_index',\n",
       " 'Condition1_index',\n",
       " 'Condition2_index',\n",
       " 'BldgType_index',\n",
       " 'HouseStyle_index',\n",
       " 'RoofStyle_index',\n",
       " 'RoofMatl_index',\n",
       " 'Exterior1st_index',\n",
       " 'Exterior2nd_index',\n",
       " 'MasVnrType_index',\n",
       " 'MasVnrArea_index',\n",
       " 'ExterQual_index',\n",
       " 'ExterCond_index',\n",
       " 'Foundation_index',\n",
       " 'BsmtQual_index',\n",
       " 'BsmtCond_index',\n",
       " 'BsmtExposure_index',\n",
       " 'BsmtFinType1_index',\n",
       " 'BsmtFinType2_index',\n",
       " 'Heating_index',\n",
       " 'HeatingQC_index',\n",
       " 'CentralAir_index',\n",
       " 'Electrical_index',\n",
       " 'KitchenQual_index',\n",
       " 'Functional_index',\n",
       " 'GarageType_index',\n",
       " 'GarageYrBlt_index',\n",
       " 'GarageFinish_index',\n",
       " 'GarageQual_index',\n",
       " 'GarageCond_index',\n",
       " 'PavedDrive_index',\n",
       " 'SaleType_index',\n",
       " 'SaleCondition_index',\n",
       " 'MSZoningVec',\n",
       " 'LotFrontageVec',\n",
       " 'StreetVec',\n",
       " 'LotShapeVec',\n",
       " 'LandContourVec',\n",
       " 'UtilitiesVec',\n",
       " 'LotConfigVec',\n",
       " 'LandSlopeVec',\n",
       " 'NeighborhoodVec',\n",
       " 'Condition1Vec',\n",
       " 'Condition2Vec',\n",
       " 'BldgTypeVec',\n",
       " 'HouseStyleVec',\n",
       " 'RoofStyleVec',\n",
       " 'RoofMatlVec',\n",
       " 'Exterior1stVec',\n",
       " 'Exterior2ndVec',\n",
       " 'MasVnrTypeVec',\n",
       " 'MasVnrAreaVec',\n",
       " 'ExterQualVec',\n",
       " 'ExterCondVec',\n",
       " 'FoundationVec',\n",
       " 'BsmtQualVec',\n",
       " 'BsmtCondVec']"
      ]
     },
     "execution_count": 37,
     "metadata": {},
     "output_type": "execute_result"
    }
   ],
   "source": [
    "encodedDF.columns"
   ]
  },
  {
   "cell_type": "code",
   "execution_count": 38,
   "metadata": {
    "colab": {
     "base_uri": "https://localhost:8080/"
    },
    "id": "3exe2sOKxSqL",
    "outputId": "b9ac678f-e59b-4901-85ec-54c0f1e0f71f"
   },
   "outputs": [
    {
     "name": "stdout",
     "output_type": "stream",
     "text": [
      "+----------+-------+-----------+-----------+---------+------------+----------+----------+---------+-----------+--------+--------+------------+---------+------------+------------+--------+--------+------------+------------+------------+----------+----------+----------+----------+-----------+-------------+---------+-----------+--------+-------+------+------+---------+--------------+-----------------+------------+--------------+-----------------+---------------+---------------+---------------+------------------+----------------+----------------+--------------+----------------+---------------+--------------+-----------------+-----------------+----------------+----------------+---------------+---------------+----------------+--------------+--------------+------------------+------------------+------------------+-------------+---------------+----------------+----------------+-----------------+----------------+----------------+-----------------+------------------+----------------+----------------+----------------+--------------+-------------------+-------------+----------------+-------------+-------------+--------------+-------------+-------------+-------------+---------------+-------------+-------------+-------------+-------------+-------------+-------------+--------------+--------------+-------------+-----------------+-------------+-------------+-------------+-------------+-------------+\n",
      "|MSSubClass|LotArea|OverallQual|OverallCond|YearBuilt|YearRemodAdd|BsmtFinSF1|BsmtFinSF2|BsmtUnfSF|TotalBsmtSF|1stFlrSF|2ndFlrSF|LowQualFinSF|GrLivArea|BsmtFullBath|BsmtHalfBath|FullBath|HalfBath|BedroomAbvGr|KitchenAbvGr|TotRmsAbvGrd|Fireplaces|GarageCars|GarageArea|WoodDeckSF|OpenPorchSF|EnclosedPorch|3SsnPorch|ScreenPorch|PoolArea|MiscVal|MoSold|YrSold|SalePrice|MSZoning_index|LotFrontage_index|Street_index|LotShape_index|LandContour_index|Utilities_index|LotConfig_index|LandSlope_index|Neighborhood_index|Condition1_index|Condition2_index|BldgType_index|HouseStyle_index|RoofStyle_index|RoofMatl_index|Exterior1st_index|Exterior2nd_index|MasVnrType_index|MasVnrArea_index|ExterQual_index|ExterCond_index|Foundation_index|BsmtQual_index|BsmtCond_index|BsmtExposure_index|BsmtFinType1_index|BsmtFinType2_index|Heating_index|HeatingQC_index|CentralAir_index|Electrical_index|KitchenQual_index|Functional_index|GarageType_index|GarageYrBlt_index|GarageFinish_index|GarageQual_index|GarageCond_index|PavedDrive_index|SaleType_index|SaleCondition_index|  MSZoningVec|  LotFrontageVec|    StreetVec|  LotShapeVec|LandContourVec| UtilitiesVec| LotConfigVec| LandSlopeVec|NeighborhoodVec|Condition1Vec|Condition2Vec|  BldgTypeVec|HouseStyleVec| RoofStyleVec|  RoofMatlVec|Exterior1stVec|Exterior2ndVec|MasVnrTypeVec|    MasVnrAreaVec| ExterQualVec| ExterCondVec|FoundationVec|  BsmtQualVec|  BsmtCondVec|\n",
      "+----------+-------+-----------+-----------+---------+------------+----------+----------+---------+-----------+--------+--------+------------+---------+------------+------------+--------+--------+------------+------------+------------+----------+----------+----------+----------+-----------+-------------+---------+-----------+--------+-------+------+------+---------+--------------+-----------------+------------+--------------+-----------------+---------------+---------------+---------------+------------------+----------------+----------------+--------------+----------------+---------------+--------------+-----------------+-----------------+----------------+----------------+---------------+---------------+----------------+--------------+--------------+------------------+------------------+------------------+-------------+---------------+----------------+----------------+-----------------+----------------+----------------+-----------------+------------------+----------------+----------------+----------------+--------------+-------------------+-------------+----------------+-------------+-------------+--------------+-------------+-------------+-------------+---------------+-------------+-------------+-------------+-------------+-------------+-------------+--------------+--------------+-------------+-----------------+-------------+-------------+-------------+-------------+-------------+\n",
      "|        60|   8450|          7|          5|     2003|        2003|       706|         0|      150|        856|     856|     854|           0|     1710|           1|           0|       2|       1|           3|           1|           8|         0|         2|       548|         0|         61|            0|        0|          0|       0|      0|     2|  2008|   208500|           0.0|              6.0|         0.0|           0.0|              0.0|            0.0|            0.0|            0.0|               1.0|             0.0|             0.0|           0.0|             1.0|            0.0|           0.0|              0.0|              0.0|             1.0|            21.0|            1.0|            0.0|             0.0|           1.0|           0.0|               0.0|               1.0|               0.0|          0.0|            0.0|             0.0|             0.0|              1.0|             0.0|             0.0|              4.0|               1.0|             0.0|             0.0|             0.0|           0.0|                0.0|(5,[0],[1.0])| (111,[6],[1.0])|(2,[0],[1.0])|(4,[0],[1.0])| (4,[0],[1.0])|(2,[0],[1.0])|(5,[0],[1.0])|(3,[0],[1.0])| (25,[1],[1.0])|(9,[0],[1.0])|(8,[0],[1.0])|(5,[0],[1.0])|(8,[1],[1.0])|(6,[0],[1.0])|(8,[0],[1.0])|(15,[0],[1.0])|(16,[0],[1.0])|(5,[1],[1.0])| (328,[21],[1.0])|(4,[1],[1.0])|(5,[0],[1.0])|(6,[0],[1.0])|(5,[1],[1.0])|(5,[0],[1.0])|\n",
      "|        20|   9600|          6|          8|     1976|        1976|       978|         0|      284|       1262|    1262|       0|           0|     1262|           0|           1|       2|       0|           3|           1|           6|         1|         2|       460|       298|          0|            0|        0|          0|       0|      0|     5|  2007|   181500|           0.0|              3.0|         0.0|           0.0|              0.0|            0.0|            3.0|            0.0|              22.0|             1.0|             0.0|           0.0|             0.0|            0.0|           0.0|              2.0|              1.0|             0.0|             0.0|            0.0|            0.0|             1.0|           1.0|           0.0|               2.0|               2.0|               0.0|          0.0|            0.0|             0.0|             0.0|              0.0|             0.0|             0.0|              9.0|               1.0|             0.0|             0.0|             0.0|           0.0|                0.0|(5,[0],[1.0])| (111,[3],[1.0])|(2,[0],[1.0])|(4,[0],[1.0])| (4,[0],[1.0])|(2,[0],[1.0])|(5,[3],[1.0])|(3,[0],[1.0])|(25,[22],[1.0])|(9,[1],[1.0])|(8,[0],[1.0])|(5,[0],[1.0])|(8,[0],[1.0])|(6,[0],[1.0])|(8,[0],[1.0])|(15,[2],[1.0])|(16,[1],[1.0])|(5,[0],[1.0])|  (328,[0],[1.0])|(4,[0],[1.0])|(5,[0],[1.0])|(6,[1],[1.0])|(5,[1],[1.0])|(5,[0],[1.0])|\n",
      "|        60|  11250|          7|          5|     2001|        2002|       486|         0|      434|        920|     920|     866|           0|     1786|           1|           0|       2|       1|           3|           1|           6|         1|         2|       608|         0|         42|            0|        0|          0|       0|      0|     9|  2008|   223500|           0.0|             13.0|         0.0|           1.0|              0.0|            0.0|            0.0|            0.0|               1.0|             0.0|             0.0|           0.0|             1.0|            0.0|           0.0|              0.0|              0.0|             1.0|            81.0|            1.0|            0.0|             0.0|           1.0|           0.0|               3.0|               1.0|               0.0|          0.0|            0.0|             0.0|             0.0|              1.0|             0.0|             0.0|             24.0|               1.0|             0.0|             0.0|             0.0|           0.0|                0.0|(5,[0],[1.0])|(111,[13],[1.0])|(2,[0],[1.0])|(4,[1],[1.0])| (4,[0],[1.0])|(2,[0],[1.0])|(5,[0],[1.0])|(3,[0],[1.0])| (25,[1],[1.0])|(9,[0],[1.0])|(8,[0],[1.0])|(5,[0],[1.0])|(8,[1],[1.0])|(6,[0],[1.0])|(8,[0],[1.0])|(15,[0],[1.0])|(16,[0],[1.0])|(5,[1],[1.0])| (328,[81],[1.0])|(4,[1],[1.0])|(5,[0],[1.0])|(6,[0],[1.0])|(5,[1],[1.0])|(5,[0],[1.0])|\n",
      "|        70|   9550|          7|          5|     1915|        1970|       216|         0|      540|        756|     961|     756|           0|     1717|           1|           0|       1|       0|           3|           1|           7|         1|         3|       642|         0|         35|          272|        0|          0|       0|      0|     2|  2006|   140000|           0.0|              1.0|         0.0|           1.0|              0.0|            0.0|            1.0|            0.0|              11.0|             0.0|             0.0|           0.0|             1.0|            0.0|           0.0|              3.0|              6.0|             0.0|             0.0|            0.0|            0.0|             2.0|           0.0|           1.0|               0.0|               2.0|               0.0|          0.0|            2.0|             0.0|             0.0|              1.0|             0.0|             1.0|              7.0|               0.0|             0.0|             0.0|             0.0|           0.0|                2.0|(5,[0],[1.0])| (111,[1],[1.0])|(2,[0],[1.0])|(4,[1],[1.0])| (4,[0],[1.0])|(2,[0],[1.0])|(5,[1],[1.0])|(3,[0],[1.0])|(25,[11],[1.0])|(9,[0],[1.0])|(8,[0],[1.0])|(5,[0],[1.0])|(8,[1],[1.0])|(6,[0],[1.0])|(8,[0],[1.0])|(15,[3],[1.0])|(16,[6],[1.0])|(5,[0],[1.0])|  (328,[0],[1.0])|(4,[0],[1.0])|(5,[0],[1.0])|(6,[2],[1.0])|(5,[0],[1.0])|(5,[1],[1.0])|\n",
      "|        60|  14260|          8|          5|     2000|        2000|       655|         0|      490|       1145|    1145|    1053|           0|     2198|           1|           0|       2|       1|           4|           1|           9|         1|         3|       836|       192|         84|            0|        0|          0|       0|      0|    12|  2008|   250000|           0.0|             42.0|         0.0|           1.0|              0.0|            0.0|            3.0|            0.0|              13.0|             0.0|             0.0|           0.0|             1.0|            0.0|           0.0|              0.0|              0.0|             1.0|            54.0|            1.0|            0.0|             0.0|           1.0|           0.0|               1.0|               1.0|               0.0|          0.0|            0.0|             0.0|             0.0|              1.0|             0.0|             0.0|             11.0|               1.0|             0.0|             0.0|             0.0|           0.0|                0.0|(5,[0],[1.0])|(111,[42],[1.0])|(2,[0],[1.0])|(4,[1],[1.0])| (4,[0],[1.0])|(2,[0],[1.0])|(5,[3],[1.0])|(3,[0],[1.0])|(25,[13],[1.0])|(9,[0],[1.0])|(8,[0],[1.0])|(5,[0],[1.0])|(8,[1],[1.0])|(6,[0],[1.0])|(8,[0],[1.0])|(15,[0],[1.0])|(16,[0],[1.0])|(5,[1],[1.0])| (328,[54],[1.0])|(4,[1],[1.0])|(5,[0],[1.0])|(6,[0],[1.0])|(5,[1],[1.0])|(5,[0],[1.0])|\n",
      "|        50|  14115|          5|          5|     1993|        1995|       732|         0|       64|        796|     796|     566|           0|     1362|           1|           0|       1|       1|           1|           1|           5|         0|         2|       480|        40|         30|            0|      320|          0|       0|    700|    10|  2009|   143000|           0.0|              7.0|         0.0|           1.0|              0.0|            0.0|            0.0|            0.0|              12.0|             0.0|             0.0|           0.0|             2.0|            0.0|           0.0|              0.0|              0.0|             0.0|             0.0|            0.0|            0.0|             5.0|           1.0|           0.0|               0.0|               1.0|               0.0|          0.0|            0.0|             0.0|             0.0|              0.0|             0.0|             0.0|             15.0|               0.0|             0.0|             0.0|             0.0|           0.0|                0.0|(5,[0],[1.0])| (111,[7],[1.0])|(2,[0],[1.0])|(4,[1],[1.0])| (4,[0],[1.0])|(2,[0],[1.0])|(5,[0],[1.0])|(3,[0],[1.0])|(25,[12],[1.0])|(9,[0],[1.0])|(8,[0],[1.0])|(5,[0],[1.0])|(8,[2],[1.0])|(6,[0],[1.0])|(8,[0],[1.0])|(15,[0],[1.0])|(16,[0],[1.0])|(5,[0],[1.0])|  (328,[0],[1.0])|(4,[0],[1.0])|(5,[0],[1.0])|(6,[5],[1.0])|(5,[1],[1.0])|(5,[0],[1.0])|\n",
      "|        20|  10084|          8|          5|     2004|        2005|      1369|         0|      317|       1686|    1694|       0|           0|     1694|           1|           0|       2|       0|           3|           1|           7|         1|         2|       636|       255|         57|            0|        0|          0|       0|      0|     8|  2007|   307000|           0.0|              5.0|         0.0|           0.0|              0.0|            0.0|            0.0|            0.0|               4.0|             0.0|             0.0|           0.0|             0.0|            0.0|           0.0|              0.0|              0.0|             2.0|            47.0|            1.0|            0.0|             0.0|           2.0|           0.0|               1.0|               1.0|               0.0|          0.0|            0.0|             0.0|             0.0|              1.0|             0.0|             0.0|              3.0|               1.0|             0.0|             0.0|             0.0|           0.0|                0.0|(5,[0],[1.0])| (111,[5],[1.0])|(2,[0],[1.0])|(4,[0],[1.0])| (4,[0],[1.0])|(2,[0],[1.0])|(5,[0],[1.0])|(3,[0],[1.0])| (25,[4],[1.0])|(9,[0],[1.0])|(8,[0],[1.0])|(5,[0],[1.0])|(8,[0],[1.0])|(6,[0],[1.0])|(8,[0],[1.0])|(15,[0],[1.0])|(16,[0],[1.0])|(5,[2],[1.0])| (328,[47],[1.0])|(4,[1],[1.0])|(5,[0],[1.0])|(6,[0],[1.0])|(5,[2],[1.0])|(5,[0],[1.0])|\n",
      "|        60|  10382|          7|          6|     1973|        1973|       859|        32|      216|       1107|    1107|     983|           0|     2090|           1|           0|       2|       1|           3|           1|           7|         2|         2|       484|       235|        204|          228|        0|          0|       0|    350|    11|  2009|   200000|           0.0|              0.0|         0.0|           1.0|              0.0|            0.0|            1.0|            0.0|               8.0|             4.0|             0.0|           0.0|             1.0|            0.0|           0.0|              1.0|              2.0|             2.0|            50.0|            0.0|            0.0|             1.0|           1.0|           0.0|               3.0|               2.0|               4.0|          0.0|            0.0|             0.0|             0.0|              0.0|             0.0|             0.0|             44.0|               1.0|             0.0|             0.0|             0.0|           0.0|                0.0|(5,[0],[1.0])| (111,[0],[1.0])|(2,[0],[1.0])|(4,[1],[1.0])| (4,[0],[1.0])|(2,[0],[1.0])|(5,[1],[1.0])|(3,[0],[1.0])| (25,[8],[1.0])|(9,[4],[1.0])|(8,[0],[1.0])|(5,[0],[1.0])|(8,[1],[1.0])|(6,[0],[1.0])|(8,[0],[1.0])|(15,[1],[1.0])|(16,[2],[1.0])|(5,[2],[1.0])| (328,[50],[1.0])|(4,[0],[1.0])|(5,[0],[1.0])|(6,[1],[1.0])|(5,[1],[1.0])|(5,[0],[1.0])|\n",
      "|        50|   6120|          7|          5|     1931|        1950|         0|         0|      952|        952|    1022|     752|           0|     1774|           0|           0|       2|       0|           2|           2|           8|         2|         2|       468|        90|          0|          205|        0|          0|       0|      0|     4|  2008|   129900|           1.0|             20.0|         0.0|           0.0|              0.0|            0.0|            0.0|            0.0|               2.0|             2.0|             0.0|           0.0|             2.0|            0.0|           0.0|              6.0|              6.0|             0.0|             0.0|            0.0|            0.0|             2.0|           0.0|           0.0|               0.0|               0.0|               0.0|          0.0|            2.0|             0.0|             2.0|              0.0|             2.0|             1.0|             72.0|               0.0|             2.0|             0.0|             0.0|           0.0|                2.0|(5,[1],[1.0])|(111,[20],[1.0])|(2,[0],[1.0])|(4,[0],[1.0])| (4,[0],[1.0])|(2,[0],[1.0])|(5,[0],[1.0])|(3,[0],[1.0])| (25,[2],[1.0])|(9,[2],[1.0])|(8,[0],[1.0])|(5,[0],[1.0])|(8,[2],[1.0])|(6,[0],[1.0])|(8,[0],[1.0])|(15,[6],[1.0])|(16,[6],[1.0])|(5,[0],[1.0])|  (328,[0],[1.0])|(4,[0],[1.0])|(5,[0],[1.0])|(6,[2],[1.0])|(5,[0],[1.0])|(5,[0],[1.0])|\n",
      "|       190|   7420|          5|          6|     1939|        1950|       851|         0|      140|        991|    1077|       0|           0|     1077|           1|           0|       1|       0|           2|           2|           5|         2|         1|       205|         0|          4|            0|        0|          0|       0|      0|     1|  2008|   118000|           0.0|              4.0|         0.0|           0.0|              0.0|            0.0|            1.0|            0.0|              10.0|             2.0|             2.0|           4.0|             5.0|            0.0|           0.0|              2.0|              1.0|             0.0|             0.0|            0.0|            0.0|             2.0|           0.0|           0.0|               0.0|               1.0|               0.0|          0.0|            0.0|             0.0|             0.0|              0.0|             0.0|             0.0|             58.0|               1.0|             3.0|             0.0|             0.0|           0.0|                0.0|(5,[0],[1.0])| (111,[4],[1.0])|(2,[0],[1.0])|(4,[0],[1.0])| (4,[0],[1.0])|(2,[0],[1.0])|(5,[1],[1.0])|(3,[0],[1.0])|(25,[10],[1.0])|(9,[2],[1.0])|(8,[2],[1.0])|(5,[4],[1.0])|(8,[5],[1.0])|(6,[0],[1.0])|(8,[0],[1.0])|(15,[2],[1.0])|(16,[1],[1.0])|(5,[0],[1.0])|  (328,[0],[1.0])|(4,[0],[1.0])|(5,[0],[1.0])|(6,[2],[1.0])|(5,[0],[1.0])|(5,[0],[1.0])|\n",
      "|        20|  11200|          5|          5|     1965|        1965|       906|         0|      134|       1040|    1040|       0|           0|     1040|           1|           0|       1|       0|           3|           1|           5|         0|         1|       384|         0|          0|            0|        0|          0|       0|      0|     2|  2008|   129500|           0.0|              2.0|         0.0|           0.0|              0.0|            0.0|            0.0|            0.0|               7.0|             0.0|             0.0|           0.0|             0.0|            1.0|           0.0|              1.0|              2.0|             0.0|             0.0|            0.0|            0.0|             1.0|           0.0|           0.0|               0.0|               4.0|               0.0|          0.0|            0.0|             0.0|             0.0|              0.0|             0.0|             1.0|             18.0|               0.0|             0.0|             0.0|             0.0|           0.0|                0.0|(5,[0],[1.0])| (111,[2],[1.0])|(2,[0],[1.0])|(4,[0],[1.0])| (4,[0],[1.0])|(2,[0],[1.0])|(5,[0],[1.0])|(3,[0],[1.0])| (25,[7],[1.0])|(9,[0],[1.0])|(8,[0],[1.0])|(5,[0],[1.0])|(8,[0],[1.0])|(6,[1],[1.0])|(8,[0],[1.0])|(15,[1],[1.0])|(16,[2],[1.0])|(5,[0],[1.0])|  (328,[0],[1.0])|(4,[0],[1.0])|(5,[0],[1.0])|(6,[1],[1.0])|(5,[0],[1.0])|(5,[0],[1.0])|\n",
      "|        60|  11924|          9|          5|     2005|        2006|       998|         0|      177|       1175|    1182|    1142|           0|     2324|           1|           0|       3|       0|           4|           1|          11|         2|         3|       736|       147|         21|            0|        0|          0|       0|      0|     7|  2006|   345000|           0.0|              7.0|         0.0|           1.0|              0.0|            0.0|            0.0|            0.0|               6.0|             0.0|             0.0|           0.0|             1.0|            1.0|           0.0|              7.0|              6.0|             2.0|           204.0|            2.0|            0.0|             0.0|           2.0|           0.0|               0.0|               1.0|               0.0|          0.0|            0.0|             0.0|             0.0|              2.0|             0.0|             2.0|              1.0|               2.0|             0.0|             0.0|             0.0|           1.0|                1.0|(5,[0],[1.0])| (111,[7],[1.0])|(2,[0],[1.0])|(4,[1],[1.0])| (4,[0],[1.0])|(2,[0],[1.0])|(5,[0],[1.0])|(3,[0],[1.0])| (25,[6],[1.0])|(9,[0],[1.0])|(8,[0],[1.0])|(5,[0],[1.0])|(8,[1],[1.0])|(6,[1],[1.0])|(8,[0],[1.0])|(15,[7],[1.0])|(16,[6],[1.0])|(5,[2],[1.0])|(328,[204],[1.0])|(4,[2],[1.0])|(5,[0],[1.0])|(6,[0],[1.0])|(5,[2],[1.0])|(5,[0],[1.0])|\n",
      "|        20|  12968|          5|          6|     1962|        1962|       737|         0|      175|        912|     912|       0|           0|      912|           1|           0|       1|       0|           2|           1|           4|         0|         1|       352|       140|          0|            0|        0|        176|       0|      0|     9|  2008|   144000|           0.0|              0.0|         0.0|           2.0|              0.0|            0.0|            0.0|            0.0|               7.0|             0.0|             0.0|           0.0|             0.0|            1.0|           0.0|              1.0|              4.0|             0.0|             0.0|            0.0|            0.0|             1.0|           0.0|           0.0|               0.0|               2.0|               0.0|          0.0|            1.0|             0.0|             0.0|              0.0|             0.0|             1.0|             17.0|               0.0|             0.0|             0.0|             0.0|           0.0|                0.0|(5,[0],[1.0])| (111,[0],[1.0])|(2,[0],[1.0])|(4,[2],[1.0])| (4,[0],[1.0])|(2,[0],[1.0])|(5,[0],[1.0])|(3,[0],[1.0])| (25,[7],[1.0])|(9,[0],[1.0])|(8,[0],[1.0])|(5,[0],[1.0])|(8,[0],[1.0])|(6,[1],[1.0])|(8,[0],[1.0])|(15,[1],[1.0])|(16,[4],[1.0])|(5,[0],[1.0])|  (328,[0],[1.0])|(4,[0],[1.0])|(5,[0],[1.0])|(6,[1],[1.0])|(5,[0],[1.0])|(5,[0],[1.0])|\n",
      "|        20|  10652|          7|          5|     2006|        2007|         0|         0|     1494|       1494|    1494|       0|           0|     1494|           0|           0|       2|       0|           3|           1|           7|         1|         3|       840|       160|         33|            0|        0|          0|       0|      0|     8|  2007|   279500|           0.0|             60.0|         0.0|           1.0|              0.0|            0.0|            0.0|            0.0|               1.0|             0.0|             0.0|           0.0|             0.0|            0.0|           0.0|              0.0|              0.0|             2.0|           113.0|            1.0|            0.0|             0.0|           1.0|           0.0|               1.0|               0.0|               0.0|          0.0|            0.0|             0.0|             0.0|              1.0|             0.0|             0.0|              2.0|               1.0|             0.0|             0.0|             0.0|           1.0|                1.0|(5,[0],[1.0])|(111,[60],[1.0])|(2,[0],[1.0])|(4,[1],[1.0])| (4,[0],[1.0])|(2,[0],[1.0])|(5,[0],[1.0])|(3,[0],[1.0])| (25,[1],[1.0])|(9,[0],[1.0])|(8,[0],[1.0])|(5,[0],[1.0])|(8,[0],[1.0])|(6,[0],[1.0])|(8,[0],[1.0])|(15,[0],[1.0])|(16,[0],[1.0])|(5,[2],[1.0])|(328,[113],[1.0])|(4,[1],[1.0])|(5,[0],[1.0])|(6,[0],[1.0])|(5,[1],[1.0])|(5,[0],[1.0])|\n",
      "|        20|  10920|          6|          5|     1960|        1960|       733|         0|      520|       1253|    1253|       0|           0|     1253|           1|           0|       1|       1|           2|           1|           5|         1|         1|       352|         0|        213|          176|        0|          0|       0|      0|     5|  2008|   157000|           0.0|              0.0|         0.0|           1.0|              0.0|            0.0|            1.0|            0.0|               0.0|             0.0|             0.0|           0.0|             0.0|            1.0|           0.0|              2.0|              1.0|             1.0|            93.0|            0.0|            0.0|             1.0|           0.0|           0.0|               0.0|               3.0|               0.0|          0.0|            1.0|             0.0|             0.0|              0.0|             0.0|             0.0|             26.0|               1.0|             0.0|             0.0|             0.0|           0.0|                0.0|(5,[0],[1.0])| (111,[0],[1.0])|(2,[0],[1.0])|(4,[1],[1.0])| (4,[0],[1.0])|(2,[0],[1.0])|(5,[1],[1.0])|(3,[0],[1.0])| (25,[0],[1.0])|(9,[0],[1.0])|(8,[0],[1.0])|(5,[0],[1.0])|(8,[0],[1.0])|(6,[1],[1.0])|(8,[0],[1.0])|(15,[2],[1.0])|(16,[1],[1.0])|(5,[1],[1.0])| (328,[93],[1.0])|(4,[0],[1.0])|(5,[0],[1.0])|(6,[1],[1.0])|(5,[0],[1.0])|(5,[0],[1.0])|\n",
      "|        45|   6120|          7|          8|     1929|        2001|         0|         0|      832|        832|     854|       0|           0|      854|           0|           0|       1|       0|           2|           1|           5|         0|         2|       576|        48|        112|            0|        0|          0|       0|      0|     7|  2007|   132000|           1.0|             20.0|         0.0|           0.0|              0.0|            0.0|            1.0|            0.0|              10.0|             0.0|             0.0|           0.0|             5.0|            0.0|           0.0|              3.0|              3.0|             0.0|             0.0|            0.0|            0.0|             2.0|           0.0|           0.0|               0.0|               0.0|               0.0|          0.0|            0.0|             0.0|             1.0|              0.0|             0.0|             1.0|             60.0|               0.0|             0.0|             0.0|             0.0|           0.0|                0.0|(5,[1],[1.0])|(111,[20],[1.0])|(2,[0],[1.0])|(4,[0],[1.0])| (4,[0],[1.0])|(2,[0],[1.0])|(5,[1],[1.0])|(3,[0],[1.0])|(25,[10],[1.0])|(9,[0],[1.0])|(8,[0],[1.0])|(5,[0],[1.0])|(8,[5],[1.0])|(6,[0],[1.0])|(8,[0],[1.0])|(15,[3],[1.0])|(16,[3],[1.0])|(5,[0],[1.0])|  (328,[0],[1.0])|(4,[0],[1.0])|(5,[0],[1.0])|(6,[2],[1.0])|(5,[0],[1.0])|(5,[0],[1.0])|\n",
      "|        20|  11241|          6|          7|     1970|        1970|       578|         0|      426|       1004|    1004|       0|           0|     1004|           1|           0|       1|       0|           2|           1|           5|         1|         2|       480|         0|          0|            0|        0|          0|       0|    700|     3|  2010|   149000|           0.0|              0.0|         0.0|           1.0|              0.0|            0.0|            2.0|            0.0|               0.0|             0.0|             0.0|           0.0|             0.0|            0.0|           0.0|              3.0|              3.0|             1.0|             2.0|            0.0|            0.0|             1.0|           0.0|           0.0|               0.0|               2.0|               0.0|          0.0|            0.0|             0.0|             0.0|              0.0|             0.0|             0.0|             22.0|               2.0|             0.0|             0.0|             0.0|           0.0|                0.0|(5,[0],[1.0])| (111,[0],[1.0])|(2,[0],[1.0])|(4,[1],[1.0])| (4,[0],[1.0])|(2,[0],[1.0])|(5,[2],[1.0])|(3,[0],[1.0])| (25,[0],[1.0])|(9,[0],[1.0])|(8,[0],[1.0])|(5,[0],[1.0])|(8,[0],[1.0])|(6,[0],[1.0])|(8,[0],[1.0])|(15,[3],[1.0])|(16,[3],[1.0])|(5,[1],[1.0])|  (328,[2],[1.0])|(4,[0],[1.0])|(5,[0],[1.0])|(6,[1],[1.0])|(5,[0],[1.0])|(5,[0],[1.0])|\n",
      "|        90|  10791|          4|          5|     1967|        1967|         0|         0|        0|          0|    1296|       0|           0|     1296|           0|           0|       2|       0|           2|           2|           6|         0|         2|       516|         0|          0|            0|        0|          0|       0|    500|    10|  2006|    90000|           0.0|             17.0|         0.0|           0.0|              0.0|            0.0|            0.0|            0.0|               7.0|             0.0|             0.0|           2.0|             0.0|            0.0|           0.0|              2.0|              1.0|             0.0|             0.0|            0.0|            0.0|             3.0|           3.0|           3.0|               4.0|               6.0|               3.0|          0.0|            1.0|             0.0|             0.0|              0.0|             0.0|             5.0|             37.0|               0.0|             0.0|             0.0|             0.0|           0.0|                0.0|(5,[0],[1.0])|(111,[17],[1.0])|(2,[0],[1.0])|(4,[0],[1.0])| (4,[0],[1.0])|(2,[0],[1.0])|(5,[0],[1.0])|(3,[0],[1.0])| (25,[7],[1.0])|(9,[0],[1.0])|(8,[0],[1.0])|(5,[2],[1.0])|(8,[0],[1.0])|(6,[0],[1.0])|(8,[0],[1.0])|(15,[2],[1.0])|(16,[1],[1.0])|(5,[0],[1.0])|  (328,[0],[1.0])|(4,[0],[1.0])|(5,[0],[1.0])|(6,[3],[1.0])|(5,[3],[1.0])|(5,[3],[1.0])|\n",
      "|        20|  13695|          5|          5|     2004|        2004|       646|         0|      468|       1114|    1114|       0|           0|     1114|           1|           0|       1|       1|           3|           1|           6|         0|         2|       576|         0|        102|            0|        0|          0|       0|      0|     6|  2008|   159000|           0.0|             21.0|         0.0|           0.0|              0.0|            0.0|            0.0|            0.0|               9.0|             5.0|             0.0|           0.0|             0.0|            0.0|           0.0|              0.0|              0.0|             0.0|             0.0|            0.0|            0.0|             0.0|           0.0|           0.0|               0.0|               1.0|               0.0|          0.0|            0.0|             0.0|             0.0|              1.0|             0.0|             1.0|              3.0|               0.0|             0.0|             0.0|             0.0|           0.0|                0.0|(5,[0],[1.0])|(111,[21],[1.0])|(2,[0],[1.0])|(4,[0],[1.0])| (4,[0],[1.0])|(2,[0],[1.0])|(5,[0],[1.0])|(3,[0],[1.0])| (25,[9],[1.0])|(9,[5],[1.0])|(8,[0],[1.0])|(5,[0],[1.0])|(8,[0],[1.0])|(6,[0],[1.0])|(8,[0],[1.0])|(15,[0],[1.0])|(16,[0],[1.0])|(5,[0],[1.0])|  (328,[0],[1.0])|(4,[0],[1.0])|(5,[0],[1.0])|(6,[0],[1.0])|(5,[0],[1.0])|(5,[0],[1.0])|\n",
      "|        20|   7560|          5|          6|     1958|        1965|       504|         0|      525|       1029|    1339|       0|           0|     1339|           0|           0|       1|       0|           3|           1|           6|         0|         1|       294|         0|          0|            0|        0|          0|       0|      0|     5|  2009|   139000|           0.0|              2.0|         0.0|           0.0|              0.0|            0.0|            0.0|            0.0|               0.0|             0.0|             0.0|           0.0|             0.0|            1.0|           0.0|              6.0|              4.0|             0.0|             0.0|            0.0|            0.0|             1.0|           0.0|           0.0|               0.0|               5.0|               0.0|          0.0|            1.0|             0.0|             0.0|              0.0|             2.0|             0.0|             16.0|               0.0|             0.0|             0.0|             0.0|           2.0|                2.0|(5,[0],[1.0])| (111,[2],[1.0])|(2,[0],[1.0])|(4,[0],[1.0])| (4,[0],[1.0])|(2,[0],[1.0])|(5,[0],[1.0])|(3,[0],[1.0])| (25,[0],[1.0])|(9,[0],[1.0])|(8,[0],[1.0])|(5,[0],[1.0])|(8,[0],[1.0])|(6,[1],[1.0])|(8,[0],[1.0])|(15,[6],[1.0])|(16,[4],[1.0])|(5,[0],[1.0])|  (328,[0],[1.0])|(4,[0],[1.0])|(5,[0],[1.0])|(6,[1],[1.0])|(5,[0],[1.0])|(5,[0],[1.0])|\n",
      "+----------+-------+-----------+-----------+---------+------------+----------+----------+---------+-----------+--------+--------+------------+---------+------------+------------+--------+--------+------------+------------+------------+----------+----------+----------+----------+-----------+-------------+---------+-----------+--------+-------+------+------+---------+--------------+-----------------+------------+--------------+-----------------+---------------+---------------+---------------+------------------+----------------+----------------+--------------+----------------+---------------+--------------+-----------------+-----------------+----------------+----------------+---------------+---------------+----------------+--------------+--------------+------------------+------------------+------------------+-------------+---------------+----------------+----------------+-----------------+----------------+----------------+-----------------+------------------+----------------+----------------+----------------+--------------+-------------------+-------------+----------------+-------------+-------------+--------------+-------------+-------------+-------------+---------------+-------------+-------------+-------------+-------------+-------------+-------------+--------------+--------------+-------------+-----------------+-------------+-------------+-------------+-------------+-------------+\n",
      "only showing top 20 rows\n",
      "\n"
     ]
    }
   ],
   "source": [
    "encodedDF.show()"
   ]
  },
  {
   "cell_type": "markdown",
   "metadata": {
    "id": "YnhP1_Yq2s2W"
   },
   "source": [
    "VectorAssembling"
   ]
  },
  {
   "cell_type": "code",
   "execution_count": 39,
   "metadata": {
    "colab": {
     "base_uri": "https://localhost:8080/"
    },
    "id": "dzK7euZ1oo-P",
    "outputId": "2c9d7eb4-e82f-47ff-a863-43b0c0d75c22"
   },
   "outputs": [
    {
     "name": "stdout",
     "output_type": "stream",
     "text": [
      "+-----------------------------------------------------------------------------------------------------------------------------------------------------------------------------------------------------------------------------------------------------------------------------------------------------------------------------------------------------------------------------------------------------------------+\n",
      "|features                                                                                                                                                                                                                                                                                                                                                                                                         |\n",
      "+-----------------------------------------------------------------------------------------------------------------------------------------------------------------------------------------------------------------------------------------------------------------------------------------------------------------------------------------------------------------------------------------------------------------+\n",
      "|(627,[0,1,2,3,4,5,6,8,9,10,11,13,14,16,17,18,19,20,22,23,25,31,32,33,44,149,151,155,159,161,166,170,194,203,211,217,224,230,238,253,270,295,603,606,611,618,622],[60.0,8450.0,7.0,5.0,2003.0,2003.0,706.0,150.0,856.0,856.0,854.0,1710.0,1.0,2.0,1.0,3.0,1.0,8.0,2.0,548.0,61.0,2.0,2008.0,1.0,1.0,1.0,1.0,1.0,1.0,1.0,1.0,1.0,1.0,1.0,1.0,1.0,1.0,1.0,1.0,1.0,1.0,1.0,1.0,1.0,1.0,1.0,1.0])                     |\n",
      "|(627,[0,1,2,3,4,5,6,8,9,10,13,15,16,18,19,20,21,22,23,24,31,32,33,41,149,151,155,159,164,166,191,195,203,211,216,224,230,240,254,269,274,602,606,612,618,622],[20.0,9600.0,6.0,8.0,1976.0,1976.0,978.0,284.0,1262.0,1262.0,1262.0,1.0,2.0,3.0,1.0,6.0,1.0,2.0,460.0,298.0,5.0,2007.0,1.0,1.0,1.0,1.0,1.0,1.0,1.0,1.0,1.0,1.0,1.0,1.0,1.0,1.0,1.0,1.0,1.0,1.0,1.0,1.0,1.0,1.0,1.0,1.0])                           |\n",
      "|(627,[0,1,2,3,4,5,6,8,9,10,11,13,14,16,17,18,19,20,21,22,23,25,31,32,33,51,149,152,155,159,161,166,170,194,203,211,217,224,230,238,253,270,355,603,606,611,618,622],[60.0,11250.0,7.0,5.0,2001.0,2002.0,486.0,434.0,920.0,920.0,866.0,1786.0,1.0,2.0,1.0,3.0,1.0,6.0,1.0,2.0,608.0,42.0,9.0,2008.0,1.0,1.0,1.0,1.0,1.0,1.0,1.0,1.0,1.0,1.0,1.0,1.0,1.0,1.0,1.0,1.0,1.0,1.0,1.0,1.0,1.0,1.0,1.0,1.0])             |\n",
      "|(627,[0,1,2,3,4,5,6,8,9,10,11,13,14,16,18,19,20,21,22,23,25,26,31,32,33,39,149,152,155,159,162,166,180,194,203,211,217,224,230,241,259,269,274,602,606,613,617,623],[70.0,9550.0,7.0,5.0,1915.0,1970.0,216.0,540.0,756.0,961.0,756.0,1717.0,1.0,1.0,3.0,1.0,7.0,1.0,3.0,642.0,35.0,272.0,2.0,2006.0,1.0,1.0,1.0,1.0,1.0,1.0,1.0,1.0,1.0,1.0,1.0,1.0,1.0,1.0,1.0,1.0,1.0,1.0,1.0,1.0,1.0,1.0,1.0,1.0])            |\n",
      "|(627,[0,1,2,3,4,5,6,8,9,10,11,13,14,16,17,18,19,20,21,22,23,24,25,31,32,33,80,149,152,155,159,164,166,182,194,203,211,217,224,230,238,253,270,328,603,606,611,618,622],[60.0,14260.0,8.0,5.0,2000.0,2000.0,655.0,490.0,1145.0,1145.0,1053.0,2198.0,1.0,2.0,1.0,4.0,1.0,9.0,1.0,3.0,836.0,192.0,84.0,12.0,2008.0,1.0,1.0,1.0,1.0,1.0,1.0,1.0,1.0,1.0,1.0,1.0,1.0,1.0,1.0,1.0,1.0,1.0,1.0,1.0,1.0,1.0,1.0,1.0,1.0])|\n",
      "+-----------------------------------------------------------------------------------------------------------------------------------------------------------------------------------------------------------------------------------------------------------------------------------------------------------------------------------------------------------------------------------------------------------------+\n",
      "only showing top 5 rows\n",
      "\n"
     ]
    }
   ],
   "source": [
    "# Import VectorAssembler from pyspark.ml.feature package\n",
    "from pyspark.ml.feature import VectorAssembler\n",
    "# Create a list of all the variables that you want to create feature vectors\n",
    "# These features are then further used for training model\n",
    "features_col = ['MSSubClass',\n",
    " 'LotArea',\n",
    " 'OverallQual',\n",
    " 'OverallCond',\n",
    " 'YearBuilt',\n",
    " 'YearRemodAdd',\n",
    " 'BsmtFinSF1',\n",
    " 'BsmtFinSF2',\n",
    " 'BsmtUnfSF',\n",
    " 'TotalBsmtSF',\n",
    " '1stFlrSF',\n",
    " '2ndFlrSF',\n",
    " 'LowQualFinSF',\n",
    " 'GrLivArea',\n",
    " 'BsmtFullBath',\n",
    " 'BsmtHalfBath',\n",
    " 'FullBath',\n",
    " 'HalfBath',\n",
    " 'BedroomAbvGr',\n",
    " 'KitchenAbvGr',\n",
    " 'TotRmsAbvGrd',\n",
    " 'Fireplaces',\n",
    " 'GarageCars',\n",
    " 'GarageArea',\n",
    " 'WoodDeckSF',\n",
    " 'OpenPorchSF',\n",
    " 'EnclosedPorch',\n",
    " '3SsnPorch',\n",
    " 'ScreenPorch',\n",
    " 'PoolArea',\n",
    " 'MiscVal',\n",
    " 'MoSold',\n",
    " 'YrSold',\n",
    " 'MSZoningVec',\n",
    " 'LotFrontageVec',\n",
    " 'StreetVec',\n",
    " 'LotShapeVec',\n",
    " 'LandContourVec',\n",
    " 'UtilitiesVec',\n",
    " 'LotConfigVec',\n",
    " 'LandSlopeVec',\n",
    " 'NeighborhoodVec',\n",
    " 'Condition1Vec',\n",
    " 'Condition2Vec',\n",
    " 'BldgTypeVec',\n",
    " 'HouseStyleVec',\n",
    " 'RoofStyleVec',\n",
    " 'RoofMatlVec',\n",
    " 'Exterior1stVec',\n",
    " 'Exterior2ndVec',\n",
    " 'MasVnrTypeVec',\n",
    " 'MasVnrAreaVec',\n",
    " 'ExterQualVec',\n",
    " 'ExterCondVec',\n",
    " 'FoundationVec',\n",
    " 'BsmtQualVec',\n",
    " 'BsmtCondVec']\n",
    "# Create the VectorAssembler object\n",
    "assembler = VectorAssembler(inputCols= features_col, outputCol= \"features\")\n",
    "assembledDF = assembler.transform(encodedDF)\n",
    "assembledDF.select(\"features\").show(5, False)"
   ]
  },
  {
   "cell_type": "markdown",
   "metadata": {
    "id": "sufwejOD2nKd"
   },
   "source": [
    "VectorIndexing"
   ]
  },
  {
   "cell_type": "code",
   "execution_count": 40,
   "metadata": {
    "colab": {
     "base_uri": "https://localhost:8080/"
    },
    "id": "lngfiMXrrILs",
    "outputId": "0dfa043c-7f22-42a4-f81f-97eb61fba2a2"
   },
   "outputs": [
    {
     "name": "stdout",
     "output_type": "stream",
     "text": [
      "+------------------------------------------------------------------------------------------------------------------------------------------------------------------------------------------------------------------------------------------------------------------------------------------------------------------------+--------------------------------------------------------------------------------------------------------------------------------------------------------------------------------------------------------------------------------------------------------------------------------------------------------------------+\n",
      "|features                                                                                                                                                                                                                                                                                                                |indexed_features                                                                                                                                                                                                                                                                                                    |\n",
      "+------------------------------------------------------------------------------------------------------------------------------------------------------------------------------------------------------------------------------------------------------------------------------------------------------------------------+--------------------------------------------------------------------------------------------------------------------------------------------------------------------------------------------------------------------------------------------------------------------------------------------------------------------+\n",
      "|(74,[0,1,2,3,4,5,6,8,9,10,11,13,14,16,17,18,19,20,22,23,25,31,32,34,41,45,50,51,52,55,58,64,67,68],[60.0,8450.0,7.0,5.0,2003.0,2003.0,706.0,150.0,856.0,856.0,854.0,1710.0,1.0,2.0,1.0,3.0,1.0,8.0,2.0,548.0,61.0,2.0,2008.0,6.0,1.0,1.0,1.0,21.0,1.0,1.0,1.0,1.0,4.0,1.0])                                             |(74,[0,1,2,3,4,5,6,8,9,10,11,13,14,16,17,18,19,20,22,23,25,31,32,34,41,45,50,51,52,55,58,64,67,68],[5.0,8450.0,6.0,4.0,2003.0,2003.0,706.0,150.0,856.0,856.0,854.0,1710.0,1.0,2.0,1.0,3.0,1.0,6.0,2.0,548.0,61.0,1.0,2.0,6.0,1.0,1.0,1.0,21.0,1.0,1.0,1.0,1.0,4.0,1.0])                                             |\n",
      "|(74,[0,1,2,3,4,5,6,8,9,10,13,15,16,18,19,20,21,22,23,24,31,32,34,39,41,42,48,49,54,55,57,58,67,68],[20.0,9600.0,6.0,8.0,1976.0,1976.0,978.0,284.0,1262.0,1262.0,1262.0,1.0,2.0,3.0,1.0,6.0,1.0,2.0,460.0,298.0,5.0,2007.0,3.0,3.0,22.0,1.0,2.0,1.0,1.0,1.0,2.0,2.0,9.0,1.0])                                            |(74,[0,1,2,3,4,5,6,8,9,10,13,15,16,18,19,20,21,22,23,24,31,32,34,39,41,42,48,49,54,55,57,58,67,68],[0.0,9600.0,5.0,7.0,1976.0,1976.0,978.0,284.0,1262.0,1262.0,1262.0,1.0,2.0,3.0,1.0,4.0,1.0,2.0,460.0,298.0,4.0,1.0,3.0,3.0,22.0,1.0,2.0,1.0,1.0,1.0,2.0,2.0,9.0,1.0])                                            |\n",
      "|(74,[0,1,2,3,4,5,6,8,9,10,11,13,14,16,17,18,19,20,21,22,23,25,31,32,34,36,41,45,50,51,52,55,57,58,64,67,68],[60.0,11250.0,7.0,5.0,2001.0,2002.0,486.0,434.0,920.0,920.0,866.0,1786.0,1.0,2.0,1.0,3.0,1.0,6.0,1.0,2.0,608.0,42.0,9.0,2008.0,13.0,1.0,1.0,1.0,1.0,81.0,1.0,1.0,3.0,1.0,1.0,24.0,1.0])                     |(74,[0,1,2,3,4,5,6,8,9,10,11,13,14,16,17,18,19,20,21,22,23,25,31,32,34,36,41,45,50,51,52,55,57,58,64,67,68],[5.0,11250.0,6.0,4.0,2001.0,2002.0,486.0,434.0,920.0,920.0,866.0,1786.0,1.0,2.0,1.0,3.0,1.0,4.0,1.0,2.0,608.0,42.0,8.0,2.0,13.0,1.0,1.0,1.0,1.0,81.0,1.0,1.0,3.0,1.0,1.0,24.0,1.0])                     |\n",
      "|(74,[0,1,2,3,4,5,6,8,9,10,11,13,14,16,18,19,20,21,22,23,25,26,31,32,34,36,39,41,45,48,49,54,56,58,61,64,66,67,73],[70.0,9550.0,7.0,5.0,1915.0,1970.0,216.0,540.0,756.0,961.0,756.0,1717.0,1.0,1.0,3.0,1.0,7.0,1.0,3.0,642.0,35.0,272.0,2.0,2006.0,1.0,1.0,1.0,11.0,1.0,3.0,6.0,2.0,1.0,2.0,2.0,1.0,1.0,7.0,2.0])        |(74,[0,1,2,3,4,5,6,8,9,10,11,13,14,16,18,19,20,21,22,23,25,26,31,32,34,36,39,41,45,48,49,54,56,58,61,64,66,67,73],[6.0,9550.0,6.0,4.0,1915.0,1970.0,216.0,540.0,756.0,961.0,756.0,1717.0,1.0,1.0,3.0,1.0,5.0,1.0,3.0,642.0,35.0,272.0,1.0,0.0,1.0,1.0,1.0,11.0,1.0,3.0,6.0,2.0,1.0,2.0,2.0,1.0,1.0,7.0,2.0])        |\n",
      "|(74,[0,1,2,3,4,5,6,8,9,10,11,13,14,16,17,18,19,20,21,22,23,24,25,31,32,34,36,39,41,45,50,51,52,55,57,58,64,67,68],[60.0,14260.0,8.0,5.0,2000.0,2000.0,655.0,490.0,1145.0,1145.0,1053.0,2198.0,1.0,2.0,1.0,4.0,1.0,9.0,1.0,3.0,836.0,192.0,84.0,12.0,2008.0,42.0,1.0,3.0,13.0,1.0,1.0,54.0,1.0,1.0,1.0,1.0,1.0,11.0,1.0])|(74,[0,1,2,3,4,5,6,8,9,10,11,13,14,16,17,18,19,20,21,22,23,24,25,31,32,34,36,39,41,45,50,51,52,55,57,58,64,67,68],[5.0,14260.0,7.0,4.0,2000.0,2000.0,655.0,490.0,1145.0,1145.0,1053.0,2198.0,1.0,2.0,1.0,4.0,1.0,7.0,1.0,3.0,836.0,192.0,84.0,11.0,2.0,42.0,1.0,3.0,13.0,1.0,1.0,54.0,1.0,1.0,1.0,1.0,1.0,11.0,1.0])|\n",
      "+------------------------------------------------------------------------------------------------------------------------------------------------------------------------------------------------------------------------------------------------------------------------------------------------------------------------+--------------------------------------------------------------------------------------------------------------------------------------------------------------------------------------------------------------------------------------------------------------------------------------------------------------------+\n",
      "only showing top 5 rows\n",
      "\n"
     ]
    }
   ],
   "source": [
    "# Import VectorIndexer from pyspark.ml.feature package\n",
    "from pyspark.ml.feature import VectorIndexer\n",
    "# Create a list of all the raw features\n",
    "# VectorIndexer will automatically identify the categorical columns and index them\n",
    "featurecol = ['MSSubClass',\n",
    " 'LotArea',\n",
    " 'OverallQual',\n",
    " 'OverallCond',\n",
    " 'YearBuilt',\n",
    " 'YearRemodAdd',\n",
    " 'BsmtFinSF1',\n",
    " 'BsmtFinSF2',\n",
    " 'BsmtUnfSF',\n",
    " 'TotalBsmtSF',\n",
    " '1stFlrSF',\n",
    " '2ndFlrSF',\n",
    " 'LowQualFinSF',\n",
    " 'GrLivArea',\n",
    " 'BsmtFullBath',\n",
    " 'BsmtHalfBath',\n",
    " 'FullBath',\n",
    " 'HalfBath',\n",
    " 'BedroomAbvGr',\n",
    " 'KitchenAbvGr',\n",
    " 'TotRmsAbvGrd',\n",
    " 'Fireplaces',\n",
    " 'GarageCars',\n",
    " 'GarageArea',\n",
    " 'WoodDeckSF',\n",
    " 'OpenPorchSF',\n",
    " 'EnclosedPorch',\n",
    " '3SsnPorch',\n",
    " 'ScreenPorch',\n",
    " 'PoolArea',\n",
    " 'MiscVal',\n",
    " 'MoSold',\n",
    " 'YrSold',\n",
    " 'MSZoning_index',\n",
    " 'LotFrontage_index',\n",
    " 'Street_index',\n",
    " 'LotShape_index',\n",
    " 'LandContour_index',\n",
    " 'Utilities_index',\n",
    " 'LotConfig_index',\n",
    " 'LandSlope_index',\n",
    " 'Neighborhood_index',\n",
    " 'Condition1_index',\n",
    " 'Condition2_index',\n",
    " 'BldgType_index',\n",
    " 'HouseStyle_index',\n",
    " 'RoofStyle_index',\n",
    " 'RoofMatl_index',\n",
    " 'Exterior1st_index',\n",
    " 'Exterior2nd_index',\n",
    " 'MasVnrType_index',\n",
    " 'MasVnrArea_index',\n",
    " 'ExterQual_index',\n",
    " 'ExterCond_index',\n",
    " 'Foundation_index',\n",
    " 'BsmtQual_index',\n",
    " 'BsmtCond_index',\n",
    " 'BsmtExposure_index',\n",
    " 'BsmtFinType1_index',\n",
    " 'BsmtFinType2_index',\n",
    " 'Heating_index',\n",
    " 'HeatingQC_index',\n",
    " 'CentralAir_index',\n",
    " 'Electrical_index',\n",
    " 'KitchenQual_index',\n",
    " 'Functional_index',\n",
    " 'GarageType_index',\n",
    " 'GarageYrBlt_index',\n",
    " 'GarageFinish_index',\n",
    " 'GarageQual_index',\n",
    " 'GarageCond_index',\n",
    " 'PavedDrive_index',\n",
    " 'SaleType_index',\n",
    " 'SaleCondition_index']\n",
    "\n",
    "# Create the VectorAssembler object\n",
    "assembler = VectorAssembler(inputCols= featurecol, outputCol= \"features\")\n",
    "assembledDF = assembler.transform(df6)\n",
    "\n",
    "# Create the VectorIndexer object. It only take feature column\n",
    "vecindexer = VectorIndexer(inputCol= \"features\", outputCol= \"indexed_features\")\n",
    "# Fit the vectorindexer object on the output of the vectorassembler data and transform\n",
    "vecindexedDF = vecindexer.fit(assembledDF).transform(assembledDF)\n",
    "vecindexedDF.select(\"features\", \"indexed_features\").show(5, False)"
   ]
  },
  {
   "cell_type": "markdown",
   "metadata": {
    "id": "TbfoQFN92as3"
   },
   "source": [
    "Scaling The Data(StandardScaler)"
   ]
  },
  {
   "cell_type": "code",
   "execution_count": 41,
   "metadata": {
    "colab": {
     "base_uri": "https://localhost:8080/"
    },
    "id": "o7kjM67jy1Fb",
    "outputId": "a577feef-4a69-4306-8253-4aa5ad2c855d"
   },
   "outputs": [
    {
     "name": "stdout",
     "output_type": "stream",
     "text": [
      "+------------------------------------------------------------------------------------------------------------------------------------------------------------------------------------------------------------------------------------------------------------------------------------------------------------------------+-------------------------------------------------------------------------------------------------------------------------------------------------------------------------------------------------------------------------------------------------------------------------------------------------------------------------------------------------+\n",
      "|features                                                                                                                                                                                                                                                                                                                |features_array                                                                                                                                                                                                                                                                                                                                   |\n",
      "+------------------------------------------------------------------------------------------------------------------------------------------------------------------------------------------------------------------------------------------------------------------------------------------------------------------------+-------------------------------------------------------------------------------------------------------------------------------------------------------------------------------------------------------------------------------------------------------------------------------------------------------------------------------------------------+\n",
      "|(74,[0,1,2,3,4,5,6,8,9,10,11,13,14,16,17,18,19,20,22,23,25,31,32,34,41,45,50,51,52,55,58,64,67,68],[60.0,8450.0,7.0,5.0,2003.0,2003.0,706.0,150.0,856.0,856.0,854.0,1710.0,1.0,2.0,1.0,3.0,1.0,8.0,2.0,548.0,61.0,2.0,2008.0,6.0,1.0,1.0,1.0,21.0,1.0,1.0,1.0,1.0,4.0,1.0])                                             |[60.0,8450.0,7.0,5.0,2003.0,2003.0,706.0,0.0,150.0,856.0,856.0,854.0,0.0,1710.0,1.0,0.0,2.0,1.0,3.0,1.0,8.0,0.0,2.0,548.0,0.0,61.0,0.0,0.0,0.0,0.0,0.0,2.0,2008.0,0.0,6.0,0.0,0.0,0.0,0.0,0.0,0.0,1.0,0.0,0.0,0.0,1.0,0.0,0.0,0.0,0.0,1.0,21.0,1.0,0.0,0.0,1.0,0.0,0.0,1.0,0.0,0.0,0.0,0.0,0.0,1.0,0.0,0.0,4.0,1.0,0.0,0.0,0.0,0.0,0.0]          |\n",
      "|(74,[0,1,2,3,4,5,6,8,9,10,13,15,16,18,19,20,21,22,23,24,31,32,34,39,41,42,48,49,54,55,57,58,67,68],[20.0,9600.0,6.0,8.0,1976.0,1976.0,978.0,284.0,1262.0,1262.0,1262.0,1.0,2.0,3.0,1.0,6.0,1.0,2.0,460.0,298.0,5.0,2007.0,3.0,3.0,22.0,1.0,2.0,1.0,1.0,1.0,2.0,2.0,9.0,1.0])                                            |[20.0,9600.0,6.0,8.0,1976.0,1976.0,978.0,0.0,284.0,1262.0,1262.0,0.0,0.0,1262.0,0.0,1.0,2.0,0.0,3.0,1.0,6.0,1.0,2.0,460.0,298.0,0.0,0.0,0.0,0.0,0.0,0.0,5.0,2007.0,0.0,3.0,0.0,0.0,0.0,0.0,3.0,0.0,22.0,1.0,0.0,0.0,0.0,0.0,0.0,2.0,1.0,0.0,0.0,0.0,0.0,1.0,1.0,0.0,2.0,2.0,0.0,0.0,0.0,0.0,0.0,0.0,0.0,0.0,9.0,1.0,0.0,0.0,0.0,0.0,0.0]         |\n",
      "|(74,[0,1,2,3,4,5,6,8,9,10,11,13,14,16,17,18,19,20,21,22,23,25,31,32,34,36,41,45,50,51,52,55,57,58,64,67,68],[60.0,11250.0,7.0,5.0,2001.0,2002.0,486.0,434.0,920.0,920.0,866.0,1786.0,1.0,2.0,1.0,3.0,1.0,6.0,1.0,2.0,608.0,42.0,9.0,2008.0,13.0,1.0,1.0,1.0,1.0,81.0,1.0,1.0,3.0,1.0,1.0,24.0,1.0])                     |[60.0,11250.0,7.0,5.0,2001.0,2002.0,486.0,0.0,434.0,920.0,920.0,866.0,0.0,1786.0,1.0,0.0,2.0,1.0,3.0,1.0,6.0,1.0,2.0,608.0,0.0,42.0,0.0,0.0,0.0,0.0,0.0,9.0,2008.0,0.0,13.0,0.0,1.0,0.0,0.0,0.0,0.0,1.0,0.0,0.0,0.0,1.0,0.0,0.0,0.0,0.0,1.0,81.0,1.0,0.0,0.0,1.0,0.0,3.0,1.0,0.0,0.0,0.0,0.0,0.0,1.0,0.0,0.0,24.0,1.0,0.0,0.0,0.0,0.0,0.0]       |\n",
      "|(74,[0,1,2,3,4,5,6,8,9,10,11,13,14,16,18,19,20,21,22,23,25,26,31,32,34,36,39,41,45,48,49,54,56,58,61,64,66,67,73],[70.0,9550.0,7.0,5.0,1915.0,1970.0,216.0,540.0,756.0,961.0,756.0,1717.0,1.0,1.0,3.0,1.0,7.0,1.0,3.0,642.0,35.0,272.0,2.0,2006.0,1.0,1.0,1.0,11.0,1.0,3.0,6.0,2.0,1.0,2.0,2.0,1.0,1.0,7.0,2.0])        |[70.0,9550.0,7.0,5.0,1915.0,1970.0,216.0,0.0,540.0,756.0,961.0,756.0,0.0,1717.0,1.0,0.0,1.0,0.0,3.0,1.0,7.0,1.0,3.0,642.0,0.0,35.0,272.0,0.0,0.0,0.0,0.0,2.0,2006.0,0.0,1.0,0.0,1.0,0.0,0.0,1.0,0.0,11.0,0.0,0.0,0.0,1.0,0.0,0.0,3.0,6.0,0.0,0.0,0.0,0.0,2.0,0.0,1.0,0.0,2.0,0.0,0.0,2.0,0.0,0.0,1.0,0.0,1.0,7.0,0.0,0.0,0.0,0.0,0.0,2.0]        |\n",
      "|(74,[0,1,2,3,4,5,6,8,9,10,11,13,14,16,17,18,19,20,21,22,23,24,25,31,32,34,36,39,41,45,50,51,52,55,57,58,64,67,68],[60.0,14260.0,8.0,5.0,2000.0,2000.0,655.0,490.0,1145.0,1145.0,1053.0,2198.0,1.0,2.0,1.0,4.0,1.0,9.0,1.0,3.0,836.0,192.0,84.0,12.0,2008.0,42.0,1.0,3.0,13.0,1.0,1.0,54.0,1.0,1.0,1.0,1.0,1.0,11.0,1.0])|[60.0,14260.0,8.0,5.0,2000.0,2000.0,655.0,0.0,490.0,1145.0,1145.0,1053.0,0.0,2198.0,1.0,0.0,2.0,1.0,4.0,1.0,9.0,1.0,3.0,836.0,192.0,84.0,0.0,0.0,0.0,0.0,0.0,12.0,2008.0,0.0,42.0,0.0,1.0,0.0,0.0,3.0,0.0,13.0,0.0,0.0,0.0,1.0,0.0,0.0,0.0,0.0,1.0,54.0,1.0,0.0,0.0,1.0,0.0,1.0,1.0,0.0,0.0,0.0,0.0,0.0,1.0,0.0,0.0,11.0,1.0,0.0,0.0,0.0,0.0,0.0]|\n",
      "+------------------------------------------------------------------------------------------------------------------------------------------------------------------------------------------------------------------------------------------------------------------------------------------------------------------------+-------------------------------------------------------------------------------------------------------------------------------------------------------------------------------------------------------------------------------------------------------------------------------------------------------------------------------------------------+\n",
      "only showing top 5 rows\n",
      "\n"
     ]
    }
   ],
   "source": [
    "from pyspark.sql import functions as F\n",
    "from pyspark.ml.linalg import Vectors, VectorUDT\n",
    "\n",
    "# Define a udf that converts sparse vector into dense vector\n",
    "# You cannot create your own custom function and run that against the data directly. \n",
    "# In Spark, You have to register the function first using udf function\n",
    "sparseToDense = F.udf(lambda v : Vectors.dense(v), VectorUDT())\n",
    "\n",
    "# We then call the function here passing the column name on which the function has to be applied\n",
    "densefeatureDF = assembledDF.withColumn('features_array', sparseToDense('features'))\n",
    "\n",
    "densefeatureDF.select(\"features\", \"features_array\").show(5, False)"
   ]
  },
  {
   "cell_type": "code",
   "execution_count": 42,
   "metadata": {
    "colab": {
     "base_uri": "https://localhost:8080/"
    },
    "id": "V4p8GK8r2Vbz",
    "outputId": "57bfe7ac-c438-461b-9b14-63331679d2a7"
   },
   "outputs": [
    {
     "name": "stdout",
     "output_type": "stream",
     "text": [
      "root\n",
      " |-- MSSubClass: integer (nullable = true)\n",
      " |-- LotArea: integer (nullable = true)\n",
      " |-- OverallQual: integer (nullable = true)\n",
      " |-- OverallCond: integer (nullable = true)\n",
      " |-- YearBuilt: integer (nullable = true)\n",
      " |-- YearRemodAdd: integer (nullable = true)\n",
      " |-- BsmtFinSF1: integer (nullable = true)\n",
      " |-- BsmtFinSF2: integer (nullable = true)\n",
      " |-- BsmtUnfSF: integer (nullable = true)\n",
      " |-- TotalBsmtSF: integer (nullable = true)\n",
      " |-- 1stFlrSF: integer (nullable = true)\n",
      " |-- 2ndFlrSF: integer (nullable = true)\n",
      " |-- LowQualFinSF: integer (nullable = true)\n",
      " |-- GrLivArea: integer (nullable = true)\n",
      " |-- BsmtFullBath: integer (nullable = true)\n",
      " |-- BsmtHalfBath: integer (nullable = true)\n",
      " |-- FullBath: integer (nullable = true)\n",
      " |-- HalfBath: integer (nullable = true)\n",
      " |-- BedroomAbvGr: integer (nullable = true)\n",
      " |-- KitchenAbvGr: integer (nullable = true)\n",
      " |-- TotRmsAbvGrd: integer (nullable = true)\n",
      " |-- Fireplaces: integer (nullable = true)\n",
      " |-- GarageCars: integer (nullable = true)\n",
      " |-- GarageArea: integer (nullable = true)\n",
      " |-- WoodDeckSF: integer (nullable = true)\n",
      " |-- OpenPorchSF: integer (nullable = true)\n",
      " |-- EnclosedPorch: integer (nullable = true)\n",
      " |-- 3SsnPorch: integer (nullable = true)\n",
      " |-- ScreenPorch: integer (nullable = true)\n",
      " |-- PoolArea: integer (nullable = true)\n",
      " |-- MiscVal: integer (nullable = true)\n",
      " |-- MoSold: integer (nullable = true)\n",
      " |-- YrSold: integer (nullable = true)\n",
      " |-- SalePrice: integer (nullable = true)\n",
      " |-- MSZoning_index: double (nullable = false)\n",
      " |-- LotFrontage_index: double (nullable = false)\n",
      " |-- Street_index: double (nullable = false)\n",
      " |-- LotShape_index: double (nullable = false)\n",
      " |-- LandContour_index: double (nullable = false)\n",
      " |-- Utilities_index: double (nullable = false)\n",
      " |-- LotConfig_index: double (nullable = false)\n",
      " |-- LandSlope_index: double (nullable = false)\n",
      " |-- Neighborhood_index: double (nullable = false)\n",
      " |-- Condition1_index: double (nullable = false)\n",
      " |-- Condition2_index: double (nullable = false)\n",
      " |-- BldgType_index: double (nullable = false)\n",
      " |-- HouseStyle_index: double (nullable = false)\n",
      " |-- RoofStyle_index: double (nullable = false)\n",
      " |-- RoofMatl_index: double (nullable = false)\n",
      " |-- Exterior1st_index: double (nullable = false)\n",
      " |-- Exterior2nd_index: double (nullable = false)\n",
      " |-- MasVnrType_index: double (nullable = false)\n",
      " |-- MasVnrArea_index: double (nullable = false)\n",
      " |-- ExterQual_index: double (nullable = false)\n",
      " |-- ExterCond_index: double (nullable = false)\n",
      " |-- Foundation_index: double (nullable = false)\n",
      " |-- BsmtQual_index: double (nullable = false)\n",
      " |-- BsmtCond_index: double (nullable = false)\n",
      " |-- BsmtExposure_index: double (nullable = false)\n",
      " |-- BsmtFinType1_index: double (nullable = false)\n",
      " |-- BsmtFinType2_index: double (nullable = false)\n",
      " |-- Heating_index: double (nullable = false)\n",
      " |-- HeatingQC_index: double (nullable = false)\n",
      " |-- CentralAir_index: double (nullable = false)\n",
      " |-- Electrical_index: double (nullable = false)\n",
      " |-- KitchenQual_index: double (nullable = false)\n",
      " |-- Functional_index: double (nullable = false)\n",
      " |-- GarageType_index: double (nullable = false)\n",
      " |-- GarageYrBlt_index: double (nullable = false)\n",
      " |-- GarageFinish_index: double (nullable = false)\n",
      " |-- GarageQual_index: double (nullable = false)\n",
      " |-- GarageCond_index: double (nullable = false)\n",
      " |-- PavedDrive_index: double (nullable = false)\n",
      " |-- SaleType_index: double (nullable = false)\n",
      " |-- SaleCondition_index: double (nullable = false)\n",
      " |-- features: vector (nullable = true)\n",
      " |-- features_array: vector (nullable = true)\n",
      "\n"
     ]
    }
   ],
   "source": [
    "densefeatureDF.printSchema()"
   ]
  },
  {
   "cell_type": "code",
   "execution_count": 43,
   "metadata": {
    "colab": {
     "base_uri": "https://localhost:8080/"
    },
    "id": "Uv2Os5tN3DJj",
    "outputId": "9de16eb3-ffe7-46d2-d9e3-0c63f34d9334"
   },
   "outputs": [
    {
     "name": "stdout",
     "output_type": "stream",
     "text": [
      "+--------------------------------------------------------------------------------------------------------------------------------------------------------------------------------------------------------------------------------------------------------------------------------------------------------------------------------------------------------------------------------------------------------------------------------------------------------------------------------------------------------------------------------------------------------------------------------------------------------------------------------------------------------------------------------------------------------------------------------------------------------------------------------------------------------------------------------------------------------------------------------------------------------+\n",
      "|scaledfeatures                                                                                                                                                                                                                                                                                                                                                                                                                                                                                                                                                                                                                                                                                                                                                                                                                                                                                          |\n",
      "+--------------------------------------------------------------------------------------------------------------------------------------------------------------------------------------------------------------------------------------------------------------------------------------------------------------------------------------------------------------------------------------------------------------------------------------------------------------------------------------------------------------------------------------------------------------------------------------------------------------------------------------------------------------------------------------------------------------------------------------------------------------------------------------------------------------------------------------------------------------------------------------------------------+\n",
      "|[1.4184205695185388,0.8465860847544746,5.061473231073745,4.493173059188071,66.31812613713576,97.01915872406263,1.5479126402356083,0.0,0.33946869799468893,1.9511958307200363,2.214245087900463,1.9563444893714106,0.0,3.2541652437343784,1.9271142047671543,0.0,3.6303188169538245,1.988524696873785,3.67747087769085,4.538477700798321,4.921885703813485,0.0,2.6762475969840933,2.56308508392449,0.0,0.9206709508408691,0.0,0.0,0.0,0.0,0.0,0.7397472305217617,1511.9398971703445,0.0,0.2562600633826571,0.0,0.0,0.0,0.0,0.0,0.0,0.16750303009863066,0.0,0.0,0.0,0.8071033223133111,0.0,0.0,0.0,0.0,1.3459097028918474,0.2573729046032694,1.6336461966291154,0.0,0.0,1.1265722654989156,0.0,0.0,0.6109462864168855,0.0,0.0,0.0,0.0,0.0,1.368983287916253,0.0,0.0,0.1768570461696117,1.069588400814527,0.0,0.0,0.0,0.0,0.0]                                                                             |\n",
      "|[0.4728068565061796,0.9618019424429534,4.338405626634639,7.189076894700913,65.42417236494272,95.71136177670883,2.1442755837824716,0.0,0.642727401536611,2.8766461896830444,3.2644594637037203,0.0,0.0,2.4016120102881784,0.0,4.188435251228755,3.6303188169538245,0.0,3.67747087769085,4.538477700798321,3.691414277860114,1.5511899196736965,2.6762475969840933,2.1514947784767617,2.377555979705343,0.0,0.0,0.0,0.0,0.0,0.0,1.8493680763044043,1511.1869390542238,0.0,0.12813003169132856,0.0,0.0,0.0,0.0,3.87873553186922,0.0,3.6850666621698744,0.9591610363922396,0.0,0.0,0.0,0.0,0.0,0.8849013849919529,0.40242944406660314,0.0,0.0,0.0,0.0,1.2961529832115843,1.1265722654989156,0.0,1.8371316318393534,1.221892572833771,0.0,0.0,0.0,0.0,0.0,0.0,0.0,0.0,0.39792835388162634,1.069588400814527,0.0,0.0,0.0,0.0,0.0]                                                                             |\n",
      "|[1.4184205695185388,1.127111651300336,5.061473231073745,4.493173059188071,66.25190733919554,96.97072180008658,1.0655602594256455,0.0,0.9821960995312999,2.0970796311477025,2.3797961225098434,1.9838341074890415,0.0,3.3987948101225727,1.9271142047671543,0.0,3.6303188169538245,1.988524696873785,3.67747087769085,4.538477700798321,3.691414277860114,1.5511899196736965,2.6762475969840933,2.84371483763885,0.0,0.6339045891035492,0.0,0.0,0.0,0.0,0.0,3.328862537347928,1511.9398971703445,0.0,0.5552301373290904,0.0,1.7173392246097685,0.0,0.0,0.0,0.0,0.16750303009863066,0.0,0.0,0.0,0.8071033223133111,0.0,0.0,0.0,0.0,1.3459097028918474,0.9927240606126104,1.6336461966291154,0.0,0.0,1.1265722654989156,0.0,2.75569744775903,0.6109462864168855,0.0,0.0,0.0,0.0,0.0,1.368983287916253,0.0,0.0,1.0611422770176702,1.069588400814527,0.0,0.0,0.0,0.0,0.0]                                    |\n",
      "|[1.6548239977716286,0.956792557326063,5.061473231073745,4.493173059188071,63.404499027765844,95.42074023285242,0.47358233752250906,0.0,1.2220873127808802,1.7232523925518077,2.485852254056478,1.731845941410757,0.0,3.2674863880069753,1.9271142047671543,0.0,1.8151594084769123,0.0,3.67747087769085,4.538477700798321,4.3066499908367994,1.5511899196736965,4.0143713954761395,3.0027383647436543,0.0,0.5282538242529576,4.450323772872502,0.0,0.0,0.0,0.0,0.7397472305217617,1510.433980938103,0.0,0.042710010563776185,0.0,1.7173392246097685,0.0,0.0,1.2929118439564067,0.0,1.8425333310849372,0.0,0.0,0.0,0.8071033223133111,0.0,0.0,1.3273520774879293,2.4145766643996187,0.0,0.0,0.0,0.0,2.5923059664231687,0.0,1.6161650122208342,0.0,1.221892572833771,0.0,0.0,2.3267872614280685,0.0,0.0,1.368983287916253,0.0,0.9616111757271237,0.3094998307968205,0.0,0.0,0.0,0.0,0.0,2.6062134883096015]|\n",
      "|[1.4184205695185388,1.428676635337137,5.784540835512852,4.493173059188071,66.21879794022541,96.87384795213444,1.4360945883205714,0.0,1.1089310801159837,2.609952367026217,2.9618114785584466,2.4122139898221255,0.0,4.1828393015954175,1.9271142047671543,0.0,3.6303188169538245,1.988524696873785,4.9032945035878,4.538477700798321,5.537121416790171,1.5511899196736965,4.0143713954761395,3.910107901753419,1.5318481479980735,1.2678091782070984,0.0,0.0,0.0,0.0,0.0,4.438483383130571,1511.9398971703445,0.0,1.7938204436785998,0.0,1.7173392246097685,0.0,0.0,3.87873553186922,0.0,2.1775393912821985,0.0,0.0,0.0,0.8071033223133111,0.0,0.0,0.0,0.0,1.3459097028918474,0.661816040408407,1.6336461966291154,0.0,0.0,1.1265722654989156,0.0,0.9185658159196767,0.6109462864168855,0.0,0.0,0.0,0.0,0.0,1.368983287916253,0.0,0.0,0.4863568769664322,1.069588400814527,0.0,0.0,0.0,0.0,0.0]         |\n",
      "+--------------------------------------------------------------------------------------------------------------------------------------------------------------------------------------------------------------------------------------------------------------------------------------------------------------------------------------------------------------------------------------------------------------------------------------------------------------------------------------------------------------------------------------------------------------------------------------------------------------------------------------------------------------------------------------------------------------------------------------------------------------------------------------------------------------------------------------------------------------------------------------------------------+\n",
      "only showing top 5 rows\n",
      "\n"
     ]
    }
   ],
   "source": [
    "# Import StandardScaler from pyspark.ml.feature package\n",
    "from pyspark.ml.feature import StandardScaler\n",
    "\n",
    "# Create the StandardScaler object. It only take feature column (dense vector)\n",
    "stdscaler = StandardScaler(inputCol= \"features_array\", outputCol= \"scaledfeatures\")\n",
    "\n",
    "# Fit the StandardScaler object on the output of the dense vector data and transform\n",
    "stdscaledDF = stdscaler.fit(densefeatureDF).transform(densefeatureDF)\n",
    "stdscaledDF.select(\"scaledfeatures\" ).show(5, False)"
   ]
  },
  {
   "cell_type": "code",
   "execution_count": 44,
   "metadata": {
    "colab": {
     "base_uri": "https://localhost:8080/"
    },
    "id": "GMrbFywz3Tci",
    "outputId": "dd4a5ecf-a802-43f4-a7be-47f88f20f315"
   },
   "outputs": [
    {
     "name": "stdout",
     "output_type": "stream",
     "text": [
      "Observations in training set =  1053\n",
      "Observations in testing set =  407\n"
     ]
    }
   ],
   "source": [
    "# We spilt the data into 70-30 set\n",
    "# Training Set - 70% obesevations\n",
    "# Testing Set - 30% observations\n",
    "trainDF, testDF =  stdscaledDF.randomSplit([0.7,0.3], seed = 2020)\n",
    "\n",
    "# print the count of observations in each set\n",
    "print(\"Observations in training set = \", trainDF.count())\n",
    "print(\"Observations in testing set = \", testDF.count())"
   ]
  },
  {
   "cell_type": "code",
   "execution_count": 45,
   "metadata": {
    "id": "QWW-wXjr4BL2"
   },
   "outputs": [],
   "source": [
    "# # import the LinearRegression function from the pyspark.ml.classification package\n",
    "# from pyspark.ml.regression import LinearRegression\n",
    "\n",
    "# # Build the LinearRegression object 'lr' by setting the required parameters\n",
    "# #lr = LinearRegression(featuresCol=\"features\", labelCol=\"SalePrice\")\n",
    "# lr = LinearRegression(featuresCol = 'features', labelCol='SalePrice', maxIter=10, \n",
    "#                       regParam=0.8, elasticNetParam=0)\n",
    "\n",
    "# # fit the LinearRegression object on the training data\n",
    "# lrmodel = lr.fit(trainDF)\n",
    "\n",
    "# #This LinearRegressionModel can be used as a transformer to perform prediction on the testing data\n",
    "# predictonDF = lrmodel.transform(testDF)\n",
    "\n",
    "# predictonDF.select(\"SalePrice\").show(10,False)"
   ]
  },
  {
   "cell_type": "code",
   "execution_count": 46,
   "metadata": {
    "colab": {
     "base_uri": "https://localhost:8080/"
    },
    "id": "g7YSj5T84xnN",
    "outputId": "cabb2fd7-93ec-4fe6-afcc-a885e01e66f4"
   },
   "outputs": [
    {
     "name": "stdout",
     "output_type": "stream",
     "text": [
      "RMSE: 33317.632146\n",
      "r2: 0.823316\n",
      "+------------------+---------+--------------------+\n",
      "|        prediction|SalePrice|            features|\n",
      "+------------------+---------+--------------------+\n",
      "| 80129.05249372567|   115000|(74,[0,1,2,3,4,5,...|\n",
      "|  70431.5449722358|   109500|(74,[0,1,2,3,4,5,...|\n",
      "| 141641.4093154124|   138000|(74,[0,1,2,3,4,5,...|\n",
      "| 66087.39795058127|    72500|(74,[0,1,2,3,4,5,...|\n",
      "|205291.46612472436|   193879|(74,[0,1,2,3,4,5,...|\n",
      "+------------------+---------+--------------------+\n",
      "only showing top 5 rows\n",
      "\n",
      "R Squared (R2) on val data = 0.857565\n"
     ]
    }
   ],
   "source": [
    "\n",
    "from pyspark.ml.regression import LinearRegression\n",
    "\n",
    "lr = LinearRegression(featuresCol = 'features', labelCol='SalePrice', maxIter=10, \n",
    "                      regParam=0.8, elasticNetParam=0.1)\n",
    "lr_model = lr.fit(trainDF)\n",
    "\n",
    "trainingSummary = lr_model.summary\n",
    "print(\"RMSE: %f\" % trainingSummary.rootMeanSquaredError)\n",
    "print(\"r2: %f\" % trainingSummary.r2)\n",
    "\n",
    "lr_predictions = lr_model.transform(testDF)\n",
    "lr_predictions.select(\"prediction\",\"SalePrice\",\"features\").show(5)\n",
    "\n",
    "from pyspark.ml.evaluation import RegressionEvaluator\n",
    "lr_evaluator = RegressionEvaluator(predictionCol=\"prediction\", \\\n",
    "                 labelCol=\"SalePrice\",metricName=\"r2\")\n",
    "print(\"R Squared (R2) on val data = %g\" % lr_evaluator.evaluate(lr_predictions))"
   ]
  },
  {
   "cell_type": "code",
   "execution_count": 47,
   "metadata": {
    "colab": {
     "base_uri": "https://localhost:8080/"
    },
    "id": "c1-UWuy6A9Cw",
    "outputId": "1b08fb0f-df22-49d9-8594-07c95844d14a"
   },
   "outputs": [
    {
     "name": "stdout",
     "output_type": "stream",
     "text": [
      "root\n",
      " |-- Id: integer (nullable = true)\n",
      " |-- MSSubClass: integer (nullable = true)\n",
      " |-- MSZoning: string (nullable = true)\n",
      " |-- LotFrontage: string (nullable = true)\n",
      " |-- LotArea: integer (nullable = true)\n",
      " |-- Street: string (nullable = true)\n",
      " |-- Alley: string (nullable = true)\n",
      " |-- LotShape: string (nullable = true)\n",
      " |-- LandContour: string (nullable = true)\n",
      " |-- Utilities: string (nullable = true)\n",
      " |-- LotConfig: string (nullable = true)\n",
      " |-- LandSlope: string (nullable = true)\n",
      " |-- Neighborhood: string (nullable = true)\n",
      " |-- Condition1: string (nullable = true)\n",
      " |-- Condition2: string (nullable = true)\n",
      " |-- BldgType: string (nullable = true)\n",
      " |-- HouseStyle: string (nullable = true)\n",
      " |-- OverallQual: integer (nullable = true)\n",
      " |-- OverallCond: integer (nullable = true)\n",
      " |-- YearBuilt: integer (nullable = true)\n",
      " |-- YearRemodAdd: integer (nullable = true)\n",
      " |-- RoofStyle: string (nullable = true)\n",
      " |-- RoofMatl: string (nullable = true)\n",
      " |-- Exterior1st: string (nullable = true)\n",
      " |-- Exterior2nd: string (nullable = true)\n",
      " |-- MasVnrType: string (nullable = true)\n",
      " |-- MasVnrArea: string (nullable = true)\n",
      " |-- ExterQual: string (nullable = true)\n",
      " |-- ExterCond: string (nullable = true)\n",
      " |-- Foundation: string (nullable = true)\n",
      " |-- BsmtQual: string (nullable = true)\n",
      " |-- BsmtCond: string (nullable = true)\n",
      " |-- BsmtExposure: string (nullable = true)\n",
      " |-- BsmtFinType1: string (nullable = true)\n",
      " |-- BsmtFinSF1: string (nullable = true)\n",
      " |-- BsmtFinType2: string (nullable = true)\n",
      " |-- BsmtFinSF2: string (nullable = true)\n",
      " |-- BsmtUnfSF: string (nullable = true)\n",
      " |-- TotalBsmtSF: string (nullable = true)\n",
      " |-- Heating: string (nullable = true)\n",
      " |-- HeatingQC: string (nullable = true)\n",
      " |-- CentralAir: string (nullable = true)\n",
      " |-- Electrical: string (nullable = true)\n",
      " |-- 1stFlrSF: integer (nullable = true)\n",
      " |-- 2ndFlrSF: integer (nullable = true)\n",
      " |-- LowQualFinSF: integer (nullable = true)\n",
      " |-- GrLivArea: integer (nullable = true)\n",
      " |-- BsmtFullBath: string (nullable = true)\n",
      " |-- BsmtHalfBath: string (nullable = true)\n",
      " |-- FullBath: integer (nullable = true)\n",
      " |-- HalfBath: integer (nullable = true)\n",
      " |-- BedroomAbvGr: integer (nullable = true)\n",
      " |-- KitchenAbvGr: integer (nullable = true)\n",
      " |-- KitchenQual: string (nullable = true)\n",
      " |-- TotRmsAbvGrd: integer (nullable = true)\n",
      " |-- Functional: string (nullable = true)\n",
      " |-- Fireplaces: integer (nullable = true)\n",
      " |-- FireplaceQu: string (nullable = true)\n",
      " |-- GarageType: string (nullable = true)\n",
      " |-- GarageYrBlt: string (nullable = true)\n",
      " |-- GarageFinish: string (nullable = true)\n",
      " |-- GarageCars: string (nullable = true)\n",
      " |-- GarageArea: string (nullable = true)\n",
      " |-- GarageQual: string (nullable = true)\n",
      " |-- GarageCond: string (nullable = true)\n",
      " |-- PavedDrive: string (nullable = true)\n",
      " |-- WoodDeckSF: integer (nullable = true)\n",
      " |-- OpenPorchSF: integer (nullable = true)\n",
      " |-- EnclosedPorch: integer (nullable = true)\n",
      " |-- 3SsnPorch: integer (nullable = true)\n",
      " |-- ScreenPorch: integer (nullable = true)\n",
      " |-- PoolArea: integer (nullable = true)\n",
      " |-- PoolQC: string (nullable = true)\n",
      " |-- Fence: string (nullable = true)\n",
      " |-- MiscFeature: string (nullable = true)\n",
      " |-- MiscVal: integer (nullable = true)\n",
      " |-- MoSold: integer (nullable = true)\n",
      " |-- YrSold: integer (nullable = true)\n",
      " |-- SaleType: string (nullable = true)\n",
      " |-- SaleCondition: string (nullable = true)\n",
      "\n"
     ]
    }
   ],
   "source": [
    "test_df.printSchema()"
   ]
  },
  {
   "cell_type": "code",
   "execution_count": 48,
   "metadata": {
    "id": "0FUbVcWhBss7"
   },
   "outputs": [],
   "source": [
    "from pyspark.sql.types import IntegerType\n",
    "df3_test = test_df\n",
    "df4_test = df3_test \\\n",
    "  .withColumn(\"BsmtFinSF1\" ,\n",
    "              df3_test[\"BsmtFinSF1\"]\n",
    "              .cast(IntegerType()))   \\\n",
    "  .withColumn(\"BsmtFinSF2\",\n",
    "              df3_test[\"BsmtFinSF2\"]\n",
    "              .cast(IntegerType()))    \\\n",
    "  .withColumn(\"BsmtUnfSF\" ,\n",
    "              df3_test[\"BsmtUnfSF\"]\n",
    "              .cast(IntegerType())) \\\n",
    "  .withColumn(\"TotalBsmtSF\" ,\n",
    "              df3_test[\"TotalBsmtSF\"]\n",
    "              .cast(IntegerType())) \\\n",
    "  .withColumn(\"BsmtFullBath\" ,\n",
    "              df3_test[\"BsmtFullBath\"]\n",
    "              .cast(IntegerType())) \\\n",
    "  .withColumn(\"BsmtHalfBath\" ,\n",
    "              df3_test[\"BsmtHalfBath\"]\n",
    "              .cast(IntegerType())) \\\n",
    "  .withColumn(\"GarageCars\" ,\n",
    "              df3_test[\"GarageCars\"]\n",
    "              .cast(IntegerType())) \\\n",
    "  .withColumn(\"GarageArea\" ,\n",
    "              df3_test[\"GarageArea\"]\n",
    "              .cast(IntegerType())) "
   ]
  },
  {
   "cell_type": "code",
   "execution_count": 49,
   "metadata": {
    "colab": {
     "base_uri": "https://localhost:8080/"
    },
    "id": "rOG58bEU7QwD",
    "outputId": "4a958142-d420-47d1-cace-64ddd7c4d269"
   },
   "outputs": [
    {
     "name": "stdout",
     "output_type": "stream",
     "text": [
      "+----------+-------+-----------+-----------+---------+------------+----------+----------+---------+-----------+--------+--------+------------+---------+------------+------------+--------+--------+------------+------------+------------+----------+----------+----------+----------+-----------+-------------+---------+-----------+--------+-------+------+------+--------------+-----------------+------------+--------------+-----------------+---------------+---------------+---------------+------------------+----------------+----------------+--------------+----------------+---------------+--------------+-----------------+-----------------+----------------+----------------+---------------+---------------+----------------+--------------+--------------+------------------+------------------+------------------+-------------+---------------+----------------+----------------+-----------------+----------------+----------------+-----------------+------------------+----------------+----------------+----------------+--------------+-------------------+\n",
      "|MSSubClass|LotArea|OverallQual|OverallCond|YearBuilt|YearRemodAdd|BsmtFinSF1|BsmtFinSF2|BsmtUnfSF|TotalBsmtSF|1stFlrSF|2ndFlrSF|LowQualFinSF|GrLivArea|BsmtFullBath|BsmtHalfBath|FullBath|HalfBath|BedroomAbvGr|KitchenAbvGr|TotRmsAbvGrd|Fireplaces|GarageCars|GarageArea|WoodDeckSF|OpenPorchSF|EnclosedPorch|3SsnPorch|ScreenPorch|PoolArea|MiscVal|MoSold|YrSold|MSZoning_index|LotFrontage_index|Street_index|LotShape_index|LandContour_index|Utilities_index|LotConfig_index|LandSlope_index|Neighborhood_index|Condition1_index|Condition2_index|BldgType_index|HouseStyle_index|RoofStyle_index|RoofMatl_index|Exterior1st_index|Exterior2nd_index|MasVnrType_index|MasVnrArea_index|ExterQual_index|ExterCond_index|Foundation_index|BsmtQual_index|BsmtCond_index|BsmtExposure_index|BsmtFinType1_index|BsmtFinType2_index|Heating_index|HeatingQC_index|CentralAir_index|Electrical_index|KitchenQual_index|Functional_index|GarageType_index|GarageYrBlt_index|GarageFinish_index|GarageQual_index|GarageCond_index|PavedDrive_index|SaleType_index|SaleCondition_index|\n",
      "+----------+-------+-----------+-----------+---------+------------+----------+----------+---------+-----------+--------+--------+------------+---------+------------+------------+--------+--------+------------+------------+------------+----------+----------+----------+----------+-----------+-------------+---------+-----------+--------+-------+------+------+--------------+-----------------+------------+--------------+-----------------+---------------+---------------+---------------+------------------+----------------+----------------+--------------+----------------+---------------+--------------+-----------------+-----------------+----------------+----------------+---------------+---------------+----------------+--------------+--------------+------------------+------------------+------------------+-------------+---------------+----------------+----------------+-----------------+----------------+----------------+-----------------+------------------+----------------+----------------+----------------+--------------+-------------------+\n",
      "|        20|  11622|          5|          6|     1961|        1961|       468|       144|      270|        882|     896|       0|           0|      896|           0|           0|       1|       0|           2|           1|           5|         0|         1|       730|       140|          0|            0|        0|        120|       0|      0|     6|  2010|           4.0|              2.0|         0.0|           0.0|              0.0|            0.0|            0.0|            0.0|               0.0|             1.0|             0.0|           0.0|             0.0|            0.0|           0.0|              0.0|              0.0|             0.0|             0.0|            0.0|            0.0|             1.0|           0.0|           0.0|               0.0|               3.0|               3.0|          0.0|            1.0|             0.0|             0.0|              0.0|             0.0|             0.0|             31.0|               0.0|             0.0|             0.0|             0.0|           0.0|                0.0|\n",
      "|        20|  14267|          6|          6|     1958|        1958|       923|         0|      406|       1329|    1329|       0|           0|     1329|           0|           0|       1|       1|           3|           1|           6|         0|         1|       312|       393|         36|            0|        0|          0|       0|  12500|     6|  2010|           0.0|             28.0|         0.0|           1.0|              0.0|            0.0|            1.0|            0.0|               0.0|             0.0|             0.0|           0.0|             0.0|            1.0|           0.0|              3.0|              3.0|             1.0|            40.0|            0.0|            0.0|             1.0|           0.0|           0.0|               0.0|               2.0|               0.0|          0.0|            1.0|             0.0|             0.0|              1.0|             0.0|             0.0|             18.0|               0.0|             0.0|             0.0|             0.0|           0.0|                0.0|\n",
      "|        60|  13830|          5|          5|     1997|        1998|       791|         0|      137|        928|     928|     701|           0|     1629|           0|           0|       2|       1|           3|           1|           6|         1|         2|       482|       212|         34|            0|        0|          0|       0|      0|     3|  2010|           0.0|             13.0|         0.0|           1.0|              0.0|            0.0|            0.0|            0.0|               6.0|             0.0|             0.0|           0.0|             1.0|            0.0|           0.0|              0.0|              0.0|             0.0|             0.0|            0.0|            0.0|             0.0|           1.0|           0.0|               0.0|               0.0|               0.0|          0.0|            2.0|             0.0|             0.0|              0.0|             0.0|             0.0|             14.0|               2.0|             0.0|             0.0|             0.0|           0.0|                0.0|\n",
      "|        60|   9978|          6|          6|     1998|        1998|       602|         0|      324|        926|     926|     678|           0|     1604|           0|           0|       2|       1|           3|           1|           7|         1|         2|       470|       360|         36|            0|        0|          0|       0|      0|     6|  2010|           0.0|             17.0|         0.0|           1.0|              0.0|            0.0|            0.0|            0.0|               6.0|             0.0|             0.0|           0.0|             1.0|            0.0|           0.0|              0.0|              0.0|             1.0|            28.0|            0.0|            0.0|             0.0|           0.0|           0.0|               0.0|               0.0|               0.0|          0.0|            0.0|             0.0|             0.0|              1.0|             0.0|             0.0|             11.0|               2.0|             0.0|             0.0|             0.0|           0.0|                0.0|\n",
      "|       120|   5005|          8|          5|     1992|        1992|       263|         0|     1017|       1280|    1280|       0|           0|     1280|           0|           0|       2|       0|           2|           1|           5|         0|         2|       506|         0|         82|            0|        0|        144|       0|      0|     1|  2010|           0.0|             30.0|         0.0|           1.0|              1.0|            0.0|            0.0|            0.0|              16.0|             0.0|             0.0|           1.0|             0.0|            0.0|           0.0|              2.0|              2.0|             0.0|             0.0|            1.0|            0.0|             0.0|           1.0|           0.0|               0.0|               2.0|               0.0|          0.0|            0.0|             0.0|             0.0|              1.0|             0.0|             0.0|             42.0|               1.0|             0.0|             0.0|             0.0|           0.0|                0.0|\n",
      "|        60|  10000|          6|          5|     1993|        1994|         0|         0|      763|        763|     763|     892|           0|     1655|           0|           0|       2|       1|           3|           1|           7|         1|         2|       440|       157|         84|            0|        0|          0|       0|      0|     4|  2010|           0.0|              5.0|         0.0|           1.0|              0.0|            0.0|            1.0|            0.0|               6.0|             0.0|             0.0|           0.0|             1.0|            0.0|           0.0|              2.0|              2.0|             0.0|             0.0|            0.0|            0.0|             0.0|           1.0|           0.0|               0.0|               1.0|               0.0|          0.0|            2.0|             0.0|             0.0|              0.0|             0.0|             0.0|             10.0|               2.0|             0.0|             0.0|             0.0|           0.0|                0.0|\n",
      "|        20|   7980|          6|          7|     1992|        2007|       935|         0|      233|       1168|    1187|       0|           0|     1187|           1|           0|       2|       0|           3|           1|           6|         0|         2|       420|       483|         21|            0|        0|          0|       0|    500|     3|  2010|           0.0|              0.0|         0.0|           1.0|              0.0|            0.0|            0.0|            0.0|               6.0|             0.0|             0.0|           0.0|             0.0|            0.0|           0.0|              2.0|              2.0|             0.0|             0.0|            0.0|            1.0|             0.0|           1.0|           0.0|               0.0|               2.0|               0.0|          0.0|            0.0|             0.0|             0.0|              0.0|             0.0|             0.0|             42.0|               2.0|             0.0|             0.0|             0.0|           0.0|                0.0|\n",
      "|        60|   8402|          6|          5|     1998|        1998|         0|         0|      789|        789|     789|     676|           0|     1465|           0|           0|       2|       1|           3|           1|           7|         1|         2|       393|         0|         75|            0|        0|          0|       0|      0|     5|  2010|           0.0|              9.0|         0.0|           1.0|              0.0|            0.0|            0.0|            0.0|               6.0|             0.0|             0.0|           0.0|             1.0|            0.0|           0.0|              0.0|              0.0|             0.0|             0.0|            0.0|            0.0|             0.0|           1.0|           0.0|               0.0|               1.0|               0.0|          0.0|            2.0|             0.0|             0.0|              0.0|             0.0|             0.0|             11.0|               2.0|             0.0|             0.0|             0.0|           0.0|                0.0|\n",
      "|        20|  10176|          7|          5|     1990|        1990|       637|         0|      663|       1300|    1341|       0|           0|     1341|           1|           0|       1|       1|           2|           1|           5|         1|         2|       506|       192|          0|            0|        0|          0|       0|      0|     2|  2010|           0.0|              7.0|         0.0|           0.0|              0.0|            0.0|            0.0|            0.0|               6.0|             0.0|             0.0|           0.0|             0.0|            0.0|           0.0|              2.0|              2.0|             0.0|             0.0|            0.0|            0.0|             0.0|           1.0|           0.0|               2.0|               0.0|               0.0|          0.0|            2.0|             0.0|             0.0|              1.0|             0.0|             0.0|             54.0|               0.0|             0.0|             0.0|             0.0|           0.0|                0.0|\n",
      "|        20|   8400|          4|          5|     1970|        1970|       804|        78|        0|        882|     882|       0|           0|      882|           1|           0|       1|       0|           2|           1|           4|         0|         2|       525|       240|          0|            0|        0|          0|       0|      0|     4|  2010|           0.0|              3.0|         0.0|           0.0|              0.0|            0.0|            1.0|            0.0|               0.0|             0.0|             0.0|           0.0|             0.0|            0.0|           0.0|              4.0|              4.0|             0.0|             0.0|            0.0|            0.0|             1.0|           0.0|           0.0|               0.0|               2.0|               1.0|          0.0|            1.0|             0.0|             0.0|              0.0|             0.0|             0.0|             47.0|               2.0|             0.0|             0.0|             0.0|           0.0|                0.0|\n",
      "|       120|   5858|          7|          5|     1999|        1999|      1051|         0|      354|       1405|    1337|       0|           0|     1337|           1|           0|       2|       0|           2|           1|           5|         1|         2|       511|       203|         68|            0|        0|          0|       0|      0|     6|  2010|           4.0|             75.0|         0.0|           1.0|              0.0|            0.0|            3.0|            0.0|               0.0|             0.0|             0.0|           1.0|             0.0|            0.0|           0.0|              1.0|              1.0|             0.0|             0.0|            1.0|            0.0|             0.0|           1.0|           0.0|               0.0|               0.0|               4.0|          0.0|            0.0|             0.0|             0.0|              1.0|             0.0|             0.0|             15.0|               2.0|             0.0|             0.0|             0.0|           0.0|                0.0|\n",
      "|       160|   1680|          6|          5|     1971|        1971|       156|         0|      327|        483|     483|     504|           0|      987|           0|           0|       1|       1|           2|           1|           5|         0|         1|       264|       275|          0|            0|        0|          0|       0|      0|     2|  2010|           1.0|             10.0|         0.0|           0.0|              0.0|            0.0|            0.0|            0.0|              20.0|             0.0|             0.0|           3.0|             1.0|            0.0|           0.0|              2.0|              2.0|             1.0|            10.0|            0.0|            0.0|             1.0|           0.0|           0.0|               0.0|               3.0|               0.0|          0.0|            1.0|             0.0|             0.0|              0.0|             0.0|             1.0|             52.0|               0.0|             0.0|             0.0|             0.0|           2.0|                0.0|\n",
      "|       160|   1680|          5|          5|     1971|        1971|       300|         0|      225|        525|     525|     567|           0|     1092|           0|           0|       1|       1|           3|           1|           6|         0|         1|       320|         0|          0|            0|        0|          0|       0|      0|     3|  2010|           1.0|             10.0|         0.0|           0.0|              0.0|            0.0|            0.0|            0.0|              20.0|             0.0|             0.0|           3.0|             1.0|            0.0|           0.0|              2.0|              2.0|             1.0|           110.0|            0.0|            0.0|             1.0|           0.0|           0.0|               0.0|               3.0|               0.0|          0.0|            1.0|             0.0|             0.0|              0.0|             0.0|             1.0|             14.0|               0.0|             0.0|             0.0|             0.0|           0.0|                0.0|\n",
      "|       160|   2280|          6|          6|     1975|        1975|       514|         0|      341|        855|     855|     601|           0|     1456|           0|           0|       2|       1|           3|           1|           6|         1|         2|       440|       173|          0|            0|        0|          0|       0|      0|     6|  2010|           0.0|              8.0|         0.0|           0.0|              0.0|            0.0|            3.0|            0.0|              21.0|             0.0|             0.0|           3.0|             1.0|            0.0|           0.0|              4.0|             10.0|             0.0|             0.0|            0.0|            0.0|             1.0|           0.0|           0.0|               0.0|               2.0|               0.0|          0.0|            1.0|             0.0|             0.0|              1.0|             0.0|             0.0|             28.0|               0.0|             0.0|             0.0|             0.0|           0.0|                0.0|\n",
      "|       120|   2280|          7|          6|     1975|        1975|         0|         0|      836|        836|     836|       0|           0|      836|           0|           0|       1|       0|           2|           1|           4|         0|         1|       308|         0|         30|            0|        0|          0|       0|      0|     6|  2010|           0.0|              8.0|         0.0|           0.0|              0.0|            0.0|            3.0|            0.0|              21.0|             0.0|             0.0|           3.0|             0.0|            0.0|           0.0|              4.0|             10.0|             0.0|             0.0|            0.0|            0.0|             1.0|           1.0|           0.0|               0.0|               1.0|               0.0|          0.0|            0.0|             0.0|             0.0|              0.0|             0.0|             0.0|             28.0|               0.0|             0.0|             0.0|             0.0|           0.0|                0.0|\n",
      "|        60|  12858|          9|          5|     2009|        2010|         0|         0|     1590|       1590|    1627|     707|           0|     2334|           0|           0|       2|       1|           3|           1|          10|         1|         3|       751|       144|        133|            0|        0|          0|       0|      0|     1|  2010|           0.0|             51.0|         0.0|           1.0|              0.0|            0.0|            0.0|            0.0|               5.0|             0.0|             0.0|           0.0|             1.0|            0.0|           0.0|              0.0|              0.0|             2.0|            46.0|            2.0|            0.0|             0.0|           2.0|           0.0|               0.0|               1.0|               0.0|          0.0|            0.0|             0.0|             0.0|              2.0|             0.0|             0.0|             61.0|               2.0|             0.0|             0.0|             0.0|           1.0|                1.0|\n",
      "|        20|  12883|          8|          5|     2009|        2010|         0|         0|     1544|       1544|    1544|       0|           0|     1544|           0|           0|       2|       0|           3|           1|           7|         0|         3|       868|         0|         35|            0|        0|          0|       0|      0|     6|  2010|           0.0|             56.0|         0.0|           1.0|              0.0|            0.0|            1.0|            0.0|               5.0|             0.0|             0.0|           0.0|             0.0|            0.0|           0.0|              0.0|              0.0|             2.0|            16.0|            1.0|            0.0|             0.0|           1.0|           0.0|               0.0|               1.0|               0.0|          0.0|            0.0|             0.0|             0.0|              1.0|             0.0|             0.0|             61.0|               1.0|             0.0|             0.0|             0.0|           1.0|                1.0|\n",
      "|        20|  11520|          9|          5|     2005|        2005|       110|         0|     1588|       1698|    1698|       0|           0|     1698|           0|           0|       2|       0|           3|           1|           7|         1|         3|       730|       192|         74|            0|        0|          0|       0|      0|     6|  2010|           0.0|             14.0|         0.0|           0.0|              0.0|            0.0|            0.0|            0.0|               5.0|             4.0|             0.0|           0.0|             0.0|            1.0|           0.0|              0.0|              0.0|             1.0|           267.0|            1.0|            0.0|             0.0|           2.0|           0.0|               0.0|               0.0|               0.0|          0.0|            0.0|             0.0|             0.0|              2.0|             0.0|             0.0|              1.0|               2.0|             0.0|             0.0|             0.0|           0.0|                0.0|\n",
      "|        20|  14122|          8|          5|     2005|        2006|        28|         0|     1794|       1822|    1822|       0|           0|     1822|           0|           0|       2|       0|           3|           1|           8|         1|         3|       678|         0|        119|            0|        0|          0|       0|      0|     2|  2010|           0.0|             32.0|         0.0|           1.0|              0.0|            0.0|            0.0|            0.0|               5.0|             0.0|             0.0|           0.0|             0.0|            1.0|           0.0|              5.0|              5.0|             1.0|            31.0|            1.0|            0.0|             0.0|           2.0|           0.0|               0.0|               0.0|               0.0|          0.0|            0.0|             0.0|             0.0|              2.0|             0.0|             0.0|              1.0|               1.0|             0.0|             0.0|             0.0|           0.0|                0.0|\n",
      "|        20|  14300|          9|          5|     2003|        2004|      1373|         0|     1473|       2846|    2696|       0|           0|     2696|           1|           0|       2|       1|           3|           1|          10|         2|         3|       958|       220|        150|            0|        0|          0|       0|      0|     6|  2010|           0.0|             38.0|         0.0|           0.0|              1.0|            0.0|            0.0|            1.0|               5.0|             0.0|             0.0|           0.0|             0.0|            1.0|           0.0|              0.0|              0.0|             1.0|           130.0|            2.0|            0.0|             0.0|           2.0|           0.0|               2.0|               0.0|               0.0|          0.0|            0.0|             0.0|             0.0|              2.0|             0.0|             0.0|              5.0|               2.0|             0.0|             0.0|             0.0|           0.0|                0.0|\n",
      "+----------+-------+-----------+-----------+---------+------------+----------+----------+---------+-----------+--------+--------+------------+---------+------------+------------+--------+--------+------------+------------+------------+----------+----------+----------+----------+-----------+-------------+---------+-----------+--------+-------+------+------+--------------+-----------------+------------+--------------+-----------------+---------------+---------------+---------------+------------------+----------------+----------------+--------------+----------------+---------------+--------------+-----------------+-----------------+----------------+----------------+---------------+---------------+----------------+--------------+--------------+------------------+------------------+------------------+-------------+---------------+----------------+----------------+-----------------+----------------+----------------+-----------------+------------------+----------------+----------------+----------------+--------------+-------------------+\n",
      "only showing top 20 rows\n",
      "\n"
     ]
    }
   ],
   "source": [
    "t_df3 = df4_test.drop('Alley','PoolQC','Fence','MiscFeature','FireplaceQu')\n",
    "\n",
    "t_df5 = t_df3.drop('Id')\n",
    "\n",
    "test_string_columns = []\n",
    "\n",
    "for col, dtype in t_df5.dtypes:\n",
    "    if dtype == 'string':\n",
    "        test_string_columns.append(col)\n",
    "\n",
    "\n",
    "from pyspark.ml import Pipeline\n",
    "from pyspark.ml.feature import StringIndexer\n",
    "\n",
    "indexers = [StringIndexer(inputCol=column, outputCol=column+'_index', handleInvalid='keep').fit(t_df5) for column in test_string_columns]\n",
    "\n",
    "\n",
    "pipeline = Pipeline(stages=indexers)\n",
    "test_indexed = pipeline.fit(t_df5).transform(t_df5)\n",
    "\n",
    "\n",
    "t_df6= test_indexed.drop(*test_string_columns)\n",
    "t_df6.show()"
   ]
  },
  {
   "cell_type": "code",
   "execution_count": 50,
   "metadata": {
    "colab": {
     "base_uri": "https://localhost:8080/"
    },
    "id": "dxjUiVh2_YVW",
    "outputId": "b669a776-0a6e-4774-8479-b6deae283a00"
   },
   "outputs": [
    {
     "data": {
      "text/plain": [
       "['MSSubClass',\n",
       " 'LotArea',\n",
       " 'OverallQual',\n",
       " 'OverallCond',\n",
       " 'YearBuilt',\n",
       " 'YearRemodAdd',\n",
       " 'BsmtFinSF1',\n",
       " 'BsmtFinSF2',\n",
       " 'BsmtUnfSF',\n",
       " 'TotalBsmtSF',\n",
       " '1stFlrSF',\n",
       " '2ndFlrSF',\n",
       " 'LowQualFinSF',\n",
       " 'GrLivArea',\n",
       " 'BsmtFullBath',\n",
       " 'BsmtHalfBath',\n",
       " 'FullBath',\n",
       " 'HalfBath',\n",
       " 'BedroomAbvGr',\n",
       " 'KitchenAbvGr',\n",
       " 'TotRmsAbvGrd',\n",
       " 'Fireplaces',\n",
       " 'GarageCars',\n",
       " 'GarageArea',\n",
       " 'WoodDeckSF',\n",
       " 'OpenPorchSF',\n",
       " 'EnclosedPorch',\n",
       " '3SsnPorch',\n",
       " 'ScreenPorch',\n",
       " 'PoolArea',\n",
       " 'MiscVal',\n",
       " 'MoSold',\n",
       " 'YrSold',\n",
       " 'MSZoning_index',\n",
       " 'LotFrontage_index',\n",
       " 'Street_index',\n",
       " 'LotShape_index',\n",
       " 'LandContour_index',\n",
       " 'Utilities_index',\n",
       " 'LotConfig_index',\n",
       " 'LandSlope_index',\n",
       " 'Neighborhood_index',\n",
       " 'Condition1_index',\n",
       " 'Condition2_index',\n",
       " 'BldgType_index',\n",
       " 'HouseStyle_index',\n",
       " 'RoofStyle_index',\n",
       " 'RoofMatl_index',\n",
       " 'Exterior1st_index',\n",
       " 'Exterior2nd_index',\n",
       " 'MasVnrType_index',\n",
       " 'MasVnrArea_index',\n",
       " 'ExterQual_index',\n",
       " 'ExterCond_index',\n",
       " 'Foundation_index',\n",
       " 'BsmtQual_index',\n",
       " 'BsmtCond_index',\n",
       " 'BsmtExposure_index',\n",
       " 'BsmtFinType1_index',\n",
       " 'BsmtFinType2_index',\n",
       " 'Heating_index',\n",
       " 'HeatingQC_index',\n",
       " 'CentralAir_index',\n",
       " 'Electrical_index',\n",
       " 'KitchenQual_index',\n",
       " 'Functional_index',\n",
       " 'GarageType_index',\n",
       " 'GarageYrBlt_index',\n",
       " 'GarageFinish_index',\n",
       " 'GarageQual_index',\n",
       " 'GarageCond_index',\n",
       " 'PavedDrive_index',\n",
       " 'SaleType_index',\n",
       " 'SaleCondition_index']"
      ]
     },
     "execution_count": 50,
     "metadata": {},
     "output_type": "execute_result"
    }
   ],
   "source": [
    "t_df6.columns"
   ]
  },
  {
   "cell_type": "code",
   "execution_count": 51,
   "metadata": {
    "colab": {
     "base_uri": "https://localhost:8080/"
    },
    "id": "ZynDDCIE_Iw5",
    "outputId": "983619b4-d9e7-45d6-d40d-9310111b5dff"
   },
   "outputs": [
    {
     "name": "stdout",
     "output_type": "stream",
     "text": [
      "+-----------------+------------+--------------+-----------------+----------------+-------------+-------------+--------------+\n",
      "|LotFrontage_index|Street_index|LotShape_index|LandContour_index|LotFrontageVec  |StreetVec    |LotShapeVec  |LandContourVec|\n",
      "+-----------------+------------+--------------+-----------------+----------------+-------------+-------------+--------------+\n",
      "|2.0              |0.0         |0.0           |0.0              |(116,[2],[1.0]) |(2,[0],[1.0])|(4,[0],[1.0])|(4,[0],[1.0]) |\n",
      "|28.0             |0.0         |1.0           |0.0              |(116,[28],[1.0])|(2,[0],[1.0])|(4,[1],[1.0])|(4,[0],[1.0]) |\n",
      "|13.0             |0.0         |1.0           |0.0              |(116,[13],[1.0])|(2,[0],[1.0])|(4,[1],[1.0])|(4,[0],[1.0]) |\n",
      "|17.0             |0.0         |1.0           |0.0              |(116,[17],[1.0])|(2,[0],[1.0])|(4,[1],[1.0])|(4,[0],[1.0]) |\n",
      "|30.0             |0.0         |1.0           |1.0              |(116,[30],[1.0])|(2,[0],[1.0])|(4,[1],[1.0])|(4,[1],[1.0]) |\n",
      "+-----------------+------------+--------------+-----------------+----------------+-------------+-------------+--------------+\n",
      "only showing top 5 rows\n",
      "\n",
      "+------------------------------------------------------------------------------------------------------------------------------------------------------------------------------------------------------------------------------------------------------------------------------------------------------------------------------------------------------------------------------------------------------+\n",
      "|features                                                                                                                                                                                                                                                                                                                                                                                              |\n",
      "+------------------------------------------------------------------------------------------------------------------------------------------------------------------------------------------------------------------------------------------------------------------------------------------------------------------------------------------------------------------------------------------------------+\n",
      "|(600,[0,1,2,3,4,5,6,7,8,9,10,13,16,18,19,20,22,23,24,28,31,32,37,41,155,157,161,165,167,172,175,201,209,214,219,226,232,236,250,266,271,575,579,585,590,595],[20.0,11622.0,5.0,6.0,1961.0,1961.0,468.0,144.0,270.0,882.0,896.0,896.0,1.0,2.0,1.0,5.0,1.0,730.0,140.0,120.0,6.0,2010.0,1.0,1.0,1.0,1.0,1.0,1.0,1.0,1.0,1.0,1.0,1.0,1.0,1.0,1.0,1.0,1.0,1.0,1.0,1.0,1.0,1.0,1.0,1.0,1.0])               |\n",
      "|(600,[0,1,2,3,4,5,6,8,9,10,13,16,17,18,19,20,22,23,24,25,30,31,32,33,67,155,158,161,165,168,172,175,200,209,214,219,227,232,239,253,267,311,575,579,585,590,595],[20.0,14267.0,6.0,6.0,1958.0,1958.0,923.0,406.0,1329.0,1329.0,1329.0,1.0,1.0,3.0,1.0,6.0,1.0,312.0,393.0,36.0,12500.0,6.0,2010.0,1.0,1.0,1.0,1.0,1.0,1.0,1.0,1.0,1.0,1.0,1.0,1.0,1.0,1.0,1.0,1.0,1.0,1.0,1.0,1.0,1.0,1.0,1.0,1.0])   |\n",
      "|(600,[0,1,2,3,4,5,6,8,9,10,11,13,16,17,18,19,20,21,22,23,24,25,31,32,33,52,155,158,161,165,167,172,181,200,209,214,220,226,232,236,250,266,271,575,579,584,591,595],[60.0,13830.0,5.0,5.0,1997.0,1998.0,791.0,137.0,928.0,928.0,701.0,1629.0,2.0,1.0,3.0,1.0,6.0,1.0,2.0,482.0,212.0,34.0,3.0,2010.0,1.0,1.0,1.0,1.0,1.0,1.0,1.0,1.0,1.0,1.0,1.0,1.0,1.0,1.0,1.0,1.0,1.0,1.0,1.0,1.0,1.0,1.0,1.0,1.0])|\n",
      "|(600,[0,1,2,3,4,5,6,8,9,10,11,13,16,17,18,19,20,21,22,23,24,25,31,32,33,56,155,158,161,165,167,172,181,200,209,214,220,226,232,236,250,267,299,575,579,584,590,595],[60.0,9978.0,6.0,6.0,1998.0,1998.0,602.0,324.0,926.0,926.0,678.0,1604.0,2.0,1.0,3.0,1.0,7.0,1.0,2.0,470.0,360.0,36.0,6.0,2010.0,1.0,1.0,1.0,1.0,1.0,1.0,1.0,1.0,1.0,1.0,1.0,1.0,1.0,1.0,1.0,1.0,1.0,1.0,1.0,1.0,1.0,1.0,1.0,1.0]) |\n",
      "|(600,[0,1,2,3,4,5,6,8,9,10,13,16,18,19,20,22,23,25,28,31,32,33,69,155,158,162,165,167,172,191,200,209,215,219,226,232,238,252,266,271,576,579,584,591,595],[120.0,5005.0,8.0,5.0,1992.0,1992.0,263.0,1017.0,1280.0,1280.0,1280.0,2.0,2.0,1.0,5.0,2.0,506.0,82.0,144.0,1.0,2010.0,1.0,1.0,1.0,1.0,1.0,1.0,1.0,1.0,1.0,1.0,1.0,1.0,1.0,1.0,1.0,1.0,1.0,1.0,1.0,1.0,1.0,1.0,1.0,1.0])                    |\n",
      "+------------------------------------------------------------------------------------------------------------------------------------------------------------------------------------------------------------------------------------------------------------------------------------------------------------------------------------------------------------------------------------------------------+\n",
      "only showing top 5 rows\n",
      "\n",
      "+--------------------------------------------------------------------------------------------------------------------------------------------------------------------------------------------------------------------------------------------------------------------------------------------------+----------------------------------------------------------------------------------------------------------------------------------------------------------------------------------------------------------------------------------------------------------------------------------------------+\n",
      "|features                                                                                                                                                                                                                                                                                          |indexed_features                                                                                                                                                                                                                                                                              |\n",
      "+--------------------------------------------------------------------------------------------------------------------------------------------------------------------------------------------------------------------------------------------------------------------------------------------------+----------------------------------------------------------------------------------------------------------------------------------------------------------------------------------------------------------------------------------------------------------------------------------------------+\n",
      "|(74,[0,1,2,3,4,5,6,7,8,9,10,13,16,18,19,20,22,23,24,28,31,32,33,34,42,54,58,59,61,67],[20.0,11622.0,5.0,6.0,1961.0,1961.0,468.0,144.0,270.0,882.0,896.0,896.0,1.0,2.0,1.0,5.0,1.0,730.0,140.0,120.0,6.0,2010.0,4.0,2.0,1.0,1.0,3.0,3.0,1.0,31.0])                                                 |(74,[0,1,2,3,4,5,6,7,8,9,10,13,16,18,19,20,22,23,24,28,31,32,33,34,42,54,58,59,61,67],[0.0,11622.0,4.0,5.0,1961.0,1961.0,468.0,144.0,270.0,882.0,896.0,896.0,1.0,2.0,1.0,2.0,1.0,730.0,140.0,120.0,5.0,4.0,4.0,2.0,1.0,1.0,3.0,3.0,1.0,31.0])                                                 |\n",
      "|(74,[0,1,2,3,4,5,6,8,9,10,13,16,17,18,19,20,22,23,24,25,30,31,32,34,36,39,46,48,49,50,51,54,58,61,64,67],[20.0,14267.0,6.0,6.0,1958.0,1958.0,923.0,406.0,1329.0,1329.0,1329.0,1.0,1.0,3.0,1.0,6.0,1.0,312.0,393.0,36.0,12500.0,6.0,2010.0,28.0,1.0,1.0,1.0,3.0,3.0,1.0,40.0,1.0,2.0,1.0,1.0,18.0])|(74,[0,1,2,3,4,5,6,8,9,10,13,16,17,18,19,20,22,23,24,25,30,31,32,34,36,39,46,48,49,50,51,54,58,61,64,67],[0.0,14267.0,5.0,5.0,1958.0,1958.0,923.0,406.0,1329.0,1329.0,1329.0,1.0,1.0,3.0,1.0,3.0,1.0,312.0,393.0,36.0,12500.0,5.0,4.0,28.0,1.0,1.0,1.0,3.0,3.0,1.0,40.0,1.0,2.0,1.0,1.0,18.0])|\n",
      "|(74,[0,1,2,3,4,5,6,8,9,10,11,13,16,17,18,19,20,21,22,23,24,25,31,32,34,36,41,45,55,61,67,68],[60.0,13830.0,5.0,5.0,1997.0,1998.0,791.0,137.0,928.0,928.0,701.0,1629.0,2.0,1.0,3.0,1.0,6.0,1.0,2.0,482.0,212.0,34.0,3.0,2010.0,13.0,1.0,6.0,1.0,1.0,2.0,14.0,2.0])                                 |(74,[0,1,2,3,4,5,6,8,9,10,11,13,16,17,18,19,20,21,22,23,24,25,31,32,34,36,41,45,55,61,67,68],[5.0,13830.0,4.0,4.0,1997.0,1998.0,791.0,137.0,928.0,928.0,701.0,1629.0,2.0,1.0,3.0,1.0,3.0,1.0,2.0,482.0,212.0,34.0,2.0,4.0,13.0,1.0,6.0,1.0,1.0,2.0,14.0,2.0])                                 |\n",
      "|(74,[0,1,2,3,4,5,6,8,9,10,11,13,16,17,18,19,20,21,22,23,24,25,31,32,34,36,41,45,50,51,64,67,68],[60.0,9978.0,6.0,6.0,1998.0,1998.0,602.0,324.0,926.0,926.0,678.0,1604.0,2.0,1.0,3.0,1.0,7.0,1.0,2.0,470.0,360.0,36.0,6.0,2010.0,17.0,1.0,6.0,1.0,1.0,28.0,1.0,11.0,2.0])                          |(74,[0,1,2,3,4,5,6,8,9,10,11,13,16,17,18,19,20,21,22,23,24,25,31,32,34,36,41,45,50,51,64,67,68],[5.0,9978.0,5.0,5.0,1998.0,1998.0,602.0,324.0,926.0,926.0,678.0,1604.0,2.0,1.0,3.0,1.0,4.0,1.0,2.0,470.0,360.0,36.0,5.0,4.0,17.0,1.0,6.0,1.0,1.0,28.0,1.0,11.0,2.0])                          |\n",
      "|(74,[0,1,2,3,4,5,6,8,9,10,13,16,18,19,20,22,23,25,28,31,32,34,36,37,41,44,48,49,52,55,58,64,67,68],[120.0,5005.0,8.0,5.0,1992.0,1992.0,263.0,1017.0,1280.0,1280.0,1280.0,2.0,2.0,1.0,5.0,2.0,506.0,82.0,144.0,1.0,2010.0,30.0,1.0,1.0,16.0,1.0,2.0,2.0,1.0,1.0,2.0,1.0,42.0,1.0])                 |(74,[0,1,2,3,4,5,6,8,9,10,13,16,18,19,20,22,23,25,28,31,32,34,36,37,41,44,48,49,52,55,58,64,67,68],[11.0,5005.0,7.0,4.0,1992.0,1992.0,263.0,1017.0,1280.0,1280.0,1280.0,2.0,2.0,1.0,2.0,2.0,506.0,82.0,144.0,0.0,4.0,30.0,1.0,1.0,16.0,1.0,2.0,2.0,1.0,1.0,2.0,1.0,42.0,1.0])                 |\n",
      "+--------------------------------------------------------------------------------------------------------------------------------------------------------------------------------------------------------------------------------------------------------------------------------------------------+----------------------------------------------------------------------------------------------------------------------------------------------------------------------------------------------------------------------------------------------------------------------------------------------+\n",
      "only showing top 5 rows\n",
      "\n"
     ]
    }
   ],
   "source": [
    "\n",
    "from pyspark.ml.feature import OneHotEncoder\n",
    "encoder = OneHotEncoder(inputCols= ['MSZoning_index',\n",
    " 'LotFrontage_index',\n",
    " 'Street_index',\n",
    " 'LotShape_index',\n",
    " 'LandContour_index',\n",
    " 'Utilities_index',\n",
    " 'LotConfig_index',\n",
    " 'LandSlope_index',\n",
    " 'Neighborhood_index',\n",
    " 'Condition1_index',\n",
    " 'Condition2_index',\n",
    " 'BldgType_index',\n",
    " 'HouseStyle_index',\n",
    " 'RoofStyle_index',\n",
    " 'RoofMatl_index',\n",
    " 'Exterior1st_index',\n",
    " 'Exterior2nd_index',\n",
    " 'MasVnrType_index',\n",
    " 'MasVnrArea_index',\n",
    " 'ExterQual_index',\n",
    " 'ExterCond_index',\n",
    " 'Foundation_index',\n",
    " 'BsmtQual_index',\n",
    " 'BsmtCond_index'], \n",
    "                         outputCols=[\n",
    " 'MSZoningVec',\n",
    " 'LotFrontageVec',\n",
    " 'StreetVec',\n",
    " 'LotShapeVec',\n",
    " 'LandContourVec',\n",
    " 'UtilitiesVec',\n",
    " 'LotConfigVec',\n",
    " 'LandSlopeVec',\n",
    " 'NeighborhoodVec',\n",
    " 'Condition1Vec',\n",
    " 'Condition2Vec',\n",
    " 'BldgTypeVec',\n",
    " 'HouseStyleVec',\n",
    " 'RoofStyleVec',\n",
    " 'RoofMatlVec',\n",
    " 'Exterior1stVec',\n",
    " 'Exterior2ndVec',\n",
    " 'MasVnrTypeVec',\n",
    " 'MasVnrAreaVec',\n",
    " 'ExterQualVec',\n",
    " 'ExterCondVec',\n",
    " 'FoundationVec',\n",
    " 'BsmtQualVec',\n",
    " 'BsmtCondVec'])\n",
    "t_encodedDF = encoder.fit(t_df6).transform(t_df6)\n",
    "t_encodedDF.select( 'LotFrontage_index',\n",
    " 'Street_index',\n",
    " 'LotShape_index',\n",
    " 'LandContour_index', \n",
    " 'LotFrontageVec',\n",
    " 'StreetVec',\n",
    " 'LotShapeVec',\n",
    " 'LandContourVec').show(5, False)\n",
    "\n",
    " # Import VectorAssembler from pyspark.ml.feature package\n",
    "from pyspark.ml.feature import VectorAssembler\n",
    "# Create a list of all the variables that you want to create feature vectors\n",
    "# These features are then further used for training model\n",
    "features_col = ['MSSubClass',\n",
    " 'LotArea',\n",
    " 'OverallQual',\n",
    " 'OverallCond',\n",
    " 'YearBuilt',\n",
    " 'YearRemodAdd',\n",
    " 'BsmtFinSF1',\n",
    " 'BsmtFinSF2',\n",
    " 'BsmtUnfSF',\n",
    " 'TotalBsmtSF',\n",
    " '1stFlrSF',\n",
    " '2ndFlrSF',\n",
    " 'LowQualFinSF',\n",
    " 'GrLivArea',\n",
    " 'BsmtFullBath',\n",
    " 'BsmtHalfBath',\n",
    " 'FullBath',\n",
    " 'HalfBath',\n",
    " 'BedroomAbvGr',\n",
    " 'KitchenAbvGr',\n",
    " 'TotRmsAbvGrd',\n",
    " 'Fireplaces',\n",
    " 'GarageCars',\n",
    " 'GarageArea',\n",
    " 'WoodDeckSF',\n",
    " 'OpenPorchSF',\n",
    " 'EnclosedPorch',\n",
    " '3SsnPorch',\n",
    " 'ScreenPorch',\n",
    " 'PoolArea',\n",
    " 'MiscVal',\n",
    " 'MoSold',\n",
    " 'YrSold',\n",
    " 'MSZoningVec',\n",
    " 'LotFrontageVec',\n",
    " 'StreetVec',\n",
    " 'LotShapeVec',\n",
    " 'LandContourVec',\n",
    " 'UtilitiesVec',\n",
    " 'LotConfigVec',\n",
    " 'LandSlopeVec',\n",
    " 'NeighborhoodVec',\n",
    " 'Condition1Vec',\n",
    " 'Condition2Vec',\n",
    " 'BldgTypeVec',\n",
    " 'HouseStyleVec',\n",
    " 'RoofStyleVec',\n",
    " 'RoofMatlVec',\n",
    " 'Exterior1stVec',\n",
    " 'Exterior2ndVec',\n",
    " 'MasVnrTypeVec',\n",
    " 'MasVnrAreaVec',\n",
    " 'ExterQualVec',\n",
    " 'ExterCondVec',\n",
    " 'FoundationVec',\n",
    " 'BsmtQualVec',\n",
    " 'BsmtCondVec']\n",
    "# Create the VectorAssembler object\n",
    "t_assembler = VectorAssembler(inputCols= features_col, outputCol= \"features\")\n",
    "t_assembledDF = t_assembler.transform(t_encodedDF)\n",
    "t_assembledDF.select(\"features\").show(5, False)\n",
    "\n",
    "# Import VectorIndexer from pyspark.ml.feature package\n",
    "from pyspark.ml.feature import VectorIndexer\n",
    "# Create a list of all the raw features\n",
    "# VectorIndexer will automatically identify the categorical columns and index them\n",
    "featurecol = ['MSSubClass',\n",
    " 'LotArea',\n",
    " 'OverallQual',\n",
    " 'OverallCond',\n",
    " 'YearBuilt',\n",
    " 'YearRemodAdd',\n",
    " 'BsmtFinSF1',\n",
    " 'BsmtFinSF2',\n",
    " 'BsmtUnfSF',\n",
    " 'TotalBsmtSF',\n",
    " '1stFlrSF',\n",
    " '2ndFlrSF',\n",
    " 'LowQualFinSF',\n",
    " 'GrLivArea',\n",
    " 'BsmtFullBath',\n",
    " 'BsmtHalfBath',\n",
    " 'FullBath',\n",
    " 'HalfBath',\n",
    " 'BedroomAbvGr',\n",
    " 'KitchenAbvGr',\n",
    " 'TotRmsAbvGrd',\n",
    " 'Fireplaces',\n",
    " 'GarageCars',\n",
    " 'GarageArea',\n",
    " 'WoodDeckSF',\n",
    " 'OpenPorchSF',\n",
    " 'EnclosedPorch',\n",
    " '3SsnPorch',\n",
    " 'ScreenPorch',\n",
    " 'PoolArea',\n",
    " 'MiscVal',\n",
    " 'MoSold',\n",
    " 'YrSold',\n",
    " 'MSZoning_index',\n",
    " 'LotFrontage_index',\n",
    " 'Street_index',\n",
    " 'LotShape_index',\n",
    " 'LandContour_index',\n",
    " 'Utilities_index',\n",
    " 'LotConfig_index',\n",
    " 'LandSlope_index',\n",
    " 'Neighborhood_index',\n",
    " 'Condition1_index',\n",
    " 'Condition2_index',\n",
    " 'BldgType_index',\n",
    " 'HouseStyle_index',\n",
    " 'RoofStyle_index',\n",
    " 'RoofMatl_index',\n",
    " 'Exterior1st_index',\n",
    " 'Exterior2nd_index',\n",
    " 'MasVnrType_index',\n",
    " 'MasVnrArea_index',\n",
    " 'ExterQual_index',\n",
    " 'ExterCond_index',\n",
    " 'Foundation_index',\n",
    " 'BsmtQual_index',\n",
    " 'BsmtCond_index',\n",
    " 'BsmtExposure_index',\n",
    " 'BsmtFinType1_index',\n",
    " 'BsmtFinType2_index',\n",
    " 'Heating_index',\n",
    " 'HeatingQC_index',\n",
    " 'CentralAir_index',\n",
    " 'Electrical_index',\n",
    " 'KitchenQual_index',\n",
    " 'Functional_index',\n",
    " 'GarageType_index',\n",
    " 'GarageYrBlt_index',\n",
    " 'GarageFinish_index',\n",
    " 'GarageQual_index',\n",
    " 'GarageCond_index',\n",
    " 'PavedDrive_index',\n",
    " 'SaleType_index',\n",
    " 'SaleCondition_index']\n",
    "\n",
    "# Create the VectorAssembler object\n",
    "t_assembler = VectorAssembler(inputCols= featurecol, outputCol= \"features\",handleInvalid='keep')\n",
    "t_assembledDF = t_assembler.transform(t_df6)\n",
    "\n",
    "# Create the VectorIndexer object. It only take feature column\n",
    "t_vecindexer = VectorIndexer(inputCol= \"features\", outputCol= \"indexed_features\")\n",
    "# Fit the vectorindexer object on the output of the vectorassembler data and transform\n",
    "t_vecindexedDF = t_vecindexer.fit(t_assembledDF).transform(t_assembledDF)\n",
    "t_vecindexedDF.select(\"features\", \"indexed_features\").show(5, False)\n",
    "\n",
    "\n"
   ]
  },
  {
   "cell_type": "code",
   "execution_count": 52,
   "metadata": {
    "colab": {
     "base_uri": "https://localhost:8080/"
    },
    "id": "p5SSbPJe-vMv",
    "outputId": "5c82d781-3bfd-46ca-81d1-f50af2fcfbd8"
   },
   "outputs": [
    {
     "name": "stdout",
     "output_type": "stream",
     "text": [
      "+--------------------------------------------------------------------------------------------------------------------------------------------------------------------------------------------------------------------------------------------------------------------------------------------------+------------------------------------------------------------------------------------------------------------------------------------------------------------------------------------------------------------------------------------------------------------------------------------------------------------------------------------------------+\n",
      "|features                                                                                                                                                                                                                                                                                          |features_array                                                                                                                                                                                                                                                                                                                                  |\n",
      "+--------------------------------------------------------------------------------------------------------------------------------------------------------------------------------------------------------------------------------------------------------------------------------------------------+------------------------------------------------------------------------------------------------------------------------------------------------------------------------------------------------------------------------------------------------------------------------------------------------------------------------------------------------+\n",
      "|(74,[0,1,2,3,4,5,6,7,8,9,10,13,16,18,19,20,22,23,24,28,31,32,33,34,42,54,58,59,61,67],[20.0,11622.0,5.0,6.0,1961.0,1961.0,468.0,144.0,270.0,882.0,896.0,896.0,1.0,2.0,1.0,5.0,1.0,730.0,140.0,120.0,6.0,2010.0,4.0,2.0,1.0,1.0,3.0,3.0,1.0,31.0])                                                 |[20.0,11622.0,5.0,6.0,1961.0,1961.0,468.0,144.0,270.0,882.0,896.0,0.0,0.0,896.0,0.0,0.0,1.0,0.0,2.0,1.0,5.0,0.0,1.0,730.0,140.0,0.0,0.0,0.0,120.0,0.0,0.0,6.0,2010.0,4.0,2.0,0.0,0.0,0.0,0.0,0.0,0.0,0.0,1.0,0.0,0.0,0.0,0.0,0.0,0.0,0.0,0.0,0.0,0.0,0.0,1.0,0.0,0.0,0.0,3.0,3.0,0.0,1.0,0.0,0.0,0.0,0.0,0.0,31.0,0.0,0.0,0.0,0.0,0.0,0.0]      |\n",
      "|(74,[0,1,2,3,4,5,6,8,9,10,13,16,17,18,19,20,22,23,24,25,30,31,32,34,36,39,46,48,49,50,51,54,58,61,64,67],[20.0,14267.0,6.0,6.0,1958.0,1958.0,923.0,406.0,1329.0,1329.0,1329.0,1.0,1.0,3.0,1.0,6.0,1.0,312.0,393.0,36.0,12500.0,6.0,2010.0,28.0,1.0,1.0,1.0,3.0,3.0,1.0,40.0,1.0,2.0,1.0,1.0,18.0])|[20.0,14267.0,6.0,6.0,1958.0,1958.0,923.0,0.0,406.0,1329.0,1329.0,0.0,0.0,1329.0,0.0,0.0,1.0,1.0,3.0,1.0,6.0,0.0,1.0,312.0,393.0,36.0,0.0,0.0,0.0,0.0,12500.0,6.0,2010.0,0.0,28.0,0.0,1.0,0.0,0.0,1.0,0.0,0.0,0.0,0.0,0.0,0.0,1.0,0.0,3.0,3.0,1.0,40.0,0.0,0.0,1.0,0.0,0.0,0.0,2.0,0.0,0.0,1.0,0.0,0.0,1.0,0.0,0.0,18.0,0.0,0.0,0.0,0.0,0.0,0.0]|\n",
      "|(74,[0,1,2,3,4,5,6,8,9,10,11,13,16,17,18,19,20,21,22,23,24,25,31,32,34,36,41,45,55,61,67,68],[60.0,13830.0,5.0,5.0,1997.0,1998.0,791.0,137.0,928.0,928.0,701.0,1629.0,2.0,1.0,3.0,1.0,6.0,1.0,2.0,482.0,212.0,34.0,3.0,2010.0,13.0,1.0,6.0,1.0,1.0,2.0,14.0,2.0])                                 |[60.0,13830.0,5.0,5.0,1997.0,1998.0,791.0,0.0,137.0,928.0,928.0,701.0,0.0,1629.0,0.0,0.0,2.0,1.0,3.0,1.0,6.0,1.0,2.0,482.0,212.0,34.0,0.0,0.0,0.0,0.0,0.0,3.0,2010.0,0.0,13.0,0.0,1.0,0.0,0.0,0.0,0.0,6.0,0.0,0.0,0.0,1.0,0.0,0.0,0.0,0.0,0.0,0.0,0.0,0.0,0.0,1.0,0.0,0.0,0.0,0.0,0.0,2.0,0.0,0.0,0.0,0.0,0.0,14.0,2.0,0.0,0.0,0.0,0.0,0.0]     |\n",
      "|(74,[0,1,2,3,4,5,6,8,9,10,11,13,16,17,18,19,20,21,22,23,24,25,31,32,34,36,41,45,50,51,64,67,68],[60.0,9978.0,6.0,6.0,1998.0,1998.0,602.0,324.0,926.0,926.0,678.0,1604.0,2.0,1.0,3.0,1.0,7.0,1.0,2.0,470.0,360.0,36.0,6.0,2010.0,17.0,1.0,6.0,1.0,1.0,28.0,1.0,11.0,2.0])                          |[60.0,9978.0,6.0,6.0,1998.0,1998.0,602.0,0.0,324.0,926.0,926.0,678.0,0.0,1604.0,0.0,0.0,2.0,1.0,3.0,1.0,7.0,1.0,2.0,470.0,360.0,36.0,0.0,0.0,0.0,0.0,0.0,6.0,2010.0,0.0,17.0,0.0,1.0,0.0,0.0,0.0,0.0,6.0,0.0,0.0,0.0,1.0,0.0,0.0,0.0,0.0,1.0,28.0,0.0,0.0,0.0,0.0,0.0,0.0,0.0,0.0,0.0,0.0,0.0,0.0,1.0,0.0,0.0,11.0,2.0,0.0,0.0,0.0,0.0,0.0]     |\n",
      "|(74,[0,1,2,3,4,5,6,8,9,10,13,16,18,19,20,22,23,25,28,31,32,34,36,37,41,44,48,49,52,55,58,64,67,68],[120.0,5005.0,8.0,5.0,1992.0,1992.0,263.0,1017.0,1280.0,1280.0,1280.0,2.0,2.0,1.0,5.0,2.0,506.0,82.0,144.0,1.0,2010.0,30.0,1.0,1.0,16.0,1.0,2.0,2.0,1.0,1.0,2.0,1.0,42.0,1.0])                 |[120.0,5005.0,8.0,5.0,1992.0,1992.0,263.0,0.0,1017.0,1280.0,1280.0,0.0,0.0,1280.0,0.0,0.0,2.0,0.0,2.0,1.0,5.0,0.0,2.0,506.0,0.0,82.0,0.0,0.0,144.0,0.0,0.0,1.0,2010.0,0.0,30.0,0.0,1.0,1.0,0.0,0.0,0.0,16.0,0.0,0.0,1.0,0.0,0.0,0.0,2.0,2.0,0.0,0.0,1.0,0.0,0.0,1.0,0.0,0.0,2.0,0.0,0.0,0.0,0.0,0.0,1.0,0.0,0.0,42.0,1.0,0.0,0.0,0.0,0.0,0.0]   |\n",
      "+--------------------------------------------------------------------------------------------------------------------------------------------------------------------------------------------------------------------------------------------------------------------------------------------------+------------------------------------------------------------------------------------------------------------------------------------------------------------------------------------------------------------------------------------------------------------------------------------------------------------------------------------------------+\n",
      "only showing top 5 rows\n",
      "\n",
      "+-----------------------------------------------------------------------------------------------------------------------------------------------------------------------------------------------------------------------------------------------------------------------------------------------------------------------------------------------------------------------------------------------------------------------------------------------------------------------------------------------------------------------------------------------------------------------------------------------------------------------------------------------------------------------------------------------------------------------------------------------------------------------------+\n",
      "|scaledfeatures                                                                                                                                                                                                                                                                                                                                                                                                                                                                                                                                                                                                                                                                                                                                                               |\n",
      "+-----------------------------------------------------------------------------------------------------------------------------------------------------------------------------------------------------------------------------------------------------------------------------------------------------------------------------------------------------------------------------------------------------------------------------------------------------------------------------------------------------------------------------------------------------------------------------------------------------------------------------------------------------------------------------------------------------------------------------------------------------------------------------+\n",
      "|[0.46787040781433564,2.34526472884079,3.4799272633634315,5.38725567653354,64.52765478911708,92.80438565423941,NaN,NaN,NaN,NaN,2.2503187262966917,0.0,0.0,1.8452688572886573,NaN,NaN,1.8011855430907402,0.0,2.4102531317827474,4.796814789573731,3.313684124924357,0.0,NaN,NaN,1.0959343210874088,0.0,0.0,0.0,2.119775703659609,0.0,0.0,2.2039118764525685,1544.086967707572,5.5219327133036495,0.08381829252206091,0.0,0.0,0.0,0.0,0.0,0.0,0.0,0.8750435275895989,0.0,0.0,0.0,0.0,0.0,0.0,0.0,0.0,0.0,0.0,0.0,1.28690990789532,0.0,0.0,0.0,1.8068394862142372,2.3514006057187204,0.0,1.1783589160627517,0.0,0.0,0.0,0.0,0.0,1.3736026850584753,0.0,0.0,0.0,0.0,0.0,0.0]                                                                                                      |\n",
      "|[0.46787040781433564,2.8790132409543587,4.175912716036118,5.38725567653354,64.42893833609956,92.66241056144862,NaN,NaN,NaN,NaN,3.337805342911053,0.0,0.0,2.737011508188198,NaN,NaN,1.8011855430907402,1.9880056583414822,3.615379697674121,4.796814789573731,3.9764209499092287,0.0,NaN,NaN,3.0764442013382265,0.5226225586320549,0.0,0.0,0.0,0.0,19.815887338092033,2.2039118764525685,1544.086967707572,0.0,1.1734560953088526,0.0,1.792550951843203,0.0,0.0,1.303247507223951,0.0,0.0,0.0,0.0,0.0,0.0,1.8366220039155448,0.0,1.3539571443560334,1.2474404451885925,1.3318650907551712,0.5455764803998085,0.0,0.0,1.28690990789532,0.0,0.0,0.0,1.2045596574761581,0.0,0.0,1.1783589160627517,0.0,0.0,1.3861362510852366,0.0,0.0,0.7975757526145986,0.0,0.0,0.0,0.0,0.0,0.0]|\n",
      "|[1.403611223443007,2.790828704170378,3.4799272633634315,4.489379730444617,65.71225222532729,94.55541179865902,NaN,NaN,NaN,NaN,2.330687252235859,1.6666261443158064,0.0,3.354847063083954,NaN,NaN,3.6023710861814804,1.9880056583414822,3.615379697674121,4.796814789573731,3.9764209499092287,1.5445913011474997,NaN,NaN,1.6595576862180765,0.4935879720413851,0.0,0.0,0.0,0.0,0.0,1.1019559382262842,1544.086967707572,0.0,0.544818901393396,0.0,1.792550951843203,0.0,0.0,0.0,0.0,1.008781732970931,0.0,0.0,0.0,0.8846056872388014,0.0,0.0,0.0,0.0,0.0,0.0,0.0,0.0,0.0,1.045827368460077,0.0,0.0,0.0,0.0,0.0,2.3567178321255033,0.0,0.0,0.0,0.0,0.0,0.620336696478021,2.1206094298944134,0.0,0.0,0.0,0.0,0.0]                                                              |\n",
      "|[1.403611223443007,2.0135132906877824,4.175912716036118,5.38725567653354,65.74515770966646,94.55541179865902,NaN,NaN,NaN,NaN,2.3256642193646613,1.6119436887961722,0.0,3.303360766842641,NaN,NaN,3.6023710861814804,1.9880056583414822,3.615379697674121,4.796814789573731,4.6391577748941,1.5445913011474997,NaN,NaN,2.8181168256533375,0.5226225586320549,0.0,0.0,0.0,0.0,0.0,2.2039118764525685,1544.086967707572,0.0,0.7124554864375178,0.0,1.792550951843203,0.0,0.0,0.0,0.0,1.008781732970931,0.0,0.0,0.0,0.8846056872388014,0.0,0.0,0.0,0.0,1.3318650907551712,0.381903536279866,0.0,0.0,0.0,0.0,0.0,0.0,0.0,0.0,0.0,0.0,0.0,0.0,1.3861362510852366,0.0,0.0,0.487407404375588,2.1206094298944134,0.0,0.0,0.0,0.0,0.0]                                                 |\n",
      "|[2.807222446886014,1.0099853698028012,5.56788362138149,4.489379730444617,65.54772480363143,94.27146161307746,NaN,NaN,NaN,NaN,3.2147410375667023,0.0,0.0,2.6360983675552245,NaN,NaN,3.6023710861814804,0.0,2.4102531317827474,4.796814789573731,3.313684124924357,0.0,NaN,NaN,0.0,1.1904180502174582,0.0,0.0,2.543730844391531,0.0,0.0,0.3673186460754281,1544.086967707572,0.0,1.2572743878309136,0.0,1.792550951843203,1.78195028928785,0.0,0.0,0.0,2.690084621255816,0.0,0.0,1.1330308801693818,0.0,0.0,0.0,0.9026380962373556,0.8316269634590617,0.0,0.0,1.5616991391784476,0.0,0.0,1.045827368460077,0.0,0.0,1.2045596574761581,0.0,0.0,0.0,0.0,0.0,1.3861362510852366,0.0,0.0,1.8610100894340633,1.0603047149472067,0.0,0.0,0.0,0.0,0.0]                                |\n",
      "+-----------------------------------------------------------------------------------------------------------------------------------------------------------------------------------------------------------------------------------------------------------------------------------------------------------------------------------------------------------------------------------------------------------------------------------------------------------------------------------------------------------------------------------------------------------------------------------------------------------------------------------------------------------------------------------------------------------------------------------------------------------------------------+\n",
      "only showing top 5 rows\n",
      "\n"
     ]
    }
   ],
   "source": [
    "from pyspark.sql import functions as F\n",
    "from pyspark.ml.linalg import Vectors, VectorUDT\n",
    "\n",
    "# Define a udf that converts sparse vector into dense vector\n",
    "# You cannot create your own custom function and run that against the data directly. \n",
    "# In Spark, You have to register the function first using udf function\n",
    "t_sparseToDense = F.udf(lambda v : Vectors.dense(v), VectorUDT())\n",
    "\n",
    "# We then call the function here passing the column name on which the function has to be applied\n",
    "t_densefeatureDF = t_assembledDF.withColumn('features_array', sparseToDense('features'))\n",
    "\n",
    "t_densefeatureDF.select(\"features\", \"features_array\").show(5, False)\n",
    "\n",
    "# Import StandardScaler from pyspark.ml.feature package\n",
    "from pyspark.ml.feature import StandardScaler\n",
    "\n",
    "# Create the StandardScaler object. It only take feature column (dense vector)\n",
    "t_stdscaler = StandardScaler(inputCol= \"features_array\", outputCol= \"scaledfeatures\")\n",
    "\n",
    "# Fit the StandardScaler object on the output of the dense vector data and transform\n",
    "t_stdscaledDF = t_stdscaler.fit(t_densefeatureDF).transform(t_densefeatureDF)\n",
    "t_stdscaledDF.select(\"scaledfeatures\" ).show(5, False)"
   ]
  },
  {
   "cell_type": "code",
   "execution_count": 53,
   "metadata": {
    "colab": {
     "base_uri": "https://localhost:8080/"
    },
    "id": "mCTR5TW89mvL",
    "outputId": "a4b3a5e6-7b24-4973-8716-556b0cb1cbaa"
   },
   "outputs": [
    {
     "name": "stdout",
     "output_type": "stream",
     "text": [
      "+--------------------------------------------------------------------------------------------------------------------------------------------------------------------------------------------------------------------------------------------------------------------------------------------------+------------------------------------------------------------------------------------------------------------------------------------------------------------------------------------------------------------------------------------------------------------------------------------------------------------------------------------------------+\n",
      "|features                                                                                                                                                                                                                                                                                          |features_array                                                                                                                                                                                                                                                                                                                                  |\n",
      "+--------------------------------------------------------------------------------------------------------------------------------------------------------------------------------------------------------------------------------------------------------------------------------------------------+------------------------------------------------------------------------------------------------------------------------------------------------------------------------------------------------------------------------------------------------------------------------------------------------------------------------------------------------+\n",
      "|(74,[0,1,2,3,4,5,6,7,8,9,10,13,16,18,19,20,22,23,24,28,31,32,33,34,42,54,58,59,61,67],[20.0,11622.0,5.0,6.0,1961.0,1961.0,468.0,144.0,270.0,882.0,896.0,896.0,1.0,2.0,1.0,5.0,1.0,730.0,140.0,120.0,6.0,2010.0,4.0,2.0,1.0,1.0,3.0,3.0,1.0,31.0])                                                 |[20.0,11622.0,5.0,6.0,1961.0,1961.0,468.0,144.0,270.0,882.0,896.0,0.0,0.0,896.0,0.0,0.0,1.0,0.0,2.0,1.0,5.0,0.0,1.0,730.0,140.0,0.0,0.0,0.0,120.0,0.0,0.0,6.0,2010.0,4.0,2.0,0.0,0.0,0.0,0.0,0.0,0.0,0.0,1.0,0.0,0.0,0.0,0.0,0.0,0.0,0.0,0.0,0.0,0.0,0.0,1.0,0.0,0.0,0.0,3.0,3.0,0.0,1.0,0.0,0.0,0.0,0.0,0.0,31.0,0.0,0.0,0.0,0.0,0.0,0.0]      |\n",
      "|(74,[0,1,2,3,4,5,6,8,9,10,13,16,17,18,19,20,22,23,24,25,30,31,32,34,36,39,46,48,49,50,51,54,58,61,64,67],[20.0,14267.0,6.0,6.0,1958.0,1958.0,923.0,406.0,1329.0,1329.0,1329.0,1.0,1.0,3.0,1.0,6.0,1.0,312.0,393.0,36.0,12500.0,6.0,2010.0,28.0,1.0,1.0,1.0,3.0,3.0,1.0,40.0,1.0,2.0,1.0,1.0,18.0])|[20.0,14267.0,6.0,6.0,1958.0,1958.0,923.0,0.0,406.0,1329.0,1329.0,0.0,0.0,1329.0,0.0,0.0,1.0,1.0,3.0,1.0,6.0,0.0,1.0,312.0,393.0,36.0,0.0,0.0,0.0,0.0,12500.0,6.0,2010.0,0.0,28.0,0.0,1.0,0.0,0.0,1.0,0.0,0.0,0.0,0.0,0.0,0.0,1.0,0.0,3.0,3.0,1.0,40.0,0.0,0.0,1.0,0.0,0.0,0.0,2.0,0.0,0.0,1.0,0.0,0.0,1.0,0.0,0.0,18.0,0.0,0.0,0.0,0.0,0.0,0.0]|\n",
      "|(74,[0,1,2,3,4,5,6,8,9,10,11,13,16,17,18,19,20,21,22,23,24,25,31,32,34,36,41,45,55,61,67,68],[60.0,13830.0,5.0,5.0,1997.0,1998.0,791.0,137.0,928.0,928.0,701.0,1629.0,2.0,1.0,3.0,1.0,6.0,1.0,2.0,482.0,212.0,34.0,3.0,2010.0,13.0,1.0,6.0,1.0,1.0,2.0,14.0,2.0])                                 |[60.0,13830.0,5.0,5.0,1997.0,1998.0,791.0,0.0,137.0,928.0,928.0,701.0,0.0,1629.0,0.0,0.0,2.0,1.0,3.0,1.0,6.0,1.0,2.0,482.0,212.0,34.0,0.0,0.0,0.0,0.0,0.0,3.0,2010.0,0.0,13.0,0.0,1.0,0.0,0.0,0.0,0.0,6.0,0.0,0.0,0.0,1.0,0.0,0.0,0.0,0.0,0.0,0.0,0.0,0.0,0.0,1.0,0.0,0.0,0.0,0.0,0.0,2.0,0.0,0.0,0.0,0.0,0.0,14.0,2.0,0.0,0.0,0.0,0.0,0.0]     |\n",
      "|(74,[0,1,2,3,4,5,6,8,9,10,11,13,16,17,18,19,20,21,22,23,24,25,31,32,34,36,41,45,50,51,64,67,68],[60.0,9978.0,6.0,6.0,1998.0,1998.0,602.0,324.0,926.0,926.0,678.0,1604.0,2.0,1.0,3.0,1.0,7.0,1.0,2.0,470.0,360.0,36.0,6.0,2010.0,17.0,1.0,6.0,1.0,1.0,28.0,1.0,11.0,2.0])                          |[60.0,9978.0,6.0,6.0,1998.0,1998.0,602.0,0.0,324.0,926.0,926.0,678.0,0.0,1604.0,0.0,0.0,2.0,1.0,3.0,1.0,7.0,1.0,2.0,470.0,360.0,36.0,0.0,0.0,0.0,0.0,0.0,6.0,2010.0,0.0,17.0,0.0,1.0,0.0,0.0,0.0,0.0,6.0,0.0,0.0,0.0,1.0,0.0,0.0,0.0,0.0,1.0,28.0,0.0,0.0,0.0,0.0,0.0,0.0,0.0,0.0,0.0,0.0,0.0,0.0,1.0,0.0,0.0,11.0,2.0,0.0,0.0,0.0,0.0,0.0]     |\n",
      "|(74,[0,1,2,3,4,5,6,8,9,10,13,16,18,19,20,22,23,25,28,31,32,34,36,37,41,44,48,49,52,55,58,64,67,68],[120.0,5005.0,8.0,5.0,1992.0,1992.0,263.0,1017.0,1280.0,1280.0,1280.0,2.0,2.0,1.0,5.0,2.0,506.0,82.0,144.0,1.0,2010.0,30.0,1.0,1.0,16.0,1.0,2.0,2.0,1.0,1.0,2.0,1.0,42.0,1.0])                 |[120.0,5005.0,8.0,5.0,1992.0,1992.0,263.0,0.0,1017.0,1280.0,1280.0,0.0,0.0,1280.0,0.0,0.0,2.0,0.0,2.0,1.0,5.0,0.0,2.0,506.0,0.0,82.0,0.0,0.0,144.0,0.0,0.0,1.0,2010.0,0.0,30.0,0.0,1.0,1.0,0.0,0.0,0.0,16.0,0.0,0.0,1.0,0.0,0.0,0.0,2.0,2.0,0.0,0.0,1.0,0.0,0.0,1.0,0.0,0.0,2.0,0.0,0.0,0.0,0.0,0.0,1.0,0.0,0.0,42.0,1.0,0.0,0.0,0.0,0.0,0.0]   |\n",
      "+--------------------------------------------------------------------------------------------------------------------------------------------------------------------------------------------------------------------------------------------------------------------------------------------------+------------------------------------------------------------------------------------------------------------------------------------------------------------------------------------------------------------------------------------------------------------------------------------------------------------------------------------------------+\n",
      "only showing top 5 rows\n",
      "\n",
      "+-----------------------------------------------------------------------------------------------------------------------------------------------------------------------------------------------------------------------------------------------------------------------------------------------------------------------------------------------------------------------------------------------------------------------------------------------------------------------------------------------------------------------------------------------------------------------------------------------------------------------------------------------------------------------------------------------------------------------------------------------------------------------------+\n",
      "|scaledfeatures                                                                                                                                                                                                                                                                                                                                                                                                                                                                                                                                                                                                                                                                                                                                                               |\n",
      "+-----------------------------------------------------------------------------------------------------------------------------------------------------------------------------------------------------------------------------------------------------------------------------------------------------------------------------------------------------------------------------------------------------------------------------------------------------------------------------------------------------------------------------------------------------------------------------------------------------------------------------------------------------------------------------------------------------------------------------------------------------------------------------+\n",
      "|[0.46787040781433564,2.34526472884079,3.4799272633634315,5.38725567653354,64.52765478911708,92.80438565423941,NaN,NaN,NaN,NaN,2.2503187262966917,0.0,0.0,1.8452688572886573,NaN,NaN,1.8011855430907402,0.0,2.4102531317827474,4.796814789573731,3.313684124924357,0.0,NaN,NaN,1.0959343210874088,0.0,0.0,0.0,2.119775703659609,0.0,0.0,2.2039118764525685,1544.086967707572,5.5219327133036495,0.08381829252206091,0.0,0.0,0.0,0.0,0.0,0.0,0.0,0.8750435275895989,0.0,0.0,0.0,0.0,0.0,0.0,0.0,0.0,0.0,0.0,0.0,1.28690990789532,0.0,0.0,0.0,1.8068394862142372,2.3514006057187204,0.0,1.1783589160627517,0.0,0.0,0.0,0.0,0.0,1.3736026850584753,0.0,0.0,0.0,0.0,0.0,0.0]                                                                                                      |\n",
      "|[0.46787040781433564,2.8790132409543587,4.175912716036118,5.38725567653354,64.42893833609956,92.66241056144862,NaN,NaN,NaN,NaN,3.337805342911053,0.0,0.0,2.737011508188198,NaN,NaN,1.8011855430907402,1.9880056583414822,3.615379697674121,4.796814789573731,3.9764209499092287,0.0,NaN,NaN,3.0764442013382265,0.5226225586320549,0.0,0.0,0.0,0.0,19.815887338092033,2.2039118764525685,1544.086967707572,0.0,1.1734560953088526,0.0,1.792550951843203,0.0,0.0,1.303247507223951,0.0,0.0,0.0,0.0,0.0,0.0,1.8366220039155448,0.0,1.3539571443560334,1.2474404451885925,1.3318650907551712,0.5455764803998085,0.0,0.0,1.28690990789532,0.0,0.0,0.0,1.2045596574761581,0.0,0.0,1.1783589160627517,0.0,0.0,1.3861362510852366,0.0,0.0,0.7975757526145986,0.0,0.0,0.0,0.0,0.0,0.0]|\n",
      "|[1.403611223443007,2.790828704170378,3.4799272633634315,4.489379730444617,65.71225222532729,94.55541179865902,NaN,NaN,NaN,NaN,2.330687252235859,1.6666261443158064,0.0,3.354847063083954,NaN,NaN,3.6023710861814804,1.9880056583414822,3.615379697674121,4.796814789573731,3.9764209499092287,1.5445913011474997,NaN,NaN,1.6595576862180765,0.4935879720413851,0.0,0.0,0.0,0.0,0.0,1.1019559382262842,1544.086967707572,0.0,0.544818901393396,0.0,1.792550951843203,0.0,0.0,0.0,0.0,1.008781732970931,0.0,0.0,0.0,0.8846056872388014,0.0,0.0,0.0,0.0,0.0,0.0,0.0,0.0,0.0,1.045827368460077,0.0,0.0,0.0,0.0,0.0,2.3567178321255033,0.0,0.0,0.0,0.0,0.0,0.620336696478021,2.1206094298944134,0.0,0.0,0.0,0.0,0.0]                                                              |\n",
      "|[1.403611223443007,2.0135132906877824,4.175912716036118,5.38725567653354,65.74515770966646,94.55541179865902,NaN,NaN,NaN,NaN,2.3256642193646613,1.6119436887961722,0.0,3.303360766842641,NaN,NaN,3.6023710861814804,1.9880056583414822,3.615379697674121,4.796814789573731,4.6391577748941,1.5445913011474997,NaN,NaN,2.8181168256533375,0.5226225586320549,0.0,0.0,0.0,0.0,0.0,2.2039118764525685,1544.086967707572,0.0,0.7124554864375178,0.0,1.792550951843203,0.0,0.0,0.0,0.0,1.008781732970931,0.0,0.0,0.0,0.8846056872388014,0.0,0.0,0.0,0.0,1.3318650907551712,0.381903536279866,0.0,0.0,0.0,0.0,0.0,0.0,0.0,0.0,0.0,0.0,0.0,0.0,1.3861362510852366,0.0,0.0,0.487407404375588,2.1206094298944134,0.0,0.0,0.0,0.0,0.0]                                                 |\n",
      "|[2.807222446886014,1.0099853698028012,5.56788362138149,4.489379730444617,65.54772480363143,94.27146161307746,NaN,NaN,NaN,NaN,3.2147410375667023,0.0,0.0,2.6360983675552245,NaN,NaN,3.6023710861814804,0.0,2.4102531317827474,4.796814789573731,3.313684124924357,0.0,NaN,NaN,0.0,1.1904180502174582,0.0,0.0,2.543730844391531,0.0,0.0,0.3673186460754281,1544.086967707572,0.0,1.2572743878309136,0.0,1.792550951843203,1.78195028928785,0.0,0.0,0.0,2.690084621255816,0.0,0.0,1.1330308801693818,0.0,0.0,0.0,0.9026380962373556,0.8316269634590617,0.0,0.0,1.5616991391784476,0.0,0.0,1.045827368460077,0.0,0.0,1.2045596574761581,0.0,0.0,0.0,0.0,0.0,1.3861362510852366,0.0,0.0,1.8610100894340633,1.0603047149472067,0.0,0.0,0.0,0.0,0.0]                                |\n",
      "+-----------------------------------------------------------------------------------------------------------------------------------------------------------------------------------------------------------------------------------------------------------------------------------------------------------------------------------------------------------------------------------------------------------------------------------------------------------------------------------------------------------------------------------------------------------------------------------------------------------------------------------------------------------------------------------------------------------------------------------------------------------------------------+\n",
      "only showing top 5 rows\n",
      "\n"
     ]
    }
   ],
   "source": [
    "from pyspark.sql import functions as F\n",
    "from pyspark.ml.linalg import Vectors, VectorUDT\n",
    "\n",
    "# Define a udf that converts sparse vector into dense vector\n",
    "# You cannot create your own custom function and run that against the data directly. \n",
    "# In Spark, You have to register the function first using udf function\n",
    "t_sparseToDense = F.udf(lambda v : Vectors.dense(v), VectorUDT())\n",
    "\n",
    "# We then call the function here passing the column name on which the function has to be applied\n",
    "t_densefeatureDF = t_assembledDF.withColumn('features_array', sparseToDense('features'))\n",
    "\n",
    "t_densefeatureDF.select(\"features\", \"features_array\").show(5, False)\n",
    "\n",
    "# Import StandardScaler from pyspark.ml.feature package\n",
    "from pyspark.ml.feature import StandardScaler\n",
    "\n",
    "# Create the StandardScaler object. It only take feature column (dense vector)\n",
    "t_stdscaler = StandardScaler(inputCol= \"features_array\", outputCol= \"scaledfeatures\")\n",
    "\n",
    "# Fit the StandardScaler object on the output of the dense vector data and transform\n",
    "t_stdscaledDF = t_stdscaler.fit(t_densefeatureDF).transform(t_densefeatureDF)\n",
    "t_stdscaledDF.select(\"scaledfeatures\" ).show(5, False)"
   ]
  },
  {
   "cell_type": "code",
   "execution_count": 54,
   "metadata": {
    "id": "3Iyt1XmF0jc9"
   },
   "outputs": [],
   "source": [
    "t_predictonDF = lr_model.transform(t_stdscaledDF)\n"
   ]
  },
  {
   "cell_type": "code",
   "execution_count": 55,
   "metadata": {
    "colab": {
     "base_uri": "https://localhost:8080/"
    },
    "id": "RGxB2BsS1JpC",
    "outputId": "41396483-5cbc-4b3b-d699-22cca86714e6"
   },
   "outputs": [
    {
     "name": "stdout",
     "output_type": "stream",
     "text": [
      "+------------------+\n",
      "|        Prediction|\n",
      "+------------------+\n",
      "| 92709.78232681658|\n",
      "|171391.33162348135|\n",
      "|166421.28201107704|\n",
      "| 194859.7121313028|\n",
      "| 197891.4214050481|\n",
      "+------------------+\n",
      "only showing top 5 rows\n",
      "\n"
     ]
    }
   ],
   "source": [
    "t_predictonDF.select('Prediction').show(5)"
   ]
  },
  {
   "cell_type": "code",
   "execution_count": 56,
   "metadata": {
    "id": "hKD-MPwq19Jv"
   },
   "outputs": [],
   "source": [
    "p_test = test_df.toPandas()\n",
    "id_test = p_test['Id']\n"
   ]
  },
  {
   "cell_type": "code",
   "execution_count": 57,
   "metadata": {
    "id": "gKK5cqoFijkg"
   },
   "outputs": [],
   "source": [
    "pd_t_predictonDF = t_predictonDF.toPandas()\n"
   ]
  },
  {
   "cell_type": "code",
   "execution_count": 58,
   "metadata": {
    "colab": {
     "base_uri": "https://localhost:8080/"
    },
    "id": "WEVO7Lrjijx3",
    "outputId": "5b1a8495-03cf-44a7-f5d8-d2e6241ad114"
   },
   "outputs": [
    {
     "data": {
      "text/plain": [
       "Index(['MSSubClass', 'LotArea', 'OverallQual', 'OverallCond', 'YearBuilt',\n",
       "       'YearRemodAdd', 'BsmtFinSF1', 'BsmtFinSF2', 'BsmtUnfSF', 'TotalBsmtSF',\n",
       "       '1stFlrSF', '2ndFlrSF', 'LowQualFinSF', 'GrLivArea', 'BsmtFullBath',\n",
       "       'BsmtHalfBath', 'FullBath', 'HalfBath', 'BedroomAbvGr', 'KitchenAbvGr',\n",
       "       'TotRmsAbvGrd', 'Fireplaces', 'GarageCars', 'GarageArea', 'WoodDeckSF',\n",
       "       'OpenPorchSF', 'EnclosedPorch', '3SsnPorch', 'ScreenPorch', 'PoolArea',\n",
       "       'MiscVal', 'MoSold', 'YrSold', 'MSZoning_index', 'LotFrontage_index',\n",
       "       'Street_index', 'LotShape_index', 'LandContour_index',\n",
       "       'Utilities_index', 'LotConfig_index', 'LandSlope_index',\n",
       "       'Neighborhood_index', 'Condition1_index', 'Condition2_index',\n",
       "       'BldgType_index', 'HouseStyle_index', 'RoofStyle_index',\n",
       "       'RoofMatl_index', 'Exterior1st_index', 'Exterior2nd_index',\n",
       "       'MasVnrType_index', 'MasVnrArea_index', 'ExterQual_index',\n",
       "       'ExterCond_index', 'Foundation_index', 'BsmtQual_index',\n",
       "       'BsmtCond_index', 'BsmtExposure_index', 'BsmtFinType1_index',\n",
       "       'BsmtFinType2_index', 'Heating_index', 'HeatingQC_index',\n",
       "       'CentralAir_index', 'Electrical_index', 'KitchenQual_index',\n",
       "       'Functional_index', 'GarageType_index', 'GarageYrBlt_index',\n",
       "       'GarageFinish_index', 'GarageQual_index', 'GarageCond_index',\n",
       "       'PavedDrive_index', 'SaleType_index', 'SaleCondition_index', 'features',\n",
       "       'features_array', 'scaledfeatures', 'prediction'],\n",
       "      dtype='object')"
      ]
     },
     "execution_count": 58,
     "metadata": {},
     "output_type": "execute_result"
    }
   ],
   "source": [
    "pd_t_predictonDF.columns"
   ]
  },
  {
   "cell_type": "code",
   "execution_count": 59,
   "metadata": {
    "id": "dRWD0LuUikJ3"
   },
   "outputs": [],
   "source": [
    "import pandas as pd\n",
    "res = pd.concat([id_test,pd_t_predictonDF['prediction']],axis=1)\n"
   ]
  },
  {
   "cell_type": "code",
   "execution_count": 60,
   "metadata": {
    "colab": {
     "base_uri": "https://localhost:8080/"
    },
    "id": "y9KaNhdAiwb2",
    "outputId": "fd0c61d0-812b-46ba-937d-dc040392433c"
   },
   "outputs": [
    {
     "data": {
      "text/plain": [
       "0     92709.782327\n",
       "1    171391.331623\n",
       "2    166421.282011\n",
       "3    194859.712131\n",
       "4    197891.421405\n",
       "Name: prediction, dtype: float64"
      ]
     },
     "execution_count": 60,
     "metadata": {},
     "output_type": "execute_result"
    }
   ],
   "source": [
    "pd_t_predictonDF['prediction'].head()"
   ]
  },
  {
   "cell_type": "code",
   "execution_count": 61,
   "metadata": {
    "colab": {
     "base_uri": "https://localhost:8080/",
     "height": 206
    },
    "id": "ouWAjFp3i0_E",
    "outputId": "88b11c11-61f3-4ac7-b0c0-d2baaaf53d0d"
   },
   "outputs": [
    {
     "data": {
      "text/html": [
       "<div>\n",
       "<style scoped>\n",
       "    .dataframe tbody tr th:only-of-type {\n",
       "        vertical-align: middle;\n",
       "    }\n",
       "\n",
       "    .dataframe tbody tr th {\n",
       "        vertical-align: top;\n",
       "    }\n",
       "\n",
       "    .dataframe thead th {\n",
       "        text-align: right;\n",
       "    }\n",
       "</style>\n",
       "<table border=\"1\" class=\"dataframe\">\n",
       "  <thead>\n",
       "    <tr style=\"text-align: right;\">\n",
       "      <th></th>\n",
       "      <th>Id</th>\n",
       "      <th>prediction</th>\n",
       "    </tr>\n",
       "  </thead>\n",
       "  <tbody>\n",
       "    <tr>\n",
       "      <th>0</th>\n",
       "      <td>1461</td>\n",
       "      <td>92709.782327</td>\n",
       "    </tr>\n",
       "    <tr>\n",
       "      <th>1</th>\n",
       "      <td>1462</td>\n",
       "      <td>171391.331623</td>\n",
       "    </tr>\n",
       "    <tr>\n",
       "      <th>2</th>\n",
       "      <td>1463</td>\n",
       "      <td>166421.282011</td>\n",
       "    </tr>\n",
       "    <tr>\n",
       "      <th>3</th>\n",
       "      <td>1464</td>\n",
       "      <td>194859.712131</td>\n",
       "    </tr>\n",
       "    <tr>\n",
       "      <th>4</th>\n",
       "      <td>1465</td>\n",
       "      <td>197891.421405</td>\n",
       "    </tr>\n",
       "  </tbody>\n",
       "</table>\n",
       "</div>"
      ],
      "text/plain": [
       "     Id     prediction\n",
       "0  1461   92709.782327\n",
       "1  1462  171391.331623\n",
       "2  1463  166421.282011\n",
       "3  1464  194859.712131\n",
       "4  1465  197891.421405"
      ]
     },
     "execution_count": 61,
     "metadata": {},
     "output_type": "execute_result"
    }
   ],
   "source": [
    "res.head()"
   ]
  },
  {
   "cell_type": "code",
   "execution_count": 62,
   "metadata": {
    "id": "g3TelqdnixBt"
   },
   "outputs": [],
   "source": [
    "res.to_csv('result.csv')"
   ]
  },
  {
   "cell_type": "code",
   "execution_count": 63,
   "metadata": {
    "colab": {
     "base_uri": "https://localhost:8080/"
    },
    "id": "isf_xvOHi_y4",
    "outputId": "b13573b7-5bf1-4d66-d55f-94e3f7bb257f"
   },
   "outputs": [
    {
     "data": {
      "text/plain": [
       "pandas.core.series.Series"
      ]
     },
     "execution_count": 63,
     "metadata": {},
     "output_type": "execute_result"
    }
   ],
   "source": [
    "type(id_test)"
   ]
  },
  {
   "cell_type": "code",
   "execution_count": 64,
   "metadata": {
    "colab": {
     "base_uri": "https://localhost:8080/"
    },
    "id": "1V1FUB4Oi_9u",
    "outputId": "a9b46b66-568b-4af8-97a4-b305328b9c4f"
   },
   "outputs": [
    {
     "data": {
      "text/plain": [
       "pyspark.sql.dataframe.DataFrame"
      ]
     },
     "execution_count": 64,
     "metadata": {},
     "output_type": "execute_result"
    }
   ],
   "source": [
    "type(test_df)"
   ]
  },
  {
   "cell_type": "code",
   "execution_count": 65,
   "metadata": {},
   "outputs": [],
   "source": [
    "lr_model.save('Model.sav')\n"
   ]
  },
  {
   "cell_type": "code",
   "execution_count": 66,
   "metadata": {
    "id": "qTXzstz6jAGT"
   },
   "outputs": [
    {
     "name": "stdout",
     "output_type": "stream",
     "text": [
      "+----------+-------+-----------+-----------+---------+------------+----------+----------+---------+-----------+--------+--------+------------+---------+------------+------------+--------+--------+------------+------------+------------+----------+----------+----------+----------+-----------+-------------+---------+-----------+--------+-------+------+------+--------------+-----------------+------------+--------------+-----------------+---------------+---------------+---------------+------------------+----------------+----------------+--------------+----------------+---------------+--------------+-----------------+-----------------+----------------+----------------+---------------+---------------+----------------+--------------+--------------+------------------+------------------+------------------+-------------+---------------+----------------+----------------+-----------------+----------------+----------------+-----------------+------------------+----------------+----------------+----------------+--------------+-------------------+--------------------+--------------------+--------------------+------------------+\n",
      "|MSSubClass|LotArea|OverallQual|OverallCond|YearBuilt|YearRemodAdd|BsmtFinSF1|BsmtFinSF2|BsmtUnfSF|TotalBsmtSF|1stFlrSF|2ndFlrSF|LowQualFinSF|GrLivArea|BsmtFullBath|BsmtHalfBath|FullBath|HalfBath|BedroomAbvGr|KitchenAbvGr|TotRmsAbvGrd|Fireplaces|GarageCars|GarageArea|WoodDeckSF|OpenPorchSF|EnclosedPorch|3SsnPorch|ScreenPorch|PoolArea|MiscVal|MoSold|YrSold|MSZoning_index|LotFrontage_index|Street_index|LotShape_index|LandContour_index|Utilities_index|LotConfig_index|LandSlope_index|Neighborhood_index|Condition1_index|Condition2_index|BldgType_index|HouseStyle_index|RoofStyle_index|RoofMatl_index|Exterior1st_index|Exterior2nd_index|MasVnrType_index|MasVnrArea_index|ExterQual_index|ExterCond_index|Foundation_index|BsmtQual_index|BsmtCond_index|BsmtExposure_index|BsmtFinType1_index|BsmtFinType2_index|Heating_index|HeatingQC_index|CentralAir_index|Electrical_index|KitchenQual_index|Functional_index|GarageType_index|GarageYrBlt_index|GarageFinish_index|GarageQual_index|GarageCond_index|PavedDrive_index|SaleType_index|SaleCondition_index|            features|      features_array|      scaledfeatures|        prediction|\n",
      "+----------+-------+-----------+-----------+---------+------------+----------+----------+---------+-----------+--------+--------+------------+---------+------------+------------+--------+--------+------------+------------+------------+----------+----------+----------+----------+-----------+-------------+---------+-----------+--------+-------+------+------+--------------+-----------------+------------+--------------+-----------------+---------------+---------------+---------------+------------------+----------------+----------------+--------------+----------------+---------------+--------------+-----------------+-----------------+----------------+----------------+---------------+---------------+----------------+--------------+--------------+------------------+------------------+------------------+-------------+---------------+----------------+----------------+-----------------+----------------+----------------+-----------------+------------------+----------------+----------------+----------------+--------------+-------------------+--------------------+--------------------+--------------------+------------------+\n",
      "|        20|  11622|          5|          6|     1961|        1961|       468|       144|      270|        882|     896|       0|           0|      896|           0|           0|       1|       0|           2|           1|           5|         0|         1|       730|       140|          0|            0|        0|        120|       0|      0|     6|  2010|           4.0|              2.0|         0.0|           0.0|              0.0|            0.0|            0.0|            0.0|               0.0|             1.0|             0.0|           0.0|             0.0|            0.0|           0.0|              0.0|              0.0|             0.0|             0.0|            0.0|            0.0|             1.0|           0.0|           0.0|               0.0|               3.0|               3.0|          0.0|            1.0|             0.0|             0.0|              0.0|             0.0|             0.0|             31.0|               0.0|             0.0|             0.0|             0.0|           0.0|                0.0|(74,[0,1,2,3,4,5,...|[20.0,11622.0,5.0...|[0.46787040781433...| 92709.78232681658|\n",
      "|        20|  14267|          6|          6|     1958|        1958|       923|         0|      406|       1329|    1329|       0|           0|     1329|           0|           0|       1|       1|           3|           1|           6|         0|         1|       312|       393|         36|            0|        0|          0|       0|  12500|     6|  2010|           0.0|             28.0|         0.0|           1.0|              0.0|            0.0|            1.0|            0.0|               0.0|             0.0|             0.0|           0.0|             0.0|            1.0|           0.0|              3.0|              3.0|             1.0|            40.0|            0.0|            0.0|             1.0|           0.0|           0.0|               0.0|               2.0|               0.0|          0.0|            1.0|             0.0|             0.0|              1.0|             0.0|             0.0|             18.0|               0.0|             0.0|             0.0|             0.0|           0.0|                0.0|(74,[0,1,2,3,4,5,...|[20.0,14267.0,6.0...|[0.46787040781433...|171391.33162348135|\n",
      "|        60|  13830|          5|          5|     1997|        1998|       791|         0|      137|        928|     928|     701|           0|     1629|           0|           0|       2|       1|           3|           1|           6|         1|         2|       482|       212|         34|            0|        0|          0|       0|      0|     3|  2010|           0.0|             13.0|         0.0|           1.0|              0.0|            0.0|            0.0|            0.0|               6.0|             0.0|             0.0|           0.0|             1.0|            0.0|           0.0|              0.0|              0.0|             0.0|             0.0|            0.0|            0.0|             0.0|           1.0|           0.0|               0.0|               0.0|               0.0|          0.0|            2.0|             0.0|             0.0|              0.0|             0.0|             0.0|             14.0|               2.0|             0.0|             0.0|             0.0|           0.0|                0.0|(74,[0,1,2,3,4,5,...|[60.0,13830.0,5.0...|[1.40361122344300...|166421.28201107704|\n",
      "|        60|   9978|          6|          6|     1998|        1998|       602|         0|      324|        926|     926|     678|           0|     1604|           0|           0|       2|       1|           3|           1|           7|         1|         2|       470|       360|         36|            0|        0|          0|       0|      0|     6|  2010|           0.0|             17.0|         0.0|           1.0|              0.0|            0.0|            0.0|            0.0|               6.0|             0.0|             0.0|           0.0|             1.0|            0.0|           0.0|              0.0|              0.0|             1.0|            28.0|            0.0|            0.0|             0.0|           0.0|           0.0|               0.0|               0.0|               0.0|          0.0|            0.0|             0.0|             0.0|              1.0|             0.0|             0.0|             11.0|               2.0|             0.0|             0.0|             0.0|           0.0|                0.0|(74,[0,1,2,3,4,5,...|[60.0,9978.0,6.0,...|[1.40361122344300...| 194859.7121313028|\n",
      "|       120|   5005|          8|          5|     1992|        1992|       263|         0|     1017|       1280|    1280|       0|           0|     1280|           0|           0|       2|       0|           2|           1|           5|         0|         2|       506|         0|         82|            0|        0|        144|       0|      0|     1|  2010|           0.0|             30.0|         0.0|           1.0|              1.0|            0.0|            0.0|            0.0|              16.0|             0.0|             0.0|           1.0|             0.0|            0.0|           0.0|              2.0|              2.0|             0.0|             0.0|            1.0|            0.0|             0.0|           1.0|           0.0|               0.0|               2.0|               0.0|          0.0|            0.0|             0.0|             0.0|              1.0|             0.0|             0.0|             42.0|               1.0|             0.0|             0.0|             0.0|           0.0|                0.0|(74,[0,1,2,3,4,5,...|[120.0,5005.0,8.0...|[2.80722244688601...| 197891.4214050481|\n",
      "|        60|  10000|          6|          5|     1993|        1994|         0|         0|      763|        763|     763|     892|           0|     1655|           0|           0|       2|       1|           3|           1|           7|         1|         2|       440|       157|         84|            0|        0|          0|       0|      0|     4|  2010|           0.0|              5.0|         0.0|           1.0|              0.0|            0.0|            1.0|            0.0|               6.0|             0.0|             0.0|           0.0|             1.0|            0.0|           0.0|              2.0|              2.0|             0.0|             0.0|            0.0|            0.0|             0.0|           1.0|           0.0|               0.0|               1.0|               0.0|          0.0|            2.0|             0.0|             0.0|              0.0|             0.0|             0.0|             10.0|               2.0|             0.0|             0.0|             0.0|           0.0|                0.0|(74,[0,1,2,3,4,5,...|[60.0,10000.0,6.0...|[1.40361122344300...|171237.85798040242|\n",
      "|        20|   7980|          6|          7|     1992|        2007|       935|         0|      233|       1168|    1187|       0|           0|     1187|           1|           0|       2|       0|           3|           1|           6|         0|         2|       420|       483|         21|            0|        0|          0|       0|    500|     3|  2010|           0.0|              0.0|         0.0|           1.0|              0.0|            0.0|            0.0|            0.0|               6.0|             0.0|             0.0|           0.0|             0.0|            0.0|           0.0|              2.0|              2.0|             0.0|             0.0|            0.0|            1.0|             0.0|           1.0|           0.0|               0.0|               2.0|               0.0|          0.0|            0.0|             0.0|             0.0|              0.0|             0.0|             0.0|             42.0|               2.0|             0.0|             0.0|             0.0|           0.0|                0.0|(74,[0,1,2,3,4,5,...|[20.0,7980.0,6.0,...|[0.46787040781433...|185336.51162693137|\n",
      "|        60|   8402|          6|          5|     1998|        1998|         0|         0|      789|        789|     789|     676|           0|     1465|           0|           0|       2|       1|           3|           1|           7|         1|         2|       393|         0|         75|            0|        0|          0|       0|      0|     5|  2010|           0.0|              9.0|         0.0|           1.0|              0.0|            0.0|            0.0|            0.0|               6.0|             0.0|             0.0|           0.0|             1.0|            0.0|           0.0|              0.0|              0.0|             0.0|             0.0|            0.0|            0.0|             0.0|           1.0|           0.0|               0.0|               1.0|               0.0|          0.0|            2.0|             0.0|             0.0|              0.0|             0.0|             0.0|             11.0|               2.0|             0.0|             0.0|             0.0|           0.0|                0.0|(74,[0,1,2,3,4,5,...|[60.0,8402.0,6.0,...|[1.40361122344300...| 161055.8246607564|\n",
      "|        20|  10176|          7|          5|     1990|        1990|       637|         0|      663|       1300|    1341|       0|           0|     1341|           1|           0|       1|       1|           2|           1|           5|         1|         2|       506|       192|          0|            0|        0|          0|       0|      0|     2|  2010|           0.0|              7.0|         0.0|           0.0|              0.0|            0.0|            0.0|            0.0|               6.0|             0.0|             0.0|           0.0|             0.0|            0.0|           0.0|              2.0|              2.0|             0.0|             0.0|            0.0|            0.0|             0.0|           1.0|           0.0|               2.0|               0.0|               0.0|          0.0|            2.0|             0.0|             0.0|              1.0|             0.0|             0.0|             54.0|               0.0|             0.0|             0.0|             0.0|           0.0|                0.0|(74,[0,1,2,3,4,5,...|[20.0,10176.0,7.0...|[0.46787040781433...|199597.39650825178|\n",
      "|        20|   8400|          4|          5|     1970|        1970|       804|        78|        0|        882|     882|       0|           0|      882|           1|           0|       1|       0|           2|           1|           4|         0|         2|       525|       240|          0|            0|        0|          0|       0|      0|     4|  2010|           0.0|              3.0|         0.0|           0.0|              0.0|            0.0|            1.0|            0.0|               0.0|             0.0|             0.0|           0.0|             0.0|            0.0|           0.0|              4.0|              4.0|             0.0|             0.0|            0.0|            0.0|             1.0|           0.0|           0.0|               0.0|               2.0|               1.0|          0.0|            1.0|             0.0|             0.0|              0.0|             0.0|             0.0|             47.0|               2.0|             0.0|             0.0|             0.0|           0.0|                0.0|(74,[0,1,2,3,4,5,...|[20.0,8400.0,4.0,...|[0.46787040781433...|103713.30265743937|\n",
      "|       120|   5858|          7|          5|     1999|        1999|      1051|         0|      354|       1405|    1337|       0|           0|     1337|           1|           0|       2|       0|           2|           1|           5|         1|         2|       511|       203|         68|            0|        0|          0|       0|      0|     6|  2010|           4.0|             75.0|         0.0|           1.0|              0.0|            0.0|            3.0|            0.0|               0.0|             0.0|             0.0|           1.0|             0.0|            0.0|           0.0|              1.0|              1.0|             0.0|             0.0|            1.0|            0.0|             0.0|           1.0|           0.0|               0.0|               0.0|               4.0|          0.0|            0.0|             0.0|             0.0|              1.0|             0.0|             0.0|             15.0|               2.0|             0.0|             0.0|             0.0|           0.0|                0.0|(74,[0,1,2,3,4,5,...|[120.0,5858.0,7.0...|[2.80722244688601...| 193326.7010514487|\n",
      "|       160|   1680|          6|          5|     1971|        1971|       156|         0|      327|        483|     483|     504|           0|      987|           0|           0|       1|       1|           2|           1|           5|         0|         1|       264|       275|          0|            0|        0|          0|       0|      0|     2|  2010|           1.0|             10.0|         0.0|           0.0|              0.0|            0.0|            0.0|            0.0|              20.0|             0.0|             0.0|           3.0|             1.0|            0.0|           0.0|              2.0|              2.0|             1.0|            10.0|            0.0|            0.0|             1.0|           0.0|           0.0|               0.0|               3.0|               0.0|          0.0|            1.0|             0.0|             0.0|              0.0|             0.0|             1.0|             52.0|               0.0|             0.0|             0.0|             0.0|           2.0|                0.0|(74,[0,1,2,3,4,5,...|[160.0,1680.0,6.0...|[3.74296326251468...|106029.94440670544|\n",
      "|       160|   1680|          5|          5|     1971|        1971|       300|         0|      225|        525|     525|     567|           0|     1092|           0|           0|       1|       1|           3|           1|           6|         0|         1|       320|         0|          0|            0|        0|          0|       0|      0|     3|  2010|           1.0|             10.0|         0.0|           0.0|              0.0|            0.0|            0.0|            0.0|              20.0|             0.0|             0.0|           3.0|             1.0|            0.0|           0.0|              2.0|              2.0|             1.0|           110.0|            0.0|            0.0|             1.0|           0.0|           0.0|               0.0|               3.0|               0.0|          0.0|            1.0|             0.0|             0.0|              0.0|             0.0|             1.0|             14.0|               0.0|             0.0|             0.0|             0.0|           0.0|                0.0|(74,[0,1,2,3,4,5,...|[160.0,1680.0,5.0...|[3.74296326251468...| 90246.88880857057|\n",
      "|       160|   2280|          6|          6|     1975|        1975|       514|         0|      341|        855|     855|     601|           0|     1456|           0|           0|       2|       1|           3|           1|           6|         1|         2|       440|       173|          0|            0|        0|          0|       0|      0|     6|  2010|           0.0|              8.0|         0.0|           0.0|              0.0|            0.0|            3.0|            0.0|              21.0|             0.0|             0.0|           3.0|             1.0|            0.0|           0.0|              4.0|             10.0|             0.0|             0.0|            0.0|            0.0|             1.0|           0.0|           0.0|               0.0|               2.0|               0.0|          0.0|            1.0|             0.0|             0.0|              1.0|             0.0|             0.0|             28.0|               0.0|             0.0|             0.0|             0.0|           0.0|                0.0|(74,[0,1,2,3,4,5,...|[160.0,2280.0,6.0...|[3.74296326251468...|159373.34767028806|\n",
      "|       120|   2280|          7|          6|     1975|        1975|         0|         0|      836|        836|     836|       0|           0|      836|           0|           0|       1|       0|           2|           1|           4|         0|         1|       308|         0|         30|            0|        0|          0|       0|      0|     6|  2010|           0.0|              8.0|         0.0|           0.0|              0.0|            0.0|            3.0|            0.0|              21.0|             0.0|             0.0|           3.0|             0.0|            0.0|           0.0|              4.0|             10.0|             0.0|             0.0|            0.0|            0.0|             1.0|           1.0|           0.0|               0.0|               1.0|               0.0|          0.0|            0.0|             0.0|             0.0|              0.0|             0.0|             0.0|             28.0|               0.0|             0.0|             0.0|             0.0|           0.0|                0.0|(74,[0,1,2,3,4,5,...|[120.0,2280.0,7.0...|[2.80722244688601...| 114269.0598403681|\n",
      "|        60|  12858|          9|          5|     2009|        2010|         0|         0|     1590|       1590|    1627|     707|           0|     2334|           0|           0|       2|       1|           3|           1|          10|         1|         3|       751|       144|        133|            0|        0|          0|       0|      0|     1|  2010|           0.0|             51.0|         0.0|           1.0|              0.0|            0.0|            0.0|            0.0|               5.0|             0.0|             0.0|           0.0|             1.0|            0.0|           0.0|              0.0|              0.0|             2.0|            46.0|            2.0|            0.0|             0.0|           2.0|           0.0|               0.0|               1.0|               0.0|          0.0|            0.0|             0.0|             0.0|              2.0|             0.0|             0.0|             61.0|               2.0|             0.0|             0.0|             0.0|           1.0|                1.0|(74,[0,1,2,3,4,5,...|[60.0,12858.0,9.0...|[1.40361122344300...| 327493.1612231706|\n",
      "|        20|  12883|          8|          5|     2009|        2010|         0|         0|     1544|       1544|    1544|       0|           0|     1544|           0|           0|       2|       0|           3|           1|           7|         0|         3|       868|         0|         35|            0|        0|          0|       0|      0|     6|  2010|           0.0|             56.0|         0.0|           1.0|              0.0|            0.0|            1.0|            0.0|               5.0|             0.0|             0.0|           0.0|             0.0|            0.0|           0.0|              0.0|              0.0|             2.0|            16.0|            1.0|            0.0|             0.0|           1.0|           0.0|               0.0|               1.0|               0.0|          0.0|            0.0|             0.0|             0.0|              1.0|             0.0|             0.0|             61.0|               1.0|             0.0|             0.0|             0.0|           1.0|                1.0|(74,[0,1,2,3,4,5,...|[20.0,12883.0,8.0...|[0.46787040781433...|244178.76036492875|\n",
      "|        20|  11520|          9|          5|     2005|        2005|       110|         0|     1588|       1698|    1698|       0|           0|     1698|           0|           0|       2|       0|           3|           1|           7|         1|         3|       730|       192|         74|            0|        0|          0|       0|      0|     6|  2010|           0.0|             14.0|         0.0|           0.0|              0.0|            0.0|            0.0|            0.0|               5.0|             4.0|             0.0|           0.0|             0.0|            1.0|           0.0|              0.0|              0.0|             1.0|           267.0|            1.0|            0.0|             0.0|           2.0|           0.0|               0.0|               0.0|               0.0|          0.0|            0.0|             0.0|             0.0|              2.0|             0.0|             0.0|              1.0|               2.0|             0.0|             0.0|             0.0|           0.0|                0.0|(74,[0,1,2,3,4,5,...|[20.0,11520.0,9.0...|[0.46787040781433...| 267204.8227840692|\n",
      "|        20|  14122|          8|          5|     2005|        2006|        28|         0|     1794|       1822|    1822|       0|           0|     1822|           0|           0|       2|       0|           3|           1|           8|         1|         3|       678|         0|        119|            0|        0|          0|       0|      0|     2|  2010|           0.0|             32.0|         0.0|           1.0|              0.0|            0.0|            0.0|            0.0|               5.0|             0.0|             0.0|           0.0|             0.0|            1.0|           0.0|              5.0|              5.0|             1.0|            31.0|            1.0|            0.0|             0.0|           2.0|           0.0|               0.0|               0.0|               0.0|          0.0|            0.0|             0.0|             0.0|              2.0|             0.0|             0.0|              1.0|               1.0|             0.0|             0.0|             0.0|           0.0|                0.0|(74,[0,1,2,3,4,5,...|[20.0,14122.0,8.0...|[0.46787040781433...| 269968.4366260469|\n",
      "|        20|  14300|          9|          5|     2003|        2004|      1373|         0|     1473|       2846|    2696|       0|           0|     2696|           1|           0|       2|       1|           3|           1|          10|         2|         3|       958|       220|        150|            0|        0|          0|       0|      0|     6|  2010|           0.0|             38.0|         0.0|           0.0|              1.0|            0.0|            0.0|            1.0|               5.0|             0.0|             0.0|           0.0|             0.0|            1.0|           0.0|              0.0|              0.0|             1.0|           130.0|            2.0|            0.0|             0.0|           2.0|           0.0|               2.0|               0.0|               0.0|          0.0|            0.0|             0.0|             0.0|              2.0|             0.0|             0.0|              5.0|               2.0|             0.0|             0.0|             0.0|           0.0|                0.0|(74,[0,1,2,3,4,5,...|[20.0,14300.0,9.0...|[0.46787040781433...| 408870.0028315468|\n",
      "+----------+-------+-----------+-----------+---------+------------+----------+----------+---------+-----------+--------+--------+------------+---------+------------+------------+--------+--------+------------+------------+------------+----------+----------+----------+----------+-----------+-------------+---------+-----------+--------+-------+------+------+--------------+-----------------+------------+--------------+-----------------+---------------+---------------+---------------+------------------+----------------+----------------+--------------+----------------+---------------+--------------+-----------------+-----------------+----------------+----------------+---------------+---------------+----------------+--------------+--------------+------------------+------------------+------------------+-------------+---------------+----------------+----------------+-----------------+----------------+----------------+-----------------+------------------+----------------+----------------+----------------+--------------+-------------------+--------------------+--------------------+--------------------+------------------+\n",
      "only showing top 20 rows\n",
      "\n"
     ]
    }
   ],
   "source": [
    "\n",
    "from pyspark.ml.regression import LinearRegressionModel\n",
    "\n",
    "lrM = LinearRegressionModel.load('Model.sav')\n",
    "Prediction2 = lrM.transform(t_stdscaledDF)\n",
    "Prediction2.show()"
   ]
  },
  {
   "cell_type": "code",
   "execution_count": null,
   "metadata": {
    "id": "QeV5e274jATq"
   },
   "outputs": [],
   "source": []
  },
  {
   "cell_type": "code",
   "execution_count": null,
   "metadata": {
    "id": "68eYc05z87Jk"
   },
   "outputs": [],
   "source": [
    "# # import Pipeline from pyspark.ml package\n",
    "# from pyspark.ml import Pipeline\n",
    "\n",
    "# # Build the pipeline object by providing stages(transformers + Estimator) \n",
    "# # that you need the dataframe to pass through\n",
    "# # Transfoermers - binarizer, bucketizer, indexers, encoder, assembler\n",
    "# # Estimator - lr\n",
    "# lrpipeline = Pipeline(stages=[binarizer, bucketizer, indexers, encoder, assembler, lr])\n",
    "\n",
    "# # fit the pipeline for the trainind data\n",
    "# lrpipelinemodel = lrpipeline.fit(trainDF)\n",
    "\n",
    "# # transform the data\n",
    "# lrpipelinepredicted = lrpipelinemodel.transform(testDF)\n",
    "\n",
    "# # view some of the columns generated\n",
    "# lrpipelinepredicted.select('label', 'rawPrediction', 'probability', 'prediction').show(10)"
   ]
  },
  {
   "cell_type": "code",
   "execution_count": null,
   "metadata": {
    "id": "UE-3nUfU94v-"
   },
   "outputs": [],
   "source": [
    "# # use save() method to save the model\n",
    "# # write().overwrite() is usually used when you want to replace the older model with a new one\n",
    "# # It might happen that you wish to retrain your model and save it at the same the place\n",
    "# lrpipelinemodel.write().overwrite().save(\"/FileStore/models/lrmodel\")"
   ]
  },
  {
   "cell_type": "code",
   "execution_count": null,
   "metadata": {
    "id": "V_SCuYvf-BU_"
   },
   "outputs": [],
   "source": [
    "# # import PipelineModel from pyspark.ml package\n",
    "# from pyspark.ml import PipelineModel\n",
    "\n",
    "# # load the model from the location it is stored\n",
    "# # The loaded model acts as PipelineModel\n",
    "# pipemodel = PipelineModel.load(\"/FileStore/models/lrmodel\")\n",
    "\n",
    "# # use the PipelineModel object to perform prediciton on test data. \n",
    "# # Use .transform() to perfrom prediction\n",
    "# prediction = pipemodel.transform(testDF)\n",
    "\n",
    "# # print the results\n",
    "# prediction.select('label', 'rawPrediction', 'probability', 'prediction').show(5)"
   ]
  },
  {
   "cell_type": "code",
   "execution_count": null,
   "metadata": {
    "id": "43vrL8rjvLGw"
   },
   "outputs": [],
   "source": []
  }
 ],
 "metadata": {
  "colab": {
   "collapsed_sections": [],
   "name": "House_Price_Prediction_Final.ipynb",
   "provenance": []
  },
  "kernelspec": {
   "display_name": "Python 3 (ipykernel)",
   "language": "python",
   "name": "python3"
  },
  "language_info": {
   "codemirror_mode": {
    "name": "ipython",
    "version": 3
   },
   "file_extension": ".py",
   "mimetype": "text/x-python",
   "name": "python",
   "nbconvert_exporter": "python",
   "pygments_lexer": "ipython3",
   "version": "3.10.5"
  }
 },
 "nbformat": 4,
 "nbformat_minor": 4
}
